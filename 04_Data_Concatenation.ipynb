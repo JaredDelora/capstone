{
 "cells": [
  {
   "cell_type": "markdown",
   "metadata": {},
   "source": [
    "# Capstone: Musical Recommender"
   ]
  },
  {
   "cell_type": "markdown",
   "metadata": {},
   "source": [
    "Kelly Slatery | US-DSI-10"
   ]
  },
  {
   "cell_type": "code",
   "execution_count": 1,
   "metadata": {},
   "outputs": [],
   "source": [
    "# Imports\n",
    "import numpy as np\n",
    "import pandas as pd"
   ]
  },
  {
   "cell_type": "code",
   "execution_count": 2,
   "metadata": {},
   "outputs": [],
   "source": [
    "# # Set view options\n",
    "# pd.set_option('display.max_rows', None)\n",
    "# pd.set_option('display.max_columns', None)\n",
    "# pd.set_option('display.width', None)\n",
    "# pd.set_option('display.max_colwidth', None)"
   ]
  },
  {
   "cell_type": "markdown",
   "metadata": {},
   "source": [
    "# Import Data"
   ]
  },
  {
   "cell_type": "markdown",
   "metadata": {},
   "source": [
    "#### allmusicals.com synposes"
   ]
  },
  {
   "cell_type": "code",
   "execution_count": 3,
   "metadata": {},
   "outputs": [
    {
     "data": {
      "text/plain": [
       "(196, 2)"
      ]
     },
     "execution_count": 3,
     "metadata": {},
     "output_type": "execute_result"
    }
   ],
   "source": [
    "allmusicals = pd.read_csv('./data/musical_synopses.csv')\n",
    "allmusicals.shape"
   ]
  },
  {
   "cell_type": "code",
   "execution_count": 4,
   "metadata": {},
   "outputs": [
    {
     "data": {
      "text/html": [
       "<div>\n",
       "<style scoped>\n",
       "    .dataframe tbody tr th:only-of-type {\n",
       "        vertical-align: middle;\n",
       "    }\n",
       "\n",
       "    .dataframe tbody tr th {\n",
       "        vertical-align: top;\n",
       "    }\n",
       "\n",
       "    .dataframe thead th {\n",
       "        text-align: right;\n",
       "    }\n",
       "</style>\n",
       "<table border=\"1\" class=\"dataframe\">\n",
       "  <thead>\n",
       "    <tr style=\"text-align: right;\">\n",
       "      <th></th>\n",
       "      <th>musical</th>\n",
       "      <th>synopsis</th>\n",
       "    </tr>\n",
       "  </thead>\n",
       "  <tbody>\n",
       "    <tr>\n",
       "      <th>0</th>\n",
       "      <td>les misérables</td>\n",
       "      <td>The musical takes place at the beginning of th...</td>\n",
       "    </tr>\n",
       "    <tr>\n",
       "      <th>1</th>\n",
       "      <td>the phantom of the opera</td>\n",
       "      <td>At the beginning of the XX century in the Pari...</td>\n",
       "    </tr>\n",
       "    <tr>\n",
       "      <th>2</th>\n",
       "      <td>hamilton</td>\n",
       "      <td>Can we call a thing more boring than the histo...</td>\n",
       "    </tr>\n",
       "    <tr>\n",
       "      <th>3</th>\n",
       "      <td>west side story</td>\n",
       "      <td>The two gangs – Jets, consisting of white &amp; Sh...</td>\n",
       "    </tr>\n",
       "    <tr>\n",
       "      <th>4</th>\n",
       "      <td>wicked</td>\n",
       "      <td>Good Witch Glinda of Oz country reported that ...</td>\n",
       "    </tr>\n",
       "  </tbody>\n",
       "</table>\n",
       "</div>"
      ],
      "text/plain": [
       "                    musical                                           synopsis\n",
       "0            les misérables  The musical takes place at the beginning of th...\n",
       "1  the phantom of the opera  At the beginning of the XX century in the Pari...\n",
       "2                  hamilton  Can we call a thing more boring than the histo...\n",
       "3           west side story  The two gangs – Jets, consisting of white & Sh...\n",
       "4                    wicked  Good Witch Glinda of Oz country reported that ..."
      ]
     },
     "execution_count": 4,
     "metadata": {},
     "output_type": "execute_result"
    }
   ],
   "source": [
    "allmusicals.head()"
   ]
  },
  {
   "cell_type": "code",
   "execution_count": 5,
   "metadata": {},
   "outputs": [
    {
     "data": {
      "text/plain": [
       "musical      0\n",
       "synopsis    19\n",
       "dtype: int64"
      ]
     },
     "execution_count": 5,
     "metadata": {},
     "output_type": "execute_result"
    }
   ],
   "source": [
    "allmusicals.isnull().sum()"
   ]
  },
  {
   "cell_type": "code",
   "execution_count": 6,
   "metadata": {
    "scrolled": true
   },
   "outputs": [
    {
     "data": {
      "text/plain": [
       "musical     0\n",
       "synopsis    0\n",
       "dtype: int64"
      ]
     },
     "execution_count": 6,
     "metadata": {},
     "output_type": "execute_result"
    }
   ],
   "source": [
    "# Fill null synopses with a space\n",
    "allmusicals.fillna(' ', inplace=True)\n",
    "allmusicals.isnull().sum()"
   ]
  },
  {
   "cell_type": "markdown",
   "metadata": {},
   "source": [
    "#### Wikipedia summaries"
   ]
  },
  {
   "cell_type": "code",
   "execution_count": 7,
   "metadata": {},
   "outputs": [
    {
     "data": {
      "text/plain": [
       "(196, 2)"
      ]
     },
     "execution_count": 7,
     "metadata": {},
     "output_type": "execute_result"
    }
   ],
   "source": [
    "wiki = pd.read_csv('./data/musical_summaries.csv')\n",
    "wiki.shape                "
   ]
  },
  {
   "cell_type": "code",
   "execution_count": 8,
   "metadata": {},
   "outputs": [
    {
     "data": {
      "text/html": [
       "<div>\n",
       "<style scoped>\n",
       "    .dataframe tbody tr th:only-of-type {\n",
       "        vertical-align: middle;\n",
       "    }\n",
       "\n",
       "    .dataframe tbody tr th {\n",
       "        vertical-align: top;\n",
       "    }\n",
       "\n",
       "    .dataframe thead th {\n",
       "        text-align: right;\n",
       "    }\n",
       "</style>\n",
       "<table border=\"1\" class=\"dataframe\">\n",
       "  <thead>\n",
       "    <tr style=\"text-align: right;\">\n",
       "      <th></th>\n",
       "      <th>musical</th>\n",
       "      <th>description</th>\n",
       "    </tr>\n",
       "  </thead>\n",
       "  <tbody>\n",
       "    <tr>\n",
       "      <th>0</th>\n",
       "      <td>Les Misérables</td>\n",
       "      <td>Les Misérables (; French pronunciation: ​[le m...</td>\n",
       "    </tr>\n",
       "    <tr>\n",
       "      <th>1</th>\n",
       "      <td>The Phantom of the Opera</td>\n",
       "      <td>The Phantom of the Opera is a musical with mus...</td>\n",
       "    </tr>\n",
       "    <tr>\n",
       "      <th>2</th>\n",
       "      <td>Hamilton</td>\n",
       "      <td>Hamilton is a musical with music, lyrics, and ...</td>\n",
       "    </tr>\n",
       "    <tr>\n",
       "      <th>3</th>\n",
       "      <td>West Side Story</td>\n",
       "      <td>West Side Story is a musical with a book by Ar...</td>\n",
       "    </tr>\n",
       "    <tr>\n",
       "      <th>4</th>\n",
       "      <td>Wicked</td>\n",
       "      <td>Wicked is a 2003 Broadway musical by Stephen S...</td>\n",
       "    </tr>\n",
       "  </tbody>\n",
       "</table>\n",
       "</div>"
      ],
      "text/plain": [
       "                    musical                                        description\n",
       "0            Les Misérables  Les Misérables (; French pronunciation: ​[le m...\n",
       "1  The Phantom of the Opera  The Phantom of the Opera is a musical with mus...\n",
       "2                  Hamilton  Hamilton is a musical with music, lyrics, and ...\n",
       "3           West Side Story  West Side Story is a musical with a book by Ar...\n",
       "4                    Wicked  Wicked is a 2003 Broadway musical by Stephen S..."
      ]
     },
     "execution_count": 8,
     "metadata": {},
     "output_type": "execute_result"
    }
   ],
   "source": [
    "wiki.head()"
   ]
  },
  {
   "cell_type": "code",
   "execution_count": 9,
   "metadata": {},
   "outputs": [
    {
     "data": {
      "text/plain": [
       "musical        0\n",
       "description    0\n",
       "dtype: int64"
      ]
     },
     "execution_count": 9,
     "metadata": {},
     "output_type": "execute_result"
    }
   ],
   "source": [
    "wiki.isnull().sum()"
   ]
  },
  {
   "cell_type": "markdown",
   "metadata": {},
   "source": [
    "# Clean Data"
   ]
  },
  {
   "cell_type": "code",
   "execution_count": 10,
   "metadata": {},
   "outputs": [
    {
     "data": {
      "text/plain": [
       "'Annie Get Your Gun is a musical with lyrics and music by Irving Berlin and a book by Dorothy Fields and her brother Herbert Fields. The story is a fictionalized version of the life of Annie Oakley (1860–1926), a sharpshooter who starred in Buffalo Bill\\'s Wild West, and her romance with sharpshooter Frank E. Butler (1847–1926).The 1946 Broadway production was a hit, and the musical had long runs in both New York (1,147 performances) and London, spawning revivals, a 1950 film version and television versions. Songs that became hits include \"There\\'s No Business Like Show Business\", \"Doin\\' What Comes Natur\\'lly\", \"You Can\\'t Get a Man with a Gun\", \"They Say It\\'s Wonderful\", and \"Anything You Can Do (I Can Do Better).\"\\n\\n\\n== History and background ==\\nDorothy Fields had the idea for a musical about Annie Oakley, to star her friend, Ethel Merman. Producer Mike Todd turned the project down, so Fields approached a new producing team, Richard Rodgers and Oscar Hammerstein II. After the success of their first musical collaboration, Oklahoma!, Rodgers and Hammerstein had decided to become producers of both their own theatrical ventures and those by other authors. They agreed to produce the musical and asked Jerome Kern to compose the music; Fields would write the lyrics, and she and her brother Herbert would write the book. Kern, who had been composing for movie musicals in Hollywood, returned to New York on November 2, 1945 to begin work on the score to Annie Get Your Gun, but three days later, he collapsed on the street due to a cerebral hemorrhage. Kern was hospitalized, and he died on November 11, 1945. The producers and Fields then asked Irving Berlin to write the musical\\'s score; Fields agreed to step down as lyricist, knowing that Berlin preferred to write both music and lyrics to his songs. Berlin initially declined to write the score, worrying that he would be unable to write songs to fit specific scenes in \"a situation show.\"  Hammerstein persuaded him to study the script and try writing some songs based on it, and within days, Berlin returned with the songs \"Doin\\' What Comes Naturally\", \"You Can\\'t Get a Man With a Gun\", and \"There\\'s No Business Like Show Business\". Berlin\\'s songs suited the story and Ethel Merman\\'s abilities, and he readily composed the rest of the score to Annie Get Your Gun. The show\\'s eventual hit song, \"There\\'s No Business Like Show Business,\" was almost left out of the show because Berlin mistakenly got the impression that Richard Rodgers did not like it. In imitation of the structure of Oklahoma! a secondary romance between two of the members of the Wild West Show was added to the musical during its development.According to some sources, the role of Annie was originally offered to Mary Martin, who turned it down. On opening night, she was represented by her husband, Richard Halliday. Upon his return home following the premiere, he informed her, \"You\\'re going to kill yourself!\" When time came to send out the post-Broadway national tour and Merman was unwilling to do it, Martin jumped at the chance, going on the road for approximately two years and belting out the songs, which had the effect of lowering her voice from its normal lyric-coloratura range to mezzo-soprano-alto. \\nFor the 1999 revival, Peter Stone revised the libretto, eliminating what were considered insensitive references to American Indians, including the songs \"Colonel Buffalo Bill\" and \"I\\'m An Indian Too\". Stone said, \"The big challenge is taking a book that was wonderfully crafted for its time and make it wonderfully crafted for our time... It was terribly insensitive...to Indians.... But it had to be dealt with in a way that was heartfelt and not obvious... In this case, it was with the permission of the heirs. They\\'re terribly pleased with it.\" Stone also altered the structure of the musical, beginning it with \"There\\'s No Business Like Show Business\" and presenting the musical as a \"show within a show\".\\n\\n\\n== Plot summary ==\\n\\n\\n=== Act I ===\\nWhen the traveling Buffalo Bill\\'s Wild West show visits Cincinnati, Ohio (\"Colonel Buffalo Bill\"),  Frank Butler, the show\\'s handsome, womanizing star (\"I\\'m a Bad, Bad, Man\"), challenges anyone in town to a shooting match. Foster Wilson, a local hotel owner, doesn\\'t appreciate the Wild West show taking over his hotel, so Frank gives him a side bet of one hundred dollars on the match. Annie Oakley enters and shoots a bird off Dolly Tate\\'s hat, and then explains her simple backwoods ways to Wilson with the help of her siblings (\"Doin\\' What Comes Natur\\'lly\"). When Wilson learns she\\'s a brilliant shot, he enters her in the shooting match against Frank Butler.\\nWhile waiting for the match to start, Annie meets Frank Butler and is instantly smitten with him, not knowing he will be her opponent. When she asks Frank if he likes her, Frank explains that the girl he wants will \"wear satin... and smell of cologne\" (\"The Girl That I Marry\"). The rough and naive Annie comically laments that \"You Can\\'t Get a Man with a Gun.\" At the shooting match, Annie finds out that Frank is the \"big swollen-headed stiff\" from the Wild West show. She wins the contest, and Buffalo Bill and Charlie Davenport, the show\\'s manager, invite Annie to join the Wild West Show. Annie agrees because she loves Frank even though she has no idea what \"show business\" is. Frank, Charlie, and Buffalo Bill explain that \"There\\'s No Business Like Show Business.\"\\nOver the course of working together, Frank becomes enamored of the plain-spoken, honest, tomboyish Annie and, as they travel to Minneapolis, Minnesota on a train, he explains to her what \"love\" is (\"They Say It\\'s Wonderful\"). Buffalo Bill and Charlie discover that their rival, Pawnee Bill\\'s Far East Show, will be playing in Saint Paul, Minnesota while the Wild West show plays in nearby Minneapolis. They ask Annie to do a special shooting stunt on a motorcycle to draw Pawnee Bill\\'s business away. Annie agrees because the trick will surprise Frank. She sings her siblings to sleep with the \"Moonshine Lullaby.\"\\nAs Annie and Frank prepare for the show, Frank plans to propose to Annie after the show and then ruefully admits that \"My Defenses Are Down\". When Annie performs her trick and becomes a star, Chief Sitting Bull adopts her into the Sioux tribe (\"I\\'m An Indian Too\"). Hurt and angry, Frank walks out on Annie and the show, joining the competing Pawnee Bill\\'s show.\\n\\n\\n=== Act II ===\\nReturning to New York from a tour of Europe with the Buffalo Bill show, Annie learns that the show has gone broke.  Sitting Bull, Charlie, and Buffalo Bill plot to merge Buffalo Bill\\'s show with Pawnee Bill\\'s as they believe that show is doing well financially. Annie, now well-dressed and more refined and worldly, still longs for Frank (\"I Got Lost in His Arms\").\\nAt a grand reception for Buffalo Bill\\'s troupe at the Hotel Brevoort, Pawnee Bill, Dolly, and Frank also plot a merger of the two companies, assuming Buffalo Bill\\'s show made a fortune touring Europe. When they all meet, they soon discover both shows are broke. Annie, however, has received sharpshooting medals from all the rulers of Europe worth one hundred thousand dollars, and she decides to sell the medals to finance the merger, rejoicing in the simple things (\"I Got the Sun in the Mornin\\'\").  When Frank appears, he and Annie confess their love and decide to marry, although with comically different ideas: Frank wants \"some little chapel,\" while Annie wants \"A wedding in a big church with bridesmaids and flower girls/ A lot of ushers in tail coats/ Reporters and photographers\" (\"An Old-Fashioned Wedding\"o). When Annie shows Frank her medals, Frank again has his pride hurt.  They call off the merger and the wedding, but challenge each other to one last shooting match to decide who is the best shot.\\nOn the ferry to the Governors Island match site, Dolly attempts to ruin Annie\\'s chances by tampering with her guns.  She is caught and stopped by Sitting Bull and Charlie.  However, they then decide to follow through with Dolly\\'s plan so that Annie will lose the match, knowing that would soothe Frank\\'s ego allowing the two to reconcile and the merger to take place.\\nAs the match is ready to begin, Annie and Frank\\'s egos come out again with each claiming they are better than the other (\"Anything You Can Do\"). Sitting Bull convinces Annie to deliberately lose the match to Frank, reminding her that she \"can\\'t get a man with a gun.\"  That done, Frank and Annie finally reconcile, deciding to marry and merge the shows.\\nNotes:\\n\\nThis description is based on the 1966 revised book.\\nIn the 1999 book, Frank also deliberately misses his shots in the final match, which ends in a tie.\\no written for 1966 revision and included in 1999 Broadway Revival; not in the original production\\n§ omitted from the 1999 Broadway Revival\\n\\n\\n== Characters ==\\nAnnie Oakley—a sharpshooter in the Wild West show\\nFrank Butler—the Wild West show\\'s star\\nDolly Tate—Frank\\'s flamboyant assistant; Winnie\\'s sister (Charlie\\'s sister in the 1966 version)\\nBuffalo Bill—owner of the Wild West show\\nChief Sitting Bull—Sioux chief and holy man; Annie\\'s protector\\nTommy Keeler§—knife-thrower in the Wild West show; Winnie\\'s boyfriend; part Native American (not in the \\'66 version)\\nCharlie Davenport—manager of the Wild West show\\nWinnie Tate§—Dolly\\'s sister; Tommy\\'s girlfriend and his assistant in the knife-throwing act (not in the \\'66 version)\\nPawnee Bill—owner of a competing western show\\nFoster Wilson—hotel owner\\nAnnie\\'s brothers and sisters: Jessie, Nellie, Little Jake, and Minnie (Minnie was written out of the 1999 revival)Notes\\n\\n§Tommy and Winnie and their songs were written out of the film & 1966 revision. The 1999 revival restored their characters and songs.\\n\\n\\n== Musical numbers ==\\n\\n\\n=== Original 1946 production ===\\n\\nNotes§: omitted from the 1950 film version\\n\"Let\\'s Go West Again\" was written by Berlin for the 1950 film but was not used. However, there are recordings by both Betty Hutton and Judy Garland.\\n\"Take It in Your Stride\" was a solo for Annie written for the original production. It was replaced by a reprise of \"There\\'s No Business Like Show Business\" when Merman found the number too difficult. It was recorded by Liz Larsen for the album Lost in Boston.\\n\\n\\n=== 1999 revival ===\\n\\n\"An Old-Fashioned Wedding\" was written by Berlin for the 1966 revision, sung by Annie and Frank, and was also included in the 1999 revival\\n\\n\\n== Productions ==\\n\\n\\n=== Original productions ===\\nAnnie Get Your Gun premiered on Broadway at the Imperial Theatre on May 16, 1946 and ran for 1,147 performances. Directed by Joshua Logan, the show starred Ethel Merman as Annie, Ray Middleton as Frank Butler, Lea Penman as Dolly Tate, Art Bernett as Foster Wilson, Harry Bellaver as Chief Sitting Bull, Kenneth Bowers as Tommy Keeler, Marty May as Charlie Davenport and William O\\'Neal as Buffalo Bill.\\nThe musical toured the U.S. from October 3, 1947, starting in Dallas, Texas with Mary Martin as Annie. This tour also played Chicago and Los Angeles. Martin stayed with the tour until mid-1948.\\nThe show had its West End premiere on June 7, 1947 at the London Coliseum where it ran for 1,304 performances. Dolores Gray played Annie with Bill Johnson as Frank.\\nThe first Australian production opened at His Majesty\\'s Theatre in Melbourne on July 19, 1947. It starred Evie Hayes as Annie with Webb Tilton as Frank.\\nA French version, Annie du Far-West, starring Marcel Merkes and Lily Fayol, began production at the Théâtre du Châtelet in Paris on 19 February 1950 and ran for over a year.\\n\\n\\n=== 1966 Broadway revival ===\\nThe show had its first Broadway revival in 1966 at the Music Theater of Lincoln Center. This production opened on May 31, 1966 and ran until July 9, followed by a short 10-week U.S. Tour. It returned to Broadway at the Broadway Theatre on September 21 for 78 performances. Ethel Merman reprised her original role as Annie with Bruce Yarnell as Frank, Benay Venuta as Dolly, and Jerry Orbach as Charles Davenport. The libretto and score were revised: The secondary romance between Tommy Keeler and Winnie Tate was completely eliminated, including their songs \"I\\'ll Share it All With You\" and \"Who Do You Love, I Hope?\", and the song \"An Old-Fashioned Wedding\" was specially written for the revival and added to the second act. This version of the show is available for licensing for amateur performances. This production was telecast in an abbreviated ninety-minute version by NBC on March 19, 1967 and is the only musical revived at Lincoln Center during the 1960s to be telecast.\\n\\n\\n=== 1973 Shady Grove Music Fair production ===\\nJay Harnick directed a revival at the Shady Grove Music Fair starring Barbara Eden, John Bennett Perry and Sandra Peabody that ran from 1973 to 1974.\\n\\n\\n=== 1976 Mexican production ===\\nIn 1976 a Spanish-language version was produced in Mexico City with the name of Annie es un tiro. It was directed by José Luis Ibáñez and starred by Mexican film star Silvia Pinal. The production was represented at the Teatro Hidalgo and was co starred by the actor and singer Manuel López Ochoa. The success of the production produced the first Spanish-language version of the musical\\'s soundtrack.\\n\\n\\n=== 1977 Los Angeles Civic Light Opera production ===\\nIn 1977, Gower Champion directed a revival for the Los Angeles Civic Light Opera starring Debbie Reynolds as Annie. The Assistant Director was  James Mitchell. Harve Presnell, Reynolds\\'s former co-star in the 1964 film The Unsinkable Molly Brown, played Frank Butler. The cast featured  Art Lund as Buffalo Bill, Bibi Osterwald as Dolly Tate, Gavin MacLeod as Charlie Davenport,\\nPeter Bruni as Foster Wilson, Don Potter as Pawnee Bill, and Manu Tupou as Sitting Bull. The cast also included Trey Wilson and Debbie Shapiro. The production later toured various North American cities, but never ran on Broadway, its planned destination.\\n\\n\\n=== 1986 UK tour and London revival ===\\nIn 1986, a David Gilmore Chichester Festival Theatre production, with American rock star Suzi Quatro as Annie and Eric Flynn as Frank, opened at the Chichester Festival Theatre. It moved to the Theatre Royal, Plymouth, and then to the Aldwych Theatre in London\\'s West End where it played from July 29 to October 4. The cast recorded an album, Annie Get Your Gun - 1986 London Cast and Quatro\\'s songs \"I Got Lost in His Arms\"/\"You Can\\'t Get a Man with a Gun\" were released as a single. Since then \"I Got Lost in His Arms\" has also been included in the compilation albums The Divas Collection (2003) and Songs from the Greatest Musicals (2008).\\n\\n\\n=== 1992 London revival ===\\nA short-lived London production ran at the Prince of Wales Theatre in the West End, starring Kim Criswell as Annie. Criswell\\'s studio cast recording of the show - made with Thomas Hampson and conductor John McGlinn - provided the impetus for the production.  Pippa Ailion was the Casting Director for this production.\\n\\n\\n=== 1999 Broadway revival ===\\nIn 1999, a new production had its pre-Broadway engagement at the Kennedy Center, Washington, D.C., from December 29, 1998 to January 24, 1999. Previews began on  Broadway on February 2, 1999 at the Marquis Theatre, with an official opening on March 4, 1999, and closed on September 1, 2001 after 35 previews and 1,045 performances.\\nThis revival starred Bernadette Peters as Annie and Tom Wopat as Frank, and Ron Holgate as Buffalo Bill, with direction by Graciela Daniele, choreography by Jeff Calhoun, and music arrangements by John McDaniel. Peters won the 1999 Tony Award for Best Leading Actress in a Musical and the production won the Tony for Best Revival of a Musical.\\nThis production had a revised book by Peter Stone and new orchestrations, and was structured as a \"show-within-a-show\", set as a Big Top travelling circus. \"Frank Butler\" is alone on stage and Buffalo Bill introduces the main characters, singing \"There\\'s No Business Like Show Business\", which is reprised when \"Annie\" agrees to join the traveling Wild West show. The production dropped several songs (including \"Colonel Buffalo Bill\", \"I\\'m A Bad, Bad Man\", and \"I\\'m an Indian Too\"), but included \"An Old-Fashioned Wedding\". There were several major dance numbers added, including a ballroom scene. A sub-plot which had been dropped from the 1966 revival, the romance between Winnie and Tommy, her part-Native-American boyfriend, was also included. In the 1946 production, Winnie was Dolly\\'s daughter, but the 1966 &1999 productions she is Dolly\\'s younger sister. In this version, the final shooting match between Annie and Frank ends in a tie.\\n\\n\\n==== Notable replacements ====\\nWhile Peters was on vacation, All My Children star Susan Lucci made her Broadway debut as Annie from December 27, 1999 until Jan. 16, 2000. Peters and Wopat left the show on September 2, 2000. Former Charlie\\'s Angels star Cheryl Ladd made her Broadway debut as Annie on September 6, 2000, with Patrick Cassidy as Frank Butler. Country music superstar  Reba McEntire made her Broadway debut as Annie from January 26, 2001 to June 22, 2001 opposite Brent Barrett as Frank. On June 23, 2001, Crystal Bernard, who had been playing Annie in the national tour of Annie Get Your Gun, assumed the role of Annie in the Broadway production.\\n\\n\\n=== 2000 U.S. tour ===\\nThe 1999 Broadway production, in a \"slightly revised version\", toured in a U.S. national tour starting in Dallas, Texas on July 25, 2000 with Marilu Henner and Rex Smith. Tom Wopat joined the tour in late October 2000, replacing Smith.\\n\\n\\n=== 2006 Prince Music Theater production ===\\nIn 2006, the Prince Music Theater of Philadelphia, Pennsylvania, revived the 1966 Lincoln Center Theater version for one month. This production starred  Andrea McArdle (the original Annie of the 1977 Broadway musical Annie), Jeffrey Coon as Frank Butler, John Scherer as Charlie Davenport, Chris Councill as Buffalo Bill, Mary Martello as Dolly Tate, and Arthur Ryan as Sitting Bull. The production was well received by critics. The production was directed by Richard M. Parison, Jr. and choreographed by Mercedes Ellington.\\n\\n\\n=== 2009 London revival ===\\nJane Horrocks, Julian Ovenden and director Richard Jones mounted a major London revival at the Young Vic, Waterloo. The show opened at the off west end venue on 16 October 2009, initially booking until 2 January 2010 but with an extra week added due to popular demand. The production featured new arrangements by Jason Carr for a band consisting four pianos. London\\'s Guardian newspaper awarded the show 5 stars, claiming that \"Richard Jones\\'s brilliant production offers the wittiest musical staging London has seen in years.\" \\n\\n\\n=== 2010 Ravinia Festival concert ===\\nA concert staging of the original version of Annie Get Your Gun took place at the Ravinia Festival, Chicago from August 13–15, 2010 to celebrate the 150th anniversary of Annie Oakley\\'s birth. Directed by Lonny Price, the concert starred Patti LuPone as Annie, Patrick Cassidy as Frank and George Hearn as Buffalo Bill. The concert received unanimously strong reviews, notably for LuPone and Price\\'s direction.\\n\\n\\n=== Other major productions ===\\nLucie Arnaz starred in a production in the summer of 1978 with Harve Presnell at the Jones Beach Theater in Nassau County, New York. This was the first major production of the musical done in the New York area after the 1966 revival.\\nThe Paper Mill Playhouse produced a well-reviewed production in June 1987 starring Judy Kaye as Annie and Richard White as Frank.In 2004, Marina Prior and Scott Irwin starred in an Australian production of the 1999 Broadway rewrite of the show.\\nIn 2014 Carter Calvert and David Weitzer starred in a production that opened the Algonquin Arts Theatre\\'s 2014-2015 Broadway Season. It was also the first show to be performed after the Algonquin underwent the task of installing new seating which had not been done since 1938.\\nIn October 2015, a two night concert version was presented at the New York City Center Gala starring Megan Hilty (Annie Oakley) and Andy Karl (Frank Butler). The concerts are directed by John Rando, and the cast features Judy Kaye (Dolly Tate), Ron Raines (Buffalo Bill), Brad Oscar (Charlie) and Chuck Cooper (Pawnee Bill).\\n\\n\\n== Film and television versions ==\\nIn 1950, Metro Goldwyn Mayer made a well-received movie version of the musical. Although MGM purchased the rights to the film version with an announced intention of starring legendary singer-actress  Judy Garland as Annie, early work on the film was plagued with difficulties, some attributed to Garland\\'s health. Garland was fired and replaced by the brassier, blonde Betty Hutton.\\nIn 1957, a production starring Mary Martin as Annie and John Raitt as Frank Butler was broadcast on NBC. In 1967, the Lincoln Center production described above, starring Ethel Merman and Bruce Yarnell, was broadcast on NBC. The Mary Martin version has been re-broadcast sporadically over the years, but the 1967 videotapes starring Ethel Merman have apparently been irretrievably lost. Only a video and audio clip of \"I Got the Sun in the Mornin\\' (and the Moon at Night)\" is known to exist, as does an audio-only recording of the entire 90-minute show.\\n\\n\\n== Recordings ==\\nThere are several recordings of the Annie Get Your Gun score, including:\\n\\n1946 Original Broadway Cast: an original cast recording was released by Decca Records in 1946, featuring the cast of the original 1946 Broadway production. The principal stars were Ethel Merman and Ray Middleton. The album was added to the Grammy Hall of Fame in 1998.\\n1957 TV Cast: a recording based on the TV version shown in 1957, with Mary Martin and John Raitt.\\n1963 Studio Cast featuring Doris Day and Robert Goulet: not based on a theatre production.\\n1966 Broadway Revival Cast\\n1976 Spanish-language version with Mexican cast.\\n1986 1986 London Cast\\n1991 Studio Cast\\n1999 Broadway Revival Cast (Grammy Award)Conductor John Owen Edwards along with JAY Records recorded the first ever complete recording, with all musical numbers, scene change music and incidental music, of the show\\'s score in the 1990s with Judy Kaye and Barry Bostwick. Christopher Lee had the role of Sitting Bull.\\n\\n\\n== Reception ==\\nThe original Broadway production opened to favorable reviews. Critics unanimously praised Ethel Merman\\'s performance as Annie Oakley, though some thought the score and book were not particularly distinguished. John Chapman of the Daily News declared that the production had \"good lyrics and tunes by Irving Berlin...[and] the razzle-dazzle atmosphere of a big-time show\" but pronounced Merman the best part of the show, stating \"She is a better comedienne than she ever was before\", stating that \"Annie is a good, standard, lavish, big musical and I\\'m sure it will be a huge success--but it isn\\'t the greatest show in the world\". Louis Kronenberger of PM stated that the show was \\'in many ways routine\", but greatly praised Merman\\'s performance, opining, \"For me, Annie is mainly Miss Merman\\'s show, though the rest of it is competent enough of its kind...Irving Berlin\\'s score is musically not exciting--of the real songs, only one or two are tuneful\".Ward Morehouse of The New York Sun declared, \"The big news about Annie Get Your Gun is that it reveals Ethel Merman in her best form since Anything Goes...She shouts the Berlin music with good effect. She often comes to the aid of a sagging book\". He stated, \"Irving Berlin\\'s score is not a notable one, but his tunes are singable and pleasant and his lyrics are particularly good. The book? It\\'s on the flimsy side, definitely. And rather witless too\". Lewis Nichols of The New York Times said, \"It has a pleasant score by Irving Berlin...and it has Ethel Merman to roll her eyes and to shout down the rafters. The colors are pretty, the dancing is amiable and unaffected, and Broadway by this time is well used to a book which doesn\\'t get anywhere in particular\".However, the show itself was greatly lauded by some critics: Vernon Rice of the New York Post proclaimed, \"Irving Berlin has outdone himself this time. No use trying to pick a hit tune, for all the tunes are hits...Ethel Merman is at her lusty, free and easy best...She is now able to develop a consistent characterization and stay with it to the show\\'s end. And when she opens her mouth to sing, she sings!\" William Hawkins of the New York World-Telegram said that Merman was \"bright as a whip, sure as her shooting, and generously the foremost lady clown of her time\" and asserted that the show itself was comparable to those of Rodgers and Hammerstein, proclaiming, \"For verve and buoyancy, unslackening, there has seldom if ever been a show like it...the girls in Annie have the beauty and character of looks one associates with a Rodgers and Hammerstein show. And the production has in every way the distinction that has become their hallmark\".Historians have viewed the show as inaccurate, citing among other reasons its portrayal of Annie as a loud, boisterous character, when in reality she had a quiet personality and did needlepoint in her spare time.\\n\\n\\n== Redface ==\\nNative Americans have criticized the shows portrayal of Redface and promotion of cultural stereotypes. Particularly in the song \"I\\'m an Indian Too\" sung by Annie after Sitting Bull adopts her into the Sioux tribe.\\nNative Americans did protest outside the New York theatre, as well as movie theaters, holding picket signs stating: \"Don\\'t See \"Annie Get Your Gun\". As a result of this reaction, many contemporary productions have omitted the song from their revivals, and the protests stopped.\\n\\n\\n== Awards and nominations ==\\nMary Martin received a Special Tony Award in 1948 for \"Spreading Theatre to the Country While the Originals Perform in New York\" (1947-48 US Tour)\\n\\n\\n=== 1966 Broadway revival ===\\n\\n\\n=== 1999 Broadway revival ===\\n\\n\\n=== 2009 London revival ===\\n\\n\\n== Notes ==\\n\\n\\n== References ==\\nBloom, Ken and Vlastnik, Frank (2004). Broadway Musicals: The 101 Greatest Shows of all Time. New York: Black Dog & Leventhal Publishers. ISBN 1-57912-390-2\\nKantor, Michael, and Maslon, Laurence (2004). Broadway: The American Musical. New York: Bullfinch Press. ISBN 0-8212-2905-2\\nNolan, Frederick (2002).  The Sound of Their Music: The Story of Rodgers and Hammerstein.  Cambridge, Mass.:  Applause Theatre and Cinema Books.  ISBN 978-1-55783-473-7.\\nSuskin, Stephen (1990). Opening Night on Broadway: A Critical Quotebook of the Golden Era of the Musical Theatre. New York: Schrimmer Books. ISBN 0-02-872625-1.\\nAnnie Get Your Gun plot summary & character descriptions from StageAgent.com\\nThe Judy Garland Online Discography \"Annie Get Your Gun\" pages.\\nListing at the RNH site\\n1999 Revival at RNH\\n\\'Annie Get Your Gun\\' Story, Cast, Scenes and Settings  at guidetomusicaltheatre.com\\n\\n\\n== External links ==\\nAnnie Get Your Gun at the Internet Broadway Database\\nAnnie Get Your Gun (1957) (TV) on IMDb (Mary Martin)\\nAnnie Get Your Gun (1967) (TV) on IMDb (Ethel Merman)\\nCurtain Up reviews from 2/8/01 and 3/9/99'"
      ]
     },
     "execution_count": 10,
     "metadata": {},
     "output_type": "execute_result"
    }
   ],
   "source": [
    "# Look at a description\n",
    "wiki['description'][60]"
   ]
  },
  {
   "cell_type": "code",
   "execution_count": 11,
   "metadata": {},
   "outputs": [
    {
     "name": "stdout",
     "output_type": "stream",
     "text": [
      "196\n",
      "['Finding Neverland', 'Chitty Chitty Bang Bang', 'Grey Gardens', 'Flower Drum Song', 'Tarzan of the Apes', \"Ain't Misbehavin'\", 'Fosse', \"Movin' Out\", 'Cyrano', \"Dancin'\"]\n"
     ]
    }
   ],
   "source": [
    "# From look at wikipedia.com results, extract only synopsis/plot section from wikipedia summaries\n",
    "plot_summaries = []\n",
    "no_summary = []\n",
    "\n",
    "for i, summ in enumerate(wiki['description']):\n",
    "    if '== synopsis' in summ.lower():\n",
    "        synopsis = summ.split('== Synopsis')[1]\n",
    "        synopsis = synopsis.split('\\n== ')[0]\n",
    "        synopsis = synopsis.replace('\\n', '').replace('=', '')\n",
    "        plot_summaries.append(synopsis)\n",
    "    elif '== plot' in summ.lower():\n",
    "        synopsis = summ.split('== Plot')[1]\n",
    "        synopsis = synopsis.split('\\n== ')[0]\n",
    "        synopsis = synopsis.replace('\\n', '').replace('=', '')\n",
    "        plot_summaries.append(synopsis)\n",
    "    elif '== sketches' in summ.lower():\n",
    "        synopsis = summ.split('== Sketches')[1]\n",
    "        synopsis = synopsis.split('\\n== ')[0]\n",
    "        synopsis = synopsis.replace('\\n', '').replace('=', '')\n",
    "        plot_summaries.append(synopsis)\n",
    "    else:\n",
    "        plot_summaries.append(' ')\n",
    "        no_summary.append(wiki.loc[i, 'musical'])\n",
    "        \n",
    "print(len(plot_summaries))\n",
    "print(no_summary)"
   ]
  },
  {
   "cell_type": "code",
   "execution_count": 12,
   "metadata": {},
   "outputs": [],
   "source": [
    "# Append filtered synopses to wiki dataframe\n",
    "wiki['plot_summary'] = plot_summaries"
   ]
  },
  {
   "cell_type": "code",
   "execution_count": 13,
   "metadata": {
    "scrolled": true
   },
   "outputs": [
    {
     "data": {
      "text/plain": [
       "array(['grease', 'beauty and the beast', 'cinderella', 'porgy and bess',\n",
       "       'once', 'pajama game', 'bonnie & clyde', 'beetlejuice',\n",
       "       'tuck everlasting', \"dr. seuss' how the grinch stole christmas!\",\n",
       "       'oh! calcutta!', 'dogfight', 'twisted', 'shenandoah', 'coco',\n",
       "       'cyrano', 'ballroom', 'the magic show', \"dancin'\"], dtype=object)"
      ]
     },
     "execution_count": 13,
     "metadata": {},
     "output_type": "execute_result"
    }
   ],
   "source": [
    "# Look at all musicals with no synopsis from allmusicals.com\n",
    "allmusicals.loc[allmusicals['synopsis'] == ' ', 'musical'].values"
   ]
  },
  {
   "cell_type": "code",
   "execution_count": 14,
   "metadata": {
    "scrolled": true
   },
   "outputs": [
    {
     "name": "stdout",
     "output_type": "stream",
     "text": [
      "Cyrano has no synopsis.\n",
      "Dancin' has no synopsis.\n"
     ]
    }
   ],
   "source": [
    "# Compare missing synopses between allmusicals & wikipedia\n",
    "remove_for_now = []\n",
    "for musical in no_summary:\n",
    "    if musical.lower() in allmusicals.loc[allmusicals['synopsis'] == ' ', 'musical'].values:\n",
    "        remove_for_now.append(musical)\n",
    "        print(f'{musical} has no synopsis.')"
   ]
  },
  {
   "cell_type": "markdown",
   "metadata": {},
   "source": [
    "# Concatenate Data"
   ]
  },
  {
   "cell_type": "code",
   "execution_count": 15,
   "metadata": {},
   "outputs": [],
   "source": [
    "# Rename wiki's 'musical' column\n",
    "wiki.rename(columns={'musical': 'name'}, inplace=True)"
   ]
  },
  {
   "cell_type": "code",
   "execution_count": 16,
   "metadata": {
    "scrolled": true
   },
   "outputs": [],
   "source": [
    "# Combine dataframes\n",
    "df = pd.concat([wiki, allmusicals], axis=1).drop(columns=['description', 'musical'])"
   ]
  },
  {
   "cell_type": "code",
   "execution_count": 17,
   "metadata": {
    "scrolled": true
   },
   "outputs": [],
   "source": [
    "# Remove rows for above musicals with no summary from either source\n",
    "df = df[~df['name'].isin(remove_for_now)]"
   ]
  },
  {
   "cell_type": "code",
   "execution_count": 18,
   "metadata": {},
   "outputs": [
    {
     "data": {
      "text/html": [
       "<div>\n",
       "<style scoped>\n",
       "    .dataframe tbody tr th:only-of-type {\n",
       "        vertical-align: middle;\n",
       "    }\n",
       "\n",
       "    .dataframe tbody tr th {\n",
       "        vertical-align: top;\n",
       "    }\n",
       "\n",
       "    .dataframe thead th {\n",
       "        text-align: right;\n",
       "    }\n",
       "</style>\n",
       "<table border=\"1\" class=\"dataframe\">\n",
       "  <thead>\n",
       "    <tr style=\"text-align: right;\">\n",
       "      <th></th>\n",
       "      <th>name</th>\n",
       "      <th>plot_summary</th>\n",
       "      <th>synopsis</th>\n",
       "    </tr>\n",
       "  </thead>\n",
       "  <tbody>\n",
       "    <tr>\n",
       "      <th>189</th>\n",
       "      <td>Redhead</td>\n",
       "      <td>In Victorian London, the plain Essie Whimple ...</td>\n",
       "      <td>The action of the performance takes place in V...</td>\n",
       "    </tr>\n",
       "    <tr>\n",
       "      <th>190</th>\n",
       "      <td>Passing Strange</td>\n",
       "      <td>summary  Act I The Narrator introduces himsel...</td>\n",
       "      <td>Storyteller told viewers about a life story of...</td>\n",
       "    </tr>\n",
       "    <tr>\n",
       "      <th>191</th>\n",
       "      <td>New girl in town</td>\n",
       "      <td>Anna, a former streetwalker recovering from t...</td>\n",
       "      <td>New York. The beginning of XX century. The cap...</td>\n",
       "    </tr>\n",
       "    <tr>\n",
       "      <th>192</th>\n",
       "      <td>Grind</td>\n",
       "      <td>Summary The PrologueThe singers, dancers, com...</td>\n",
       "      <td>The story begins in the theater. Not ordinary ...</td>\n",
       "    </tr>\n",
       "    <tr>\n",
       "      <th>193</th>\n",
       "      <td>Big Deal</td>\n",
       "      <td>In Chicago in the 1930s a group of small-time...</td>\n",
       "      <td>The story of this musical is almost complete r...</td>\n",
       "    </tr>\n",
       "  </tbody>\n",
       "</table>\n",
       "</div>"
      ],
      "text/plain": [
       "                 name                                       plot_summary  \\\n",
       "189           Redhead   In Victorian London, the plain Essie Whimple ...   \n",
       "190   Passing Strange   summary  Act I The Narrator introduces himsel...   \n",
       "191  New girl in town   Anna, a former streetwalker recovering from t...   \n",
       "192             Grind   Summary The PrologueThe singers, dancers, com...   \n",
       "193          Big Deal   In Chicago in the 1930s a group of small-time...   \n",
       "\n",
       "                                              synopsis  \n",
       "189  The action of the performance takes place in V...  \n",
       "190  Storyteller told viewers about a life story of...  \n",
       "191  New York. The beginning of XX century. The cap...  \n",
       "192  The story begins in the theater. Not ordinary ...  \n",
       "193  The story of this musical is almost complete r...  "
      ]
     },
     "execution_count": 18,
     "metadata": {},
     "output_type": "execute_result"
    }
   ],
   "source": [
    "# Reset index\n",
    "df.reset_index(drop=True, inplace=True)\n",
    "df.tail()"
   ]
  },
  {
   "cell_type": "markdown",
   "metadata": {},
   "source": [
    "# Export Data"
   ]
  },
  {
   "cell_type": "code",
   "execution_count": 19,
   "metadata": {},
   "outputs": [],
   "source": [
    "df.to_csv('./data/musical_data.csv', index=False)"
   ]
  },
  {
   "cell_type": "code",
   "execution_count": null,
   "metadata": {},
   "outputs": [],
   "source": []
  }
 ],
 "metadata": {
  "kernelspec": {
   "display_name": "Python 3",
   "language": "python",
   "name": "python3"
  },
  "language_info": {
   "codemirror_mode": {
    "name": "ipython",
    "version": 3
   },
   "file_extension": ".py",
   "mimetype": "text/x-python",
   "name": "python",
   "nbconvert_exporter": "python",
   "pygments_lexer": "ipython3",
   "version": "3.7.6"
  }
 },
 "nbformat": 4,
 "nbformat_minor": 4
}
