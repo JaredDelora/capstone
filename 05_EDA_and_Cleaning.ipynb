{
 "cells": [
  {
   "cell_type": "markdown",
   "metadata": {},
   "source": [
    "# Capstone: Musical Recommender"
   ]
  },
  {
   "cell_type": "markdown",
   "metadata": {},
   "source": [
    "Kelly Slatery | US-DSI-10"
   ]
  },
  {
   "cell_type": "code",
   "execution_count": 322,
   "metadata": {},
   "outputs": [],
   "source": [
    "# Imports\n",
    "import numpy as np\n",
    "import pandas as pd\n",
    "import seaborn as sns\n",
    "import matplotlib.pyplot as plt\n",
    "\n",
    "import nltk\n",
    "from nltk.stem import WordNetLemmatizer\n",
    "from nltk.stem.porter import PorterStemmer\n",
    "from sklearn.feature_extraction.text import CountVectorizer, TfidfVectorizer\n",
    "from sklearn.model_selection import train_test_split\n",
    "from sklearn.cluster import DBSCAN, KMeans\n",
    "from sklearn.metrics import silhouette_score\n",
    "from sklearn.preprocessing import StandardScaler\n",
    "from sklearn.decomposition import PCA\n",
    "from sklearn.metrics.pairwise import cosine_similarity\n",
    "from scipy import sparse\n",
    "import gensim\n",
    "from gensim.models import Word2Vec\n",
    "import time\n",
    "\n",
    "import spacy"
   ]
  },
  {
   "cell_type": "markdown",
   "metadata": {},
   "source": [
    "# Import Data"
   ]
  },
  {
   "cell_type": "code",
   "execution_count": 18,
   "metadata": {},
   "outputs": [
    {
     "data": {
      "text/plain": [
       "(196, 3)"
      ]
     },
     "execution_count": 18,
     "metadata": {},
     "output_type": "execute_result"
    }
   ],
   "source": [
    "df = pd.read_csv('./data/musical_data.csv')\n",
    "df.shape"
   ]
  },
  {
   "cell_type": "code",
   "execution_count": 19,
   "metadata": {},
   "outputs": [
    {
     "data": {
      "text/html": [
       "<div>\n",
       "<style scoped>\n",
       "    .dataframe tbody tr th:only-of-type {\n",
       "        vertical-align: middle;\n",
       "    }\n",
       "\n",
       "    .dataframe tbody tr th {\n",
       "        vertical-align: top;\n",
       "    }\n",
       "\n",
       "    .dataframe thead th {\n",
       "        text-align: right;\n",
       "    }\n",
       "</style>\n",
       "<table border=\"1\" class=\"dataframe\">\n",
       "  <thead>\n",
       "    <tr style=\"text-align: right;\">\n",
       "      <th></th>\n",
       "      <th>name</th>\n",
       "      <th>plot_summary</th>\n",
       "      <th>synopsis</th>\n",
       "    </tr>\n",
       "  </thead>\n",
       "  <tbody>\n",
       "    <tr>\n",
       "      <th>0</th>\n",
       "      <td>Les Misérables</td>\n",
       "      <td>Act I In 1815 France, prisoners work at hard...</td>\n",
       "      <td>The musical takes place at the beginning of th...</td>\n",
       "    </tr>\n",
       "    <tr>\n",
       "      <th>1</th>\n",
       "      <td>The Phantom of the Opera</td>\n",
       "      <td>Prologue In 1911 Paris, the Paris Opéra host...</td>\n",
       "      <td>At the beginning of the XX century in the Pari...</td>\n",
       "    </tr>\n",
       "    <tr>\n",
       "      <th>2</th>\n",
       "      <td>Hamilton</td>\n",
       "      <td>The musical details Hamilton's life in two ac...</td>\n",
       "      <td>Can we call a thing more boring than the histo...</td>\n",
       "    </tr>\n",
       "    <tr>\n",
       "      <th>3</th>\n",
       "      <td>West Side Story</td>\n",
       "      <td>Act 1 Two rival teenage gangs, the Jets (Whi...</td>\n",
       "      <td>The two gangs – Jets, consisting of white &amp; Sh...</td>\n",
       "    </tr>\n",
       "    <tr>\n",
       "      <th>4</th>\n",
       "      <td>Wicked</td>\n",
       "      <td>Act I In the Land of Oz, the Ozians are rejo...</td>\n",
       "      <td>Good Witch Glinda of Oz country reported that ...</td>\n",
       "    </tr>\n",
       "  </tbody>\n",
       "</table>\n",
       "</div>"
      ],
      "text/plain": [
       "                       name  \\\n",
       "0            Les Misérables   \n",
       "1  The Phantom of the Opera   \n",
       "2                  Hamilton   \n",
       "3           West Side Story   \n",
       "4                    Wicked   \n",
       "\n",
       "                                        plot_summary  \\\n",
       "0    Act I In 1815 France, prisoners work at hard...   \n",
       "1    Prologue In 1911 Paris, the Paris Opéra host...   \n",
       "2   The musical details Hamilton's life in two ac...   \n",
       "3    Act 1 Two rival teenage gangs, the Jets (Whi...   \n",
       "4    Act I In the Land of Oz, the Ozians are rejo...   \n",
       "\n",
       "                                            synopsis  \n",
       "0  The musical takes place at the beginning of th...  \n",
       "1  At the beginning of the XX century in the Pari...  \n",
       "2  Can we call a thing more boring than the histo...  \n",
       "3  The two gangs – Jets, consisting of white & Sh...  \n",
       "4  Good Witch Glinda of Oz country reported that ...  "
      ]
     },
     "execution_count": 19,
     "metadata": {},
     "output_type": "execute_result"
    }
   ],
   "source": [
    "df.head()"
   ]
  },
  {
   "cell_type": "markdown",
   "metadata": {},
   "source": [
    "# Data Cleaning"
   ]
  },
  {
   "cell_type": "code",
   "execution_count": 20,
   "metadata": {
    "scrolled": false
   },
   "outputs": [
    {
     "data": {
      "text/html": [
       "<div>\n",
       "<style scoped>\n",
       "    .dataframe tbody tr th:only-of-type {\n",
       "        vertical-align: middle;\n",
       "    }\n",
       "\n",
       "    .dataframe tbody tr th {\n",
       "        vertical-align: top;\n",
       "    }\n",
       "\n",
       "    .dataframe thead th {\n",
       "        text-align: right;\n",
       "    }\n",
       "</style>\n",
       "<table border=\"1\" class=\"dataframe\">\n",
       "  <thead>\n",
       "    <tr style=\"text-align: right;\">\n",
       "      <th></th>\n",
       "      <th>name</th>\n",
       "      <th>plot_summary</th>\n",
       "      <th>synopsis</th>\n",
       "    </tr>\n",
       "  </thead>\n",
       "  <tbody>\n",
       "    <tr>\n",
       "      <th>0</th>\n",
       "      <td>Les Misérables</td>\n",
       "      <td>Act I In 1815 France, prisoners work at hard l...</td>\n",
       "      <td>The musical takes place at the beginning of th...</td>\n",
       "    </tr>\n",
       "    <tr>\n",
       "      <th>1</th>\n",
       "      <td>The Phantom of the Opera</td>\n",
       "      <td>Prologue In 1911 Paris, the Paris Opéra hosts ...</td>\n",
       "      <td>At the beginning of the XX century in the Pari...</td>\n",
       "    </tr>\n",
       "    <tr>\n",
       "      <th>2</th>\n",
       "      <td>Hamilton</td>\n",
       "      <td>The musical details Hamilton's life in two act...</td>\n",
       "      <td>Can we call a thing more boring than the histo...</td>\n",
       "    </tr>\n",
       "    <tr>\n",
       "      <th>3</th>\n",
       "      <td>West Side Story</td>\n",
       "      <td>Act 1 Two rival teenage gangs, the Jets (White...</td>\n",
       "      <td>The two gangs – Jets, consisting of white &amp; Sh...</td>\n",
       "    </tr>\n",
       "    <tr>\n",
       "      <th>4</th>\n",
       "      <td>Wicked</td>\n",
       "      <td>Act I In the Land of Oz, the Ozians are rejoic...</td>\n",
       "      <td>Good Witch Glinda of Oz country reported that ...</td>\n",
       "    </tr>\n",
       "  </tbody>\n",
       "</table>\n",
       "</div>"
      ],
      "text/plain": [
       "                       name  \\\n",
       "0            Les Misérables   \n",
       "1  The Phantom of the Opera   \n",
       "2                  Hamilton   \n",
       "3           West Side Story   \n",
       "4                    Wicked   \n",
       "\n",
       "                                        plot_summary  \\\n",
       "0  Act I In 1815 France, prisoners work at hard l...   \n",
       "1  Prologue In 1911 Paris, the Paris Opéra hosts ...   \n",
       "2  The musical details Hamilton's life in two act...   \n",
       "3  Act 1 Two rival teenage gangs, the Jets (White...   \n",
       "4  Act I In the Land of Oz, the Ozians are rejoic...   \n",
       "\n",
       "                                            synopsis  \n",
       "0  The musical takes place at the beginning of th...  \n",
       "1  At the beginning of the XX century in the Pari...  \n",
       "2  Can we call a thing more boring than the histo...  \n",
       "3  The two gangs – Jets, consisting of white & Sh...  \n",
       "4  Good Witch Glinda of Oz country reported that ...  "
      ]
     },
     "execution_count": 20,
     "metadata": {},
     "output_type": "execute_result"
    }
   ],
   "source": [
    "# Strip all leading and trailing spaces\n",
    "df['plot_summary'] = [summ.strip() for summ in df['plot_summary']]\n",
    "df['synopsis'] = [synopsis.strip() for synopsis in df['synopsis']]\n",
    "df.head()"
   ]
  },
  {
   "cell_type": "code",
   "execution_count": 21,
   "metadata": {
    "scrolled": false
   },
   "outputs": [
    {
     "data": {
      "text/html": [
       "<div>\n",
       "<style scoped>\n",
       "    .dataframe tbody tr th:only-of-type {\n",
       "        vertical-align: middle;\n",
       "    }\n",
       "\n",
       "    .dataframe tbody tr th {\n",
       "        vertical-align: top;\n",
       "    }\n",
       "\n",
       "    .dataframe thead th {\n",
       "        text-align: right;\n",
       "    }\n",
       "</style>\n",
       "<table border=\"1\" class=\"dataframe\">\n",
       "  <thead>\n",
       "    <tr style=\"text-align: right;\">\n",
       "      <th></th>\n",
       "      <th>name</th>\n",
       "      <th>plot_summary</th>\n",
       "      <th>synopsis</th>\n",
       "      <th>combined</th>\n",
       "    </tr>\n",
       "  </thead>\n",
       "  <tbody>\n",
       "    <tr>\n",
       "      <th>0</th>\n",
       "      <td>Les Misérables</td>\n",
       "      <td>Act I In 1815 France, prisoners work at hard l...</td>\n",
       "      <td>The musical takes place at the beginning of th...</td>\n",
       "      <td>Act I In 1815 France, prisoners work at hard l...</td>\n",
       "    </tr>\n",
       "    <tr>\n",
       "      <th>1</th>\n",
       "      <td>The Phantom of the Opera</td>\n",
       "      <td>Prologue In 1911 Paris, the Paris Opéra hosts ...</td>\n",
       "      <td>At the beginning of the XX century in the Pari...</td>\n",
       "      <td>Prologue In 1911 Paris, the Paris Opéra hosts ...</td>\n",
       "    </tr>\n",
       "    <tr>\n",
       "      <th>2</th>\n",
       "      <td>Hamilton</td>\n",
       "      <td>The musical details Hamilton's life in two act...</td>\n",
       "      <td>Can we call a thing more boring than the histo...</td>\n",
       "      <td>The musical details Hamilton's life in two act...</td>\n",
       "    </tr>\n",
       "    <tr>\n",
       "      <th>3</th>\n",
       "      <td>West Side Story</td>\n",
       "      <td>Act 1 Two rival teenage gangs, the Jets (White...</td>\n",
       "      <td>The two gangs – Jets, consisting of white &amp; Sh...</td>\n",
       "      <td>Act 1 Two rival teenage gangs, the Jets (White...</td>\n",
       "    </tr>\n",
       "    <tr>\n",
       "      <th>4</th>\n",
       "      <td>Wicked</td>\n",
       "      <td>Act I In the Land of Oz, the Ozians are rejoic...</td>\n",
       "      <td>Good Witch Glinda of Oz country reported that ...</td>\n",
       "      <td>Act I In the Land of Oz, the Ozians are rejoic...</td>\n",
       "    </tr>\n",
       "  </tbody>\n",
       "</table>\n",
       "</div>"
      ],
      "text/plain": [
       "                       name  \\\n",
       "0            Les Misérables   \n",
       "1  The Phantom of the Opera   \n",
       "2                  Hamilton   \n",
       "3           West Side Story   \n",
       "4                    Wicked   \n",
       "\n",
       "                                        plot_summary  \\\n",
       "0  Act I In 1815 France, prisoners work at hard l...   \n",
       "1  Prologue In 1911 Paris, the Paris Opéra hosts ...   \n",
       "2  The musical details Hamilton's life in two act...   \n",
       "3  Act 1 Two rival teenage gangs, the Jets (White...   \n",
       "4  Act I In the Land of Oz, the Ozians are rejoic...   \n",
       "\n",
       "                                            synopsis  \\\n",
       "0  The musical takes place at the beginning of th...   \n",
       "1  At the beginning of the XX century in the Pari...   \n",
       "2  Can we call a thing more boring than the histo...   \n",
       "3  The two gangs – Jets, consisting of white & Sh...   \n",
       "4  Good Witch Glinda of Oz country reported that ...   \n",
       "\n",
       "                                            combined  \n",
       "0  Act I In 1815 France, prisoners work at hard l...  \n",
       "1  Prologue In 1911 Paris, the Paris Opéra hosts ...  \n",
       "2  The musical details Hamilton's life in two act...  \n",
       "3  Act 1 Two rival teenage gangs, the Jets (White...  \n",
       "4  Act I In the Land of Oz, the Ozians are rejoic...  "
      ]
     },
     "execution_count": 21,
     "metadata": {},
     "output_type": "execute_result"
    }
   ],
   "source": [
    "# Create a column combining both summaries/synopses\n",
    "df['combined'] = df['plot_summary'] + df['synopsis']\n",
    "df.head()"
   ]
  },
  {
   "cell_type": "code",
   "execution_count": null,
   "metadata": {},
   "outputs": [],
   "source": [
    "# Remove stop words\n",
    "df['combined_no_sw'] = [summ.]"
   ]
  },
  {
   "cell_type": "markdown",
   "metadata": {},
   "source": [
    "# Text Parsing"
   ]
  },
  {
   "cell_type": "code",
   "execution_count": null,
   "metadata": {},
   "outputs": [],
   "source": [
    "# Vectorize each doc w/ a word2vec (trained on that corpus from Matt I need to learn about)"
   ]
  },
  {
   "cell_type": "code",
   "execution_count": 317,
   "metadata": {},
   "outputs": [
    {
     "name": "stdout",
     "output_type": "stream",
     "text": [
      "86.7591941356659\n"
     ]
    }
   ],
   "source": [
    "# Credits: Code from GA 8.07-lesson-word-vectors by Matt Brems\n",
    "# Start timer.\n",
    "t0 = time.time()\n",
    "\n",
    "# Import word vectors into \"model\"\n",
    "model = gensim.models.KeyedVectors.load_word2vec_format('/Users/kelly/Code/data_files/lexvec.enwiki+newscrawl.300d.W.pos.vectors')\n",
    "\n",
    "# Print results of timer.\n",
    "print(time.time() - t0)"
   ]
  },
  {
   "cell_type": "code",
   "execution_count": 318,
   "metadata": {
    "scrolled": false
   },
   "outputs": [
    {
     "data": {
      "text/plain": [
       "[('william', 0.6612670421600342),\n",
       " ('robert', 0.6352747678756714),\n",
       " ('richard', 0.6107084155082703),\n",
       " ('peter', 0.6051682233810425),\n",
       " ('james', 0.5959731340408325),\n",
       " ('charles', 0.5940901041030884),\n",
       " ('henry', 0.5927909016609192),\n",
       " ('edward', 0.5730682611465454),\n",
       " ('paul', 0.5618348717689514),\n",
       " ('george', 0.5575616359710693)]"
      ]
     },
     "execution_count": 318,
     "metadata": {},
     "output_type": "execute_result"
    }
   ],
   "source": [
    "model.most_similar('john')"
   ]
  },
  {
   "cell_type": "code",
   "execution_count": 327,
   "metadata": {},
   "outputs": [
    {
     "name": "stdout",
     "output_type": "stream",
     "text": [
      "Collecting en_vectors_web_lg==2.1.0\n",
      "  Downloading https://github.com/explosion/spacy-models/releases/download/en_vectors_web_lg-2.1.0/en_vectors_web_lg-2.1.0.tar.gz (661.8 MB)\n",
      "\u001b[K     |████████████████████████████████| 661.8 MB 12.2 MB/s eta 0:00:01     |██████████▏                     | 209.5 MB 8.9 MB/s eta 0:00:51\n",
      "\u001b[?25hRequirement already satisfied: spacy<3.0.0,>=2.1.0 in /Users/kelly/anaconda3/envs/dsi/lib/python3.7/site-packages (from en_vectors_web_lg==2.1.0) (2.2.3)\n",
      "Requirement already satisfied: preshed<3.1.0,>=3.0.2 in /Users/kelly/anaconda3/envs/dsi/lib/python3.7/site-packages (from spacy<3.0.0,>=2.1.0->en_vectors_web_lg==2.1.0) (3.0.2)\n",
      "Requirement already satisfied: wasabi<1.1.0,>=0.4.0 in /Users/kelly/anaconda3/envs/dsi/lib/python3.7/site-packages (from spacy<3.0.0,>=2.1.0->en_vectors_web_lg==2.1.0) (0.6.0)\n",
      "Requirement already satisfied: numpy>=1.15.0 in /Users/kelly/anaconda3/envs/dsi/lib/python3.7/site-packages (from spacy<3.0.0,>=2.1.0->en_vectors_web_lg==2.1.0) (1.18.1)\n",
      "Requirement already satisfied: blis<0.5.0,>=0.4.0 in /Users/kelly/anaconda3/envs/dsi/lib/python3.7/site-packages (from spacy<3.0.0,>=2.1.0->en_vectors_web_lg==2.1.0) (0.4.1)\n",
      "Requirement already satisfied: requests<3.0.0,>=2.13.0 in /Users/kelly/anaconda3/envs/dsi/lib/python3.7/site-packages (from spacy<3.0.0,>=2.1.0->en_vectors_web_lg==2.1.0) (2.22.0)\n",
      "Requirement already satisfied: cymem<2.1.0,>=2.0.2 in /Users/kelly/anaconda3/envs/dsi/lib/python3.7/site-packages (from spacy<3.0.0,>=2.1.0->en_vectors_web_lg==2.1.0) (2.0.3)\n",
      "Requirement already satisfied: thinc<7.4.0,>=7.3.0 in /Users/kelly/anaconda3/envs/dsi/lib/python3.7/site-packages (from spacy<3.0.0,>=2.1.0->en_vectors_web_lg==2.1.0) (7.3.1)\n",
      "Requirement already satisfied: murmurhash<1.1.0,>=0.28.0 in /Users/kelly/anaconda3/envs/dsi/lib/python3.7/site-packages (from spacy<3.0.0,>=2.1.0->en_vectors_web_lg==2.1.0) (0.28.0)\n",
      "Requirement already satisfied: catalogue<1.1.0,>=0.0.7 in /Users/kelly/anaconda3/envs/dsi/lib/python3.7/site-packages (from spacy<3.0.0,>=2.1.0->en_vectors_web_lg==2.1.0) (1.0.0)\n",
      "Requirement already satisfied: setuptools in /Users/kelly/anaconda3/envs/dsi/lib/python3.7/site-packages (from spacy<3.0.0,>=2.1.0->en_vectors_web_lg==2.1.0) (45.2.0.post20200210)\n",
      "Requirement already satisfied: srsly<1.1.0,>=0.1.0 in /Users/kelly/anaconda3/envs/dsi/lib/python3.7/site-packages (from spacy<3.0.0,>=2.1.0->en_vectors_web_lg==2.1.0) (1.0.1)\n",
      "Requirement already satisfied: plac<1.2.0,>=0.9.6 in /Users/kelly/anaconda3/envs/dsi/lib/python3.7/site-packages (from spacy<3.0.0,>=2.1.0->en_vectors_web_lg==2.1.0) (0.9.6)\n",
      "Requirement already satisfied: urllib3!=1.25.0,!=1.25.1,<1.26,>=1.21.1 in /Users/kelly/anaconda3/envs/dsi/lib/python3.7/site-packages (from requests<3.0.0,>=2.13.0->spacy<3.0.0,>=2.1.0->en_vectors_web_lg==2.1.0) (1.25.8)\n",
      "Requirement already satisfied: certifi>=2017.4.17 in /Users/kelly/anaconda3/envs/dsi/lib/python3.7/site-packages (from requests<3.0.0,>=2.13.0->spacy<3.0.0,>=2.1.0->en_vectors_web_lg==2.1.0) (2019.11.28)\n",
      "Requirement already satisfied: idna<2.9,>=2.5 in /Users/kelly/anaconda3/envs/dsi/lib/python3.7/site-packages (from requests<3.0.0,>=2.13.0->spacy<3.0.0,>=2.1.0->en_vectors_web_lg==2.1.0) (2.8)\n",
      "Requirement already satisfied: chardet<3.1.0,>=3.0.2 in /Users/kelly/anaconda3/envs/dsi/lib/python3.7/site-packages (from requests<3.0.0,>=2.13.0->spacy<3.0.0,>=2.1.0->en_vectors_web_lg==2.1.0) (3.0.4)\n",
      "Requirement already satisfied: tqdm<5.0.0,>=4.10.0 in /Users/kelly/anaconda3/envs/dsi/lib/python3.7/site-packages (from thinc<7.4.0,>=7.3.0->spacy<3.0.0,>=2.1.0->en_vectors_web_lg==2.1.0) (4.42.1)\n",
      "Requirement already satisfied: importlib-metadata>=0.20; python_version < \"3.8\" in /Users/kelly/anaconda3/envs/dsi/lib/python3.7/site-packages (from catalogue<1.1.0,>=0.0.7->spacy<3.0.0,>=2.1.0->en_vectors_web_lg==2.1.0) (1.5.0)\n",
      "Requirement already satisfied: zipp>=0.5 in /Users/kelly/anaconda3/envs/dsi/lib/python3.7/site-packages (from importlib-metadata>=0.20; python_version < \"3.8\"->catalogue<1.1.0,>=0.0.7->spacy<3.0.0,>=2.1.0->en_vectors_web_lg==2.1.0) (2.2.0)\n",
      "Building wheels for collected packages: en-vectors-web-lg\n",
      "  Building wheel for en-vectors-web-lg (setup.py) ... \u001b[?25ldone\n",
      "\u001b[?25h  Created wheel for en-vectors-web-lg: filename=en_vectors_web_lg-2.1.0-py3-none-any.whl size=663461747 sha256=5cd66ad62248bb51561d821e91ce5a28ce33e4c665b5bd4fd123b7c3379cd7c0\n",
      "  Stored in directory: /private/var/folders/cj/k_q4ftbx1kx2ly31k5bth7880000gn/T/pip-ephem-wheel-cache-jtpufjxo/wheels/14/24/1b/61b40d65ed3ccd236ac714862d7ec3a999b99d495785563e09\n",
      "Successfully built en-vectors-web-lg\n",
      "Installing collected packages: en-vectors-web-lg\n",
      "Successfully installed en-vectors-web-lg-2.1.0\n",
      "\u001b[38;5;2m✔ Download and installation successful\u001b[0m\n",
      "You can now load the model via spacy.load('en_vectors_web_lg')\n"
     ]
    }
   ],
   "source": [
    "# !python -m spacy download en_vectors_web_lg"
   ]
  },
  {
   "cell_type": "code",
   "execution_count": 337,
   "metadata": {},
   "outputs": [],
   "source": [
    "import en_vectors_web_lg\n",
    "nlp = en_vectors_web_lg.load()"
   ]
  },
  {
   "cell_type": "code",
   "execution_count": 338,
   "metadata": {},
   "outputs": [],
   "source": [
    "# Credits: https://spacy.io/usage/vectors-similarity\n",
    "first_summ = nlp(df['combined'][0])\n",
    "second_summ = nlp(df['combined'][1])"
   ]
  },
  {
   "cell_type": "code",
   "execution_count": 339,
   "metadata": {},
   "outputs": [
    {
     "data": {
      "text/plain": [
       "0.9832441745132257"
      ]
     },
     "execution_count": 339,
     "metadata": {},
     "output_type": "execute_result"
    }
   ],
   "source": [
    "first_summ.similarity(second_summ)"
   ]
  },
  {
   "cell_type": "code",
   "execution_count": null,
   "metadata": {},
   "outputs": [],
   "source": []
  },
  {
   "cell_type": "markdown",
   "metadata": {},
   "source": [
    "# Word Mapping"
   ]
  },
  {
   "cell_type": "code",
   "execution_count": null,
   "metadata": {},
   "outputs": [],
   "source": [
    "# Do a bag of words FIRST to determine which words to map????????????"
   ]
  },
  {
   "cell_type": "code",
   "execution_count": null,
   "metadata": {},
   "outputs": [],
   "source": []
  },
  {
   "cell_type": "markdown",
   "metadata": {},
   "source": [
    "# Cluster Model: Alpha"
   ]
  },
  {
   "cell_type": "markdown",
   "metadata": {},
   "source": [
    "#### CountVectorizer with KMeans Cluster Model"
   ]
  },
  {
   "cell_type": "code",
   "execution_count": 51,
   "metadata": {},
   "outputs": [],
   "source": [
    "X = df['combined']"
   ]
  },
  {
   "cell_type": "code",
   "execution_count": 52,
   "metadata": {},
   "outputs": [],
   "source": [
    "X_train, X_test = train_test_split(X, random_state=42)"
   ]
  },
  {
   "cell_type": "code",
   "execution_count": 53,
   "metadata": {},
   "outputs": [],
   "source": [
    "# CountVectorizer\n",
    "cvec = CountVectorizer(ngram_range=(1,2), max_features=500, stop_words='english')\n",
    "cvec.fit(X)\n",
    "X = cvec.transform(X)"
   ]
  },
  {
   "cell_type": "code",
   "execution_count": 54,
   "metadata": {
    "scrolled": true
   },
   "outputs": [
    {
     "data": {
      "text/plain": [
       "<196x500 sparse matrix of type '<class 'numpy.int64'>'\n",
       "\twith 25750 stored elements in Compressed Sparse Row format>"
      ]
     },
     "execution_count": 54,
     "metadata": {},
     "output_type": "execute_result"
    }
   ],
   "source": [
    "X"
   ]
  },
  {
   "cell_type": "code",
   "execution_count": 55,
   "metadata": {},
   "outputs": [],
   "source": [
    "km = KMeans()\n",
    "X = km.fit_transform(X)"
   ]
  },
  {
   "cell_type": "code",
   "execution_count": 56,
   "metadata": {},
   "outputs": [
    {
     "data": {
      "text/plain": [
       "0.5822585544061012"
      ]
     },
     "execution_count": 56,
     "metadata": {},
     "output_type": "execute_result"
    }
   ],
   "source": [
    "silhouette_score(X, km.labels_)"
   ]
  },
  {
   "cell_type": "code",
   "execution_count": 57,
   "metadata": {},
   "outputs": [],
   "source": [
    "df['labels'] = km.labels_"
   ]
  },
  {
   "cell_type": "code",
   "execution_count": 59,
   "metadata": {},
   "outputs": [
    {
     "data": {
      "text/plain": [
       "[0, 1, 2, 3, 4, 5, 6, 7]"
      ]
     },
     "execution_count": 59,
     "metadata": {},
     "output_type": "execute_result"
    }
   ],
   "source": [
    "sorted(df['labels'].unique())"
   ]
  },
  {
   "cell_type": "code",
   "execution_count": 63,
   "metadata": {},
   "outputs": [
    {
     "data": {
      "text/plain": [
       "188"
      ]
     },
     "execution_count": 63,
     "metadata": {},
     "output_type": "execute_result"
    }
   ],
   "source": [
    "df.loc[df['labels'] == 0, 'name'].count()"
   ]
  },
  {
   "cell_type": "markdown",
   "metadata": {},
   "source": [
    "This is not a good model/transformer combination. Almost all musicals are in the same cluster."
   ]
  },
  {
   "cell_type": "markdown",
   "metadata": {},
   "source": [
    "#### TfidfVectorizer with KMeans Cluster Model"
   ]
  },
  {
   "cell_type": "code",
   "execution_count": 65,
   "metadata": {},
   "outputs": [],
   "source": [
    "X = df['combined']"
   ]
  },
  {
   "cell_type": "code",
   "execution_count": 66,
   "metadata": {},
   "outputs": [],
   "source": [
    "tvec = TfidfVectorizer(ngram_range=(1,2), max_features=500, stop_words='english')\n",
    "tvec.fit(X)\n",
    "X = tvec.transform(X)"
   ]
  },
  {
   "cell_type": "code",
   "execution_count": 67,
   "metadata": {},
   "outputs": [],
   "source": [
    "km = KMeans()\n",
    "X = km.fit_transform(X)"
   ]
  },
  {
   "cell_type": "code",
   "execution_count": 68,
   "metadata": {},
   "outputs": [],
   "source": [
    "df['labels2'] = km.labels_"
   ]
  },
  {
   "cell_type": "code",
   "execution_count": 69,
   "metadata": {},
   "outputs": [
    {
     "data": {
      "text/plain": [
       "7"
      ]
     },
     "execution_count": 69,
     "metadata": {},
     "output_type": "execute_result"
    }
   ],
   "source": [
    "df.loc[df['labels2'] == 0, 'name'].count()"
   ]
  },
  {
   "cell_type": "code",
   "execution_count": 70,
   "metadata": {},
   "outputs": [
    {
     "data": {
      "text/plain": [
       "29"
      ]
     },
     "execution_count": 70,
     "metadata": {},
     "output_type": "execute_result"
    }
   ],
   "source": [
    "df.loc[df['labels2'] == 1, 'name'].count()"
   ]
  },
  {
   "cell_type": "code",
   "execution_count": 71,
   "metadata": {},
   "outputs": [
    {
     "data": {
      "text/plain": [
       "30"
      ]
     },
     "execution_count": 71,
     "metadata": {},
     "output_type": "execute_result"
    }
   ],
   "source": [
    "df.loc[df['labels2'] == 2, 'name'].count()"
   ]
  },
  {
   "cell_type": "code",
   "execution_count": 72,
   "metadata": {},
   "outputs": [
    {
     "data": {
      "text/plain": [
       "7"
      ]
     },
     "execution_count": 72,
     "metadata": {},
     "output_type": "execute_result"
    }
   ],
   "source": [
    "df.loc[df['labels2'] == 3, 'name'].count()"
   ]
  },
  {
   "cell_type": "code",
   "execution_count": 73,
   "metadata": {
    "scrolled": true
   },
   "outputs": [
    {
     "data": {
      "text/plain": [
       "25                 The Music Man\n",
       "47                   Jersey Boys\n",
       "75     Hedwig and the Angry Inch\n",
       "109                    Brigadoon\n",
       "111              The Who's Tommy\n",
       "129            Shrek the Musical\n",
       "172                    War Paint\n",
       "Name: name, dtype: object"
      ]
     },
     "execution_count": 73,
     "metadata": {},
     "output_type": "execute_result"
    }
   ],
   "source": [
    "df.loc[df['labels2'] == 0, 'name']"
   ]
  },
  {
   "cell_type": "code",
   "execution_count": 75,
   "metadata": {
    "scrolled": true
   },
   "outputs": [
    {
     "data": {
      "text/plain": [
       "2                                            Hamilton\n",
       "6                                                Rent\n",
       "9      Sweeney Todd: The Demon Barber of Fleet Street\n",
       "14                                          Hairspray\n",
       "19                                            Newsies\n",
       "28                                           Avenue Q\n",
       "29                                     In the Heights\n",
       "36                                     Guys and Dolls\n",
       "46                                      Hello, Dolly!\n",
       "49                                               Hair\n",
       "70                           Thoroughly Modern Millie\n",
       "76                                     Come from Away\n",
       "92                                     Porgy and Bess\n",
       "98                                               1776\n",
       "106                                              Once\n",
       "110                                       On the Town\n",
       "112                                     Be More Chill\n",
       "115                               Catch Me If You Can\n",
       "120                                      She Loves Me\n",
       "130                                    The Full Monty\n",
       "134                                         Bandstand\n",
       "142                                     Crazy for You\n",
       "148                                    Wonderful Town\n",
       "149                                      Grey Gardens\n",
       "158                                           Can-Can\n",
       "179                           Dirty Rotten Scoundrels\n",
       "184                                         Fiorello!\n",
       "187                                          Ballroom\n",
       "195                                          Big Deal\n",
       "Name: name, dtype: object"
      ]
     },
     "execution_count": 75,
     "metadata": {},
     "output_type": "execute_result"
    }
   ],
   "source": [
    "df.loc[df['labels2'] == 1, 'name']"
   ]
  },
  {
   "cell_type": "code",
   "execution_count": 76,
   "metadata": {},
   "outputs": [
    {
     "data": {
      "text/plain": [
       "0                      Les Misérables\n",
       "7                       The Lion King\n",
       "13                   Dear Evan Hansen\n",
       "18                             Grease\n",
       "30               Beauty and the Beast\n",
       "31                     The King and I\n",
       "40                        Miss Saigon\n",
       "44             Gypsy: A Musical Fable\n",
       "53                           Heathers\n",
       "54                         Cinderella\n",
       "58                           Spamalot\n",
       "64                 The Little Mermaid\n",
       "74                            Camelot\n",
       "80     Sunday in the Park with George\n",
       "87                            Aladdin\n",
       "88                          Anastasia\n",
       "90                    Victor/Victoria\n",
       "107                   Jekyll and Hyde\n",
       "113                           The Wiz\n",
       "119                        Sister Act\n",
       "121                           Candide\n",
       "123              Once Upon a Mattress\n",
       "125                            Frozen\n",
       "169                          Dogfight\n",
       "178                           Twisted\n",
       "183                              Coco\n",
       "186                            Cyrano\n",
       "188                    The Magic Show\n",
       "189                           Dancin'\n",
       "193                  New girl in town\n",
       "Name: name, dtype: object"
      ]
     },
     "execution_count": 76,
     "metadata": {},
     "output_type": "execute_result"
    }
   ],
   "source": [
    "df.loc[df['labels2'] == 2, 'name']"
   ]
  },
  {
   "cell_type": "code",
   "execution_count": 74,
   "metadata": {
    "scrolled": true
   },
   "outputs": [
    {
     "data": {
      "text/plain": [
       "39                          Kinky Boots\n",
       "60                   Annie Get Your Gun\n",
       "81     You're a Good Man, Charlie Brown\n",
       "116                       Sweet Charity\n",
       "132                         pajama game\n",
       "147                              Parade\n",
       "181                          Shenandoah\n",
       "Name: name, dtype: object"
      ]
     },
     "execution_count": 74,
     "metadata": {},
     "output_type": "execute_result"
    }
   ],
   "source": [
    "df.loc[df['labels2'] == 3, 'name']"
   ]
  },
  {
   "cell_type": "code",
   "execution_count": 77,
   "metadata": {},
   "outputs": [
    {
     "data": {
      "text/plain": [
       "3                                 West Side Story\n",
       "17                         Little Shop of Horrors\n",
       "20                                   My Fair Lady\n",
       "27                               Spring Awakening\n",
       "37                                         Pippin\n",
       "42                                 Next to Normal\n",
       "45                                     Dreamgirls\n",
       "51                                       Waitress\n",
       "52                                        Ragtime\n",
       "68                   School of Rock - the Musical\n",
       "83                           A Little Night Music\n",
       "85                                      Urinetown\n",
       "86                               Sunset Boulevard\n",
       "95     The 25th Annual Putnam County Spelling Bee\n",
       "97                        The Pirates of Penzance\n",
       "100                                  Damn Yankees\n",
       "101                                American Idiot\n",
       "108            Beautiful: the Carole King Musical\n",
       "122                             Starlight Express\n",
       "124                             A Christmas Carol\n",
       "131           The Best Little Whorehouse in Texas\n",
       "135                                  Rock of Ages\n",
       "139                              The Band's Visit\n",
       "143                                       Memphis\n",
       "146                                      Pal Joey\n",
       "152                            Tarzan of the Apes\n",
       "154                                   A New Brain\n",
       "155                             Ain't Misbehavin'\n",
       "161                              Tuck Everlasting\n",
       "162    Dr. Seuss' How the Grinch Stole Christmas!\n",
       "165                                        Xanadu\n",
       "166                                 Oh! Calcutta!\n",
       "168                                    Movin' Out\n",
       "180                            Promises, Promises\n",
       "190                                      Do Re Mi\n",
       "192                               Passing Strange\n",
       "Name: name, dtype: object"
      ]
     },
     "execution_count": 77,
     "metadata": {},
     "output_type": "execute_result"
    }
   ],
   "source": [
    "df.loc[df['labels2'] == 4, 'name']"
   ]
  },
  {
   "cell_type": "code",
   "execution_count": 78,
   "metadata": {},
   "outputs": [
    {
     "data": {
      "text/plain": [
       "4                                              Wicked\n",
       "10                                 The Sound of Music\n",
       "12                                     Into the Woods\n",
       "23                                              Annie\n",
       "26                                            Matilda\n",
       "32                                       Mary Poppins\n",
       "33       Joseph and the Amazing Technicolor Dreamcoat\n",
       "35                                               Cats\n",
       "48                                            Oliver!\n",
       "56                                          Peter Pan\n",
       "57                                      South Pacific\n",
       "62                                   The Color Purple\n",
       "89                                  The Secret Garden\n",
       "94                            Chitty Chitty Bang Bang\n",
       "96     A Funny Thing Happened on the Way to the Forum\n",
       "105                                   The Fantasticks\n",
       "114                                          Fun Home\n",
       "118                   Seven Brides for Seven Brothers\n",
       "126        Natasha Pierre and the Great Comet of 1812\n",
       "127                                              Aida\n",
       "133                                         Big River\n",
       "138                                           Passion\n",
       "145                                       Beetlejuice\n",
       "151                                           Titanic\n",
       "156                                  Children of Eden\n",
       "171                                            Kismet\n",
       "173                                             Honk!\n",
       "174                                    Blood Brothers\n",
       "175                             Suessical the Musical\n",
       "176                                            Raisin\n",
       "177      Natasha, Pierre, and the Great Comet of 1812\n",
       "185                                              Baby\n",
       "Name: name, dtype: object"
      ]
     },
     "execution_count": 78,
     "metadata": {},
     "output_type": "execute_result"
    }
   ],
   "source": [
    "df.loc[df['labels2'] == 5, 'name']"
   ]
  },
  {
   "cell_type": "code",
   "execution_count": 304,
   "metadata": {
    "scrolled": true
   },
   "outputs": [
    {
     "data": {
      "text/plain": [
       "0    Act I In 1815 France, prisoners work at hard l...\n",
       "1    Prologue In 1911 Paris, the Paris Opéra hosts ...\n",
       "2    The musical details Hamilton's life in two act...\n",
       "3    Act 1 Two rival teenage gangs, the Jets (White...\n",
       "4    Act I In the Land of Oz, the Ozians are rejoic...\n",
       "Name: combined, dtype: object"
      ]
     },
     "execution_count": 304,
     "metadata": {},
     "output_type": "execute_result"
    }
   ],
   "source": [
    "X = df['combined']\n",
    "X.head()"
   ]
  },
  {
   "cell_type": "markdown",
   "metadata": {},
   "source": [
    "#### TfidfVectorizer with DBSCAN Model"
   ]
  },
  {
   "cell_type": "code",
   "execution_count": 305,
   "metadata": {},
   "outputs": [],
   "source": [
    "tvec = TfidfVectorizer(ngram_range=(1,2), max_features=500, stop_words='english')\n",
    "tvec.fit(X)\n",
    "X = tvec.transform(X).toarray()"
   ]
  },
  {
   "cell_type": "code",
   "execution_count": 306,
   "metadata": {},
   "outputs": [
    {
     "data": {
      "text/plain": [
       "(196, 500)"
      ]
     },
     "execution_count": 306,
     "metadata": {},
     "output_type": "execute_result"
    }
   ],
   "source": [
    "X.shape"
   ]
  },
  {
   "cell_type": "code",
   "execution_count": 307,
   "metadata": {},
   "outputs": [],
   "source": [
    "# ss = StandardScaler()\n",
    "# X_scaled = ss.fit_transform(X)\n",
    "# X_scaled.shape"
   ]
  },
  {
   "cell_type": "code",
   "execution_count": 308,
   "metadata": {
    "scrolled": true
   },
   "outputs": [],
   "source": [
    "db = DBSCAN(eps=1, min_samples=3)\n",
    "db.fit(X);"
   ]
  },
  {
   "cell_type": "code",
   "execution_count": 309,
   "metadata": {},
   "outputs": [
    {
     "data": {
      "text/plain": [
       "array([[0.        , 0.        , 0.        , ..., 0.01010462, 0.01148557,\n",
       "        0.        ],\n",
       "       [0.00639294, 0.00736011, 0.        , ..., 0.03321765, 0.04045431,\n",
       "        0.        ],\n",
       "       [0.        , 0.        , 0.        , ..., 0.        , 0.        ,\n",
       "        0.        ],\n",
       "       ...,\n",
       "       [0.        , 0.        , 0.        , ..., 0.        , 0.        ,\n",
       "        0.        ],\n",
       "       [0.        , 0.        , 0.        , ..., 0.        , 0.        ,\n",
       "        0.        ],\n",
       "       [0.        , 0.        , 0.        , ..., 0.02152187, 0.        ,\n",
       "        0.        ]])"
      ]
     },
     "execution_count": 309,
     "metadata": {},
     "output_type": "execute_result"
    }
   ],
   "source": [
    "db.components_"
   ]
  },
  {
   "cell_type": "code",
   "execution_count": 310,
   "metadata": {},
   "outputs": [
    {
     "data": {
      "text/plain": [
       "array([-1,  0,  0,  0, -1,  0,  0,  0, -1,  0,  0,  0, -1,  0,  0, -1,  0,\n",
       "       -1,  0,  0, -1,  0,  0,  0,  0,  0,  0,  0,  0,  0,  0,  0,  0,  0,\n",
       "        0,  0, -1,  0,  0,  0,  0,  0,  0,  0,  0,  0,  0,  0,  0,  0,  0,\n",
       "        0,  0,  0,  0,  0,  0,  0,  0, -1,  0,  0,  0,  0,  0,  0,  0,  0,\n",
       "       -1,  0,  0, -1,  0,  0,  0,  0,  0,  0,  0,  0,  0,  0,  0, -1,  0,\n",
       "        1,  0,  0,  0,  0, -1,  0,  0,  0,  0,  0,  0, -1,  0, -1,  0,  0,\n",
       "        0,  0, -1,  0,  0,  0, -1,  0,  0,  0, -1,  0,  0,  0, -1, -1,  0,\n",
       "        0, -1,  0,  0,  0,  0,  0,  0, -1,  0, -1,  0, -1, -1,  0,  0,  0,\n",
       "       -1,  0,  0,  0,  0, -1,  1,  0, -1, -1,  0,  0,  0,  0, -1, -1,  0,\n",
       "        0,  0,  0,  0,  0,  0,  0,  0,  0,  0,  1,  0,  0, -1, -1,  0,  0,\n",
       "       -1,  0,  0,  0,  0,  0,  0,  0, -1,  0, -1,  0,  0,  0,  0,  0,  0,\n",
       "       -1, -1,  0, -1, -1, -1,  0, -1, -1])"
      ]
     },
     "execution_count": 310,
     "metadata": {},
     "output_type": "execute_result"
    }
   ],
   "source": [
    "db.labels_"
   ]
  },
  {
   "cell_type": "code",
   "execution_count": 311,
   "metadata": {},
   "outputs": [
    {
     "data": {
      "text/plain": [
       "name            176\n",
       "plot_summary    176\n",
       "synopsis        176\n",
       "combined        176\n",
       "labels          176\n",
       "labels2         176\n",
       "labels3         176\n",
       "dtype: int64"
      ]
     },
     "execution_count": 311,
     "metadata": {},
     "output_type": "execute_result"
    }
   ],
   "source": [
    "df[df['labels3'] == -1].count()"
   ]
  },
  {
   "cell_type": "code",
   "execution_count": 312,
   "metadata": {},
   "outputs": [
    {
     "data": {
      "text/plain": [
       "name            4\n",
       "plot_summary    4\n",
       "synopsis        4\n",
       "combined        4\n",
       "labels          4\n",
       "labels2         4\n",
       "labels3         4\n",
       "dtype: int64"
      ]
     },
     "execution_count": 312,
     "metadata": {},
     "output_type": "execute_result"
    }
   ],
   "source": [
    "df[df['labels3'] == 1].count()"
   ]
  },
  {
   "cell_type": "code",
   "execution_count": 313,
   "metadata": {},
   "outputs": [
    {
     "data": {
      "text/plain": [
       "name            4\n",
       "plot_summary    4\n",
       "synopsis        4\n",
       "combined        4\n",
       "labels          4\n",
       "labels2         4\n",
       "labels3         4\n",
       "dtype: int64"
      ]
     },
     "execution_count": 313,
     "metadata": {},
     "output_type": "execute_result"
    }
   ],
   "source": [
    "df[df['labels3'] == 0].count()"
   ]
  },
  {
   "cell_type": "code",
   "execution_count": 285,
   "metadata": {},
   "outputs": [],
   "source": [
    "df['labels3'] = db.labels_"
   ]
  },
  {
   "cell_type": "code",
   "execution_count": 286,
   "metadata": {},
   "outputs": [
    {
     "data": {
      "text/plain": [
       "array([-1,  0,  1,  4,  2,  3,  5])"
      ]
     },
     "execution_count": 286,
     "metadata": {},
     "output_type": "execute_result"
    }
   ],
   "source": [
    "df['labels3'].unique()"
   ]
  },
  {
   "cell_type": "code",
   "execution_count": 287,
   "metadata": {},
   "outputs": [
    {
     "data": {
      "text/html": [
       "<div>\n",
       "<style scoped>\n",
       "    .dataframe tbody tr th:only-of-type {\n",
       "        vertical-align: middle;\n",
       "    }\n",
       "\n",
       "    .dataframe tbody tr th {\n",
       "        vertical-align: top;\n",
       "    }\n",
       "\n",
       "    .dataframe thead th {\n",
       "        text-align: right;\n",
       "    }\n",
       "</style>\n",
       "<table border=\"1\" class=\"dataframe\">\n",
       "  <thead>\n",
       "    <tr style=\"text-align: right;\">\n",
       "      <th></th>\n",
       "      <th>name</th>\n",
       "      <th>plot_summary</th>\n",
       "      <th>synopsis</th>\n",
       "      <th>combined</th>\n",
       "      <th>labels</th>\n",
       "      <th>labels2</th>\n",
       "      <th>labels3</th>\n",
       "    </tr>\n",
       "  </thead>\n",
       "  <tbody>\n",
       "    <tr>\n",
       "      <th>23</th>\n",
       "      <td>Annie</td>\n",
       "      <td>Act 1 In 1933, eleven-year-old Annie is in the...</td>\n",
       "      <td>Act One  Events take place during the Great De...</td>\n",
       "      <td>Act 1 In 1933, eleven-year-old Annie is in the...</td>\n",
       "      <td>0</td>\n",
       "      <td>5</td>\n",
       "      <td>1</td>\n",
       "    </tr>\n",
       "    <tr>\n",
       "      <th>41</th>\n",
       "      <td>oklahoma</td>\n",
       "      <td>Act I In Oklahoma Territory, in 1906, cowboy C...</td>\n",
       "      <td>1906, Oklahoma. Cowboy Curly was looking forwa...</td>\n",
       "      <td>Act I In Oklahoma Territory, in 1906, cowboy C...</td>\n",
       "      <td>0</td>\n",
       "      <td>7</td>\n",
       "      <td>1</td>\n",
       "    </tr>\n",
       "    <tr>\n",
       "      <th>60</th>\n",
       "      <td>Annie Get Your Gun</td>\n",
       "      <td>summary  Act I When the traveling Buffalo Bill...</td>\n",
       "      <td>Charlie Davenport, who is the organizer of the...</td>\n",
       "      <td>summary  Act I When the traveling Buffalo Bill...</td>\n",
       "      <td>0</td>\n",
       "      <td>3</td>\n",
       "      <td>1</td>\n",
       "    </tr>\n",
       "    <tr>\n",
       "      <th>115</th>\n",
       "      <td>Catch Me If You Can</td>\n",
       "      <td>Act I In the 1960s, Frank Abagnale Jr., a youn...</td>\n",
       "      <td>This work is a musical version of the movie wi...</td>\n",
       "      <td>Act I In the 1960s, Frank Abagnale Jr., a youn...</td>\n",
       "      <td>0</td>\n",
       "      <td>1</td>\n",
       "      <td>1</td>\n",
       "    </tr>\n",
       "  </tbody>\n",
       "</table>\n",
       "</div>"
      ],
      "text/plain": [
       "                    name                                       plot_summary  \\\n",
       "23                 Annie  Act 1 In 1933, eleven-year-old Annie is in the...   \n",
       "41              oklahoma  Act I In Oklahoma Territory, in 1906, cowboy C...   \n",
       "60    Annie Get Your Gun  summary  Act I When the traveling Buffalo Bill...   \n",
       "115  Catch Me If You Can  Act I In the 1960s, Frank Abagnale Jr., a youn...   \n",
       "\n",
       "                                              synopsis  \\\n",
       "23   Act One  Events take place during the Great De...   \n",
       "41   1906, Oklahoma. Cowboy Curly was looking forwa...   \n",
       "60   Charlie Davenport, who is the organizer of the...   \n",
       "115  This work is a musical version of the movie wi...   \n",
       "\n",
       "                                              combined  labels  labels2  \\\n",
       "23   Act 1 In 1933, eleven-year-old Annie is in the...       0        5   \n",
       "41   Act I In Oklahoma Territory, in 1906, cowboy C...       0        7   \n",
       "60   summary  Act I When the traveling Buffalo Bill...       0        3   \n",
       "115  Act I In the 1960s, Frank Abagnale Jr., a youn...       0        1   \n",
       "\n",
       "     labels3  \n",
       "23         1  \n",
       "41         1  \n",
       "60         1  \n",
       "115        1  "
      ]
     },
     "execution_count": 287,
     "metadata": {},
     "output_type": "execute_result"
    }
   ],
   "source": [
    "df[df['labels3'] == 1]"
   ]
  },
  {
   "cell_type": "code",
   "execution_count": 314,
   "metadata": {
    "scrolled": false
   },
   "outputs": [
    {
     "data": {
      "text/plain": [
       "-0.04716517540758456"
      ]
     },
     "execution_count": 314,
     "metadata": {},
     "output_type": "execute_result"
    }
   ],
   "source": [
    "silhouette_score(X_scaled, db.labels_)"
   ]
  },
  {
   "cell_type": "code",
   "execution_count": null,
   "metadata": {},
   "outputs": [],
   "source": []
  }
 ],
 "metadata": {
  "kernelspec": {
   "display_name": "Python 3",
   "language": "python",
   "name": "python3"
  },
  "language_info": {
   "codemirror_mode": {
    "name": "ipython",
    "version": 3
   },
   "file_extension": ".py",
   "mimetype": "text/x-python",
   "name": "python",
   "nbconvert_exporter": "python",
   "pygments_lexer": "ipython3",
   "version": "3.7.6"
  }
 },
 "nbformat": 4,
 "nbformat_minor": 4
}
