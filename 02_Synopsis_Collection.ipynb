{
 "cells": [
  {
   "cell_type": "markdown",
   "metadata": {},
   "source": [
    "# Capstone: Musical Recommender"
   ]
  },
  {
   "cell_type": "markdown",
   "metadata": {},
   "source": [
    "Kelly Slatery | US-DSI-10"
   ]
  },
  {
   "cell_type": "code",
   "execution_count": 1,
   "metadata": {},
   "outputs": [],
   "source": [
    "# Imports \n",
    "import numpy as np\n",
    "import pandas as pd\n",
    "import time\n",
    "import requests\n",
    "from bs4 import BeautifulSoup\n",
    "import regex as re\n",
    "import unicodedata"
   ]
  },
  {
   "cell_type": "code",
   "execution_count": 2,
   "metadata": {},
   "outputs": [],
   "source": [
    "# Set view options\n",
    "pd.set_option('display.max_rows', None)\n",
    "pd.set_option('display.max_columns', None)\n",
    "pd.set_option('display.width', None)\n",
    "pd.set_option('display.max_colwidth', None)"
   ]
  },
  {
   "cell_type": "markdown",
   "metadata": {},
   "source": [
    "# Import Data"
   ]
  },
  {
   "cell_type": "code",
   "execution_count": 3,
   "metadata": {},
   "outputs": [
    {
     "data": {
      "text/plain": [
       "(196, 1)"
      ]
     },
     "execution_count": 3,
     "metadata": {},
     "output_type": "execute_result"
    }
   ],
   "source": [
    "# Import list of musicals\n",
    "names = pd.read_csv('./data/musical_names.csv')\n",
    "names.shape"
   ]
  },
  {
   "cell_type": "code",
   "execution_count": 4,
   "metadata": {
    "scrolled": false
   },
   "outputs": [
    {
     "data": {
      "text/html": [
       "<div>\n",
       "<style scoped>\n",
       "    .dataframe tbody tr th:only-of-type {\n",
       "        vertical-align: middle;\n",
       "    }\n",
       "\n",
       "    .dataframe tbody tr th {\n",
       "        vertical-align: top;\n",
       "    }\n",
       "\n",
       "    .dataframe thead th {\n",
       "        text-align: right;\n",
       "    }\n",
       "</style>\n",
       "<table border=\"1\" class=\"dataframe\">\n",
       "  <thead>\n",
       "    <tr style=\"text-align: right;\">\n",
       "      <th></th>\n",
       "      <th>musical</th>\n",
       "    </tr>\n",
       "  </thead>\n",
       "  <tbody>\n",
       "    <tr>\n",
       "      <th>0</th>\n",
       "      <td>Les Misérables</td>\n",
       "    </tr>\n",
       "    <tr>\n",
       "      <th>1</th>\n",
       "      <td>The Phantom of the Opera</td>\n",
       "    </tr>\n",
       "    <tr>\n",
       "      <th>2</th>\n",
       "      <td>Hamilton</td>\n",
       "    </tr>\n",
       "    <tr>\n",
       "      <th>3</th>\n",
       "      <td>West Side Story</td>\n",
       "    </tr>\n",
       "    <tr>\n",
       "      <th>4</th>\n",
       "      <td>Wicked</td>\n",
       "    </tr>\n",
       "  </tbody>\n",
       "</table>\n",
       "</div>"
      ],
      "text/plain": [
       "                    musical\n",
       "0            Les Misérables\n",
       "1  The Phantom of the Opera\n",
       "2                  Hamilton\n",
       "3           West Side Story\n",
       "4                    Wicked"
      ]
     },
     "execution_count": 4,
     "metadata": {},
     "output_type": "execute_result"
    }
   ],
   "source": [
    "names.head()"
   ]
  },
  {
   "cell_type": "code",
   "execution_count": 5,
   "metadata": {},
   "outputs": [
    {
     "data": {
      "text/html": [
       "<div>\n",
       "<style scoped>\n",
       "    .dataframe tbody tr th:only-of-type {\n",
       "        vertical-align: middle;\n",
       "    }\n",
       "\n",
       "    .dataframe tbody tr th {\n",
       "        vertical-align: top;\n",
       "    }\n",
       "\n",
       "    .dataframe thead th {\n",
       "        text-align: right;\n",
       "    }\n",
       "</style>\n",
       "<table border=\"1\" class=\"dataframe\">\n",
       "  <thead>\n",
       "    <tr style=\"text-align: right;\">\n",
       "      <th></th>\n",
       "      <th>musical</th>\n",
       "    </tr>\n",
       "  </thead>\n",
       "  <tbody>\n",
       "    <tr>\n",
       "      <th>0</th>\n",
       "      <td>les misérables</td>\n",
       "    </tr>\n",
       "    <tr>\n",
       "      <th>1</th>\n",
       "      <td>the phantom of the opera</td>\n",
       "    </tr>\n",
       "    <tr>\n",
       "      <th>2</th>\n",
       "      <td>hamilton</td>\n",
       "    </tr>\n",
       "    <tr>\n",
       "      <th>3</th>\n",
       "      <td>west side story</td>\n",
       "    </tr>\n",
       "    <tr>\n",
       "      <th>4</th>\n",
       "      <td>wicked</td>\n",
       "    </tr>\n",
       "  </tbody>\n",
       "</table>\n",
       "</div>"
      ],
      "text/plain": [
       "                    musical\n",
       "0            les misérables\n",
       "1  the phantom of the opera\n",
       "2                  hamilton\n",
       "3           west side story\n",
       "4                    wicked"
      ]
     },
     "execution_count": 5,
     "metadata": {},
     "output_type": "execute_result"
    }
   ],
   "source": [
    "# Make all names lowercase (and fix spelling of \"Seussical\")\n",
    "names['musical'] = [name.lower().replace('suessical', 'seussical') for name in names['musical']]\n",
    "names.head()"
   ]
  },
  {
   "cell_type": "markdown",
   "metadata": {},
   "source": [
    "# Data Collection"
   ]
  },
  {
   "cell_type": "code",
   "execution_count": 6,
   "metadata": {},
   "outputs": [],
   "source": [
    "# Set up base url\n",
    "baseurl1 = 'https://www.allmusicals.com/lyrics/'\n",
    "baseurl2 = '/synopsis.htm'"
   ]
  },
  {
   "cell_type": "code",
   "execution_count": 7,
   "metadata": {},
   "outputs": [
    {
     "name": "stdout",
     "output_type": "stream",
     "text": [
      "Synopsis for \"lesmiserables\" added to list. Moving on to the next musical...\n",
      "Synopsis for \"thephantomoftheopera\" added to list. Moving on to the next musical...\n",
      "Synopsis for \"hamilton\" added to list. Moving on to the next musical...\n",
      "Synopsis for \"westsidestory\" added to list. Moving on to the next musical...\n",
      "Synopsis for \"wicked\" added to list. Moving on to the next musical...\n",
      "Synopsis for \"chicago\" added to list. Moving on to the next musical...\n",
      "Synopsis for \"rent\" added to list. Moving on to the next musical...\n",
      "Synopsis for \"thelionking\" added to list. Moving on to the next musical...\n",
      "Synopsis for \"thebookofmormon\" added to list. Moving on to the next musical...\n",
      "Synopsis for \"sweeneytoddthedemonbarberoffleetstreet\" added to list. Moving on to the next musical...\n",
      "Synopsis for \"thesoundofmusic\" added to list. Moving on to the next musical...\n",
      "Synopsis for \"fiddlerontheroof\" added to list. Moving on to the next musical...\n",
      "Synopsis for \"intothewoods\" added to list. Moving on to the next musical...\n",
      "Synopsis for \"dearevanhansen\" added to list. Moving on to the next musical...\n",
      "Synopsis for \"hairspray\" added to list. Moving on to the next musical...\n",
      "Synopsis for \"achorusline\" added to list. Moving on to the next musical...\n",
      "Synopsis for \"cabaret\" added to list. Moving on to the next musical...\n",
      "Synopsis for \"littleshopofhorrors\" added to list. Moving on to the next musical...\n",
      "NOT LISTED: \"grease\". Try another source like Wikipedia.\n",
      "Synopsis for \"newsies\" added to list. Moving on to the next musical...\n",
      "Synopsis for \"myfairlady\" added to list. Moving on to the next musical...\n",
      "Synopsis for \"evita\" added to list. Moving on to the next musical...\n",
      "Synopsis for \"jesuschristsuperstar\" added to list. Moving on to the next musical...\n",
      "Synopsis for \"annie\" added to list. Moving on to the next musical...\n",
      "Synopsis for \"singinintherain\" added to list. Moving on to the next musical...\n",
      "Synopsis for \"themusicman\" added to list. Moving on to the next musical...\n",
      "Synopsis for \"matilda\" added to list. Moving on to the next musical...\n",
      "Synopsis for \"springawakening\" added to list. Moving on to the next musical...\n",
      "Synopsis for \"avenueq\" added to list. Moving on to the next musical...\n",
      "Synopsis for \"intheheights\" added to list. Moving on to the next musical...\n",
      "NOT LISTED: \"beauty and the beast\". Try another source like Wikipedia.\n",
      "Synopsis for \"thekingandi\" added to list. Moving on to the next musical...\n",
      "Synopsis for \"marypoppins\" added to list. Moving on to the next musical...\n",
      "Synopsis for \"josephandtheamazingtechnicolordreamcoat\" added to list. Moving on to the next musical...\n",
      "Synopsis for \"mammamia\" added to list. Moving on to the next musical...\n",
      "Synopsis for \"cats\" added to list. Moving on to the next musical...\n",
      "Synopsis for \"guysanddolls\" added to list. Moving on to the next musical...\n",
      "Synopsis for \"pippin\" added to list. Moving on to the next musical...\n",
      "Synopsis for \"anythinggoes\" added to list. Moving on to the next musical...\n",
      "Synopsis for \"kinkyboots\" added to list. Moving on to the next musical...\n",
      "Synopsis for \"misssaigon\" added to list. Moving on to the next musical...\n",
      "Synopsis for \"oklahoma\" added to list. Moving on to the next musical...\n",
      "Synopsis for \"nexttonormal\" added to list. Moving on to the next musical...\n",
      "Synopsis for \"theproducers\" added to list. Moving on to the next musical...\n",
      "Synopsis for \"gypsyamusicalfable\" added to list. Moving on to the next musical...\n",
      "Synopsis for \"dreamgirls\" added to list. Moving on to the next musical...\n",
      "Synopsis for \"hellodolly\" added to list. Moving on to the next musical...\n",
      "Synopsis for \"jerseyboys\" added to list. Moving on to the next musical...\n",
      "Synopsis for \"oliver\" added to list. Moving on to the next musical...\n",
      "Synopsis for \"hair\" added to list. Moving on to the next musical...\n",
      "Synopsis for \"somethingrotten\" added to list. Moving on to the next musical...\n",
      "Synopsis for \"waitress\" added to list. Moving on to the next musical...\n",
      "Synopsis for \"ragtime\" added to list. Moving on to the next musical...\n",
      "Synopsis for \"heathers\" added to list. Moving on to the next musical...\n",
      "NOT LISTED: \"cinderella\". Try another source like Wikipedia.\n",
      "Synopsis for \"falsettos\" added to list. Moving on to the next musical...\n",
      "Synopsis for \"peterpan\" added to list. Moving on to the next musical...\n",
      "Synopsis for \"southpacific\" added to list. Moving on to the next musical...\n",
      "Synopsis for \"spamalot\" added to list. Moving on to the next musical...\n",
      "Synopsis for \"company\" added to list. Moving on to the next musical...\n",
      "Synopsis for \"anniegetyourgun\" added to list. Moving on to the next musical...\n",
      "Synopsis for \"funnygirl\" added to list. Moving on to the next musical...\n",
      "Synopsis for \"thecolorpurple\" added to list. Moving on to the next musical...\n",
      "Synopsis for \"carousel\" added to list. Moving on to the next musical...\n",
      "Synopsis for \"thelittlemermaid\" added to list. Moving on to the next musical...\n",
      "Synopsis for \"byebyebirdie\" added to list. Moving on to the next musical...\n",
      "Synopsis for \"billyelliot\" added to list. Moving on to the next musical...\n",
      "Synopsis for \"theaddamsfamily\" added to list. Moving on to the next musical...\n",
      "Synopsis for \"schoolofrock\" added to list. Moving on to the next musical...\n",
      "Synopsis for \"therockyhorrorshow\" added to list. Moving on to the next musical...\n",
      "Synopsis for \"thoroughlymodernmillie\" added to list. Moving on to the next musical...\n",
      "Synopsis for \"legallyblonde\" added to list. Moving on to the next musical...\n",
      "Synopsis for \"godspell\" added to list. Moving on to the next musical...\n",
      "Synopsis for \"howtosucceedinbusinesswithoutreallytrying\" added to list. Moving on to the next musical...\n",
      "Synopsis for \"camelot\" added to list. Moving on to the next musical...\n",
      "Synopsis for \"hedwigandtheangryinch\" added to list. Moving on to the next musical...\n",
      "Synopsis for \"comefromaway\" added to list. Moving on to the next musical...\n",
      "Synopsis for \"showboat\" added to list. Moving on to the next musical...\n",
      "Synopsis for \"42ndstreet\" added to list. Moving on to the next musical...\n",
      "Synopsis for \"manoflamancha\" added to list. Moving on to the next musical...\n",
      "Synopsis for \"sundayintheparkwithgeorge\" added to list. Moving on to the next musical...\n",
      "Synopsis for \"youreagoodmancharliebrown\" added to list. Moving on to the next musical...\n",
      "Synopsis for \"follies\" added to list. Moving on to the next musical...\n",
      "Synopsis for \"alittlenightmusic\" added to list. Moving on to the next musical...\n",
      "Synopsis for \"lacageauxfolles\" added to list. Moving on to the next musical...\n",
      "Synopsis for \"urinetown\" added to list. Moving on to the next musical...\n",
      "Synopsis for \"sunsetboulevard\" added to list. Moving on to the next musical...\n",
      "Synopsis for \"aladdin\" added to list. Moving on to the next musical...\n",
      "Synopsis for \"anastasia\" added to list. Moving on to the next musical...\n",
      "Synopsis for \"thesecretgarden\" added to list. Moving on to the next musical...\n",
      "Synopsis for \"victorvictoria\" added to list. Moving on to the next musical...\n",
      "Synopsis for \"assassins\" added to list. Moving on to the next musical...\n",
      "NOT LISTED: \"porgy and bess\". Try another source like Wikipedia.\n",
      "Synopsis for \"findingneverland\" added to list. Moving on to the next musical...\n",
      "Synopsis for \"chittychittybangbang\" added to list. Moving on to the next musical...\n",
      "Synopsis for \"the25thannualputnamcountyspellingbee\" added to list. Moving on to the next musical...\n",
      "Synopsis for \"afunnythinghappenedonthewaytotheforum\" added to list. Moving on to the next musical...\n",
      "Synopsis for \"thepiratesofpenzance\" added to list. Moving on to the next musical...\n",
      "Synopsis for \"1776\" added to list. Moving on to the next musical...\n",
      "Synopsis for \"kissmekate\" added to list. Moving on to the next musical...\n",
      "Synopsis for \"damnyankees\" added to list. Moving on to the next musical...\n",
      "Synopsis for \"americanidiot\" added to list. Moving on to the next musical...\n",
      "Synopsis for \"chess\" added to list. Moving on to the next musical...\n",
      "Synopsis for \"thedrowsychaperone\" added to list. Moving on to the next musical...\n",
      "Synopsis for \"agentlemansguidetoloveandmurder\" added to list. Moving on to the next musical...\n",
      "Synopsis for \"thefantasticks\" added to list. Moving on to the next musical...\n",
      "NOT LISTED: \"once\". Try another source like Wikipedia.\n",
      "Synopsis for \"jekyllandhyde\" added to list. Moving on to the next musical...\n"
     ]
    },
    {
     "name": "stdout",
     "output_type": "stream",
     "text": [
      "Synopsis for \"beautifulthecarolekingmusical\" added to list. Moving on to the next musical...\n",
      "Synopsis for \"brigadoon\" added to list. Moving on to the next musical...\n",
      "Synopsis for \"onthetown\" added to list. Moving on to the next musical...\n",
      "Synopsis for \"thewhostommy\" added to list. Moving on to the next musical...\n",
      "Synopsis for \"bemorechill\" added to list. Moving on to the next musical...\n",
      "Synopsis for \"thewiz\" added to list. Moving on to the next musical...\n",
      "Synopsis for \"funhome\" added to list. Moving on to the next musical...\n",
      "Synopsis for \"catchmeifyoucan\" added to list. Moving on to the next musical...\n",
      "Synopsis for \"sweetcharity\" added to list. Moving on to the next musical...\n",
      "Synopsis for \"mame\" added to list. Moving on to the next musical...\n",
      "Synopsis for \"sevenbridesforsevenbrothers\" added to list. Moving on to the next musical...\n",
      "Synopsis for \"sisteract\" added to list. Moving on to the next musical...\n",
      "Synopsis for \"shelovesme\" added to list. Moving on to the next musical...\n",
      "Synopsis for \"candide\" added to list. Moving on to the next musical...\n",
      "Synopsis for \"starlightexpress\" added to list. Moving on to the next musical...\n",
      "Synopsis for \"onceuponamattress\" added to list. Moving on to the next musical...\n",
      "Synopsis for \"achristmascarol\" added to list. Moving on to the next musical...\n",
      "Synopsis for \"frozen\" added to list. Moving on to the next musical...\n",
      "Synopsis for \"natashapierreandthegreatcometof1812\" added to list. Moving on to the next musical...\n",
      "Synopsis for \"aida\" added to list. Moving on to the next musical...\n",
      "Synopsis for \"thelightinthepiazza\" added to list. Moving on to the next musical...\n",
      "Synopsis for \"shrek\" added to list. Moving on to the next musical...\n",
      "Synopsis for \"thefullmonty\" added to list. Moving on to the next musical...\n",
      "Synopsis for \"thebestlittlewhorehouseintexas\" added to list. Moving on to the next musical...\n",
      "NOT LISTED: \"pajama game\". Try another source like Wikipedia.\n",
      "Synopsis for \"bigriver\" added to list. Moving on to the next musical...\n",
      "Synopsis for \"bandstand\" added to list. Moving on to the next musical...\n",
      "Synopsis for \"rockofages\" added to list. Moving on to the next musical...\n",
      "NOT LISTED: \"bonnie  clyde\". Try another source like Wikipedia.\n",
      "Synopsis for \"fame\" added to list. Moving on to the next musical...\n",
      "Synopsis for \"passion\" added to list. Moving on to the next musical...\n",
      "Synopsis for \"thebandsvisit\" added to list. Moving on to the next musical...\n",
      "Synopsis for \"kissofthespiderwoman\" added to list. Moving on to the next musical...\n",
      "Synopsis for \"nine\" added to list. Moving on to the next musical...\n",
      "Synopsis for \"crazyforyou\" added to list. Moving on to the next musical...\n",
      "Synopsis for \"memphis\" added to list. Moving on to the next musical...\n",
      "Synopsis for \"gigi\" added to list. Moving on to the next musical...\n",
      "NOT LISTED: \"beetlejuice\". Try another source like Wikipedia.\n",
      "Synopsis for \"paljoey\" added to list. Moving on to the next musical...\n",
      "Synopsis for \"parade\" added to list. Moving on to the next musical...\n",
      "Synopsis for \"wonderfultown\" added to list. Moving on to the next musical...\n",
      "Synopsis for \"greygardens\" added to list. Moving on to the next musical...\n",
      "Synopsis for \"flowerdrumsong\" added to list. Moving on to the next musical...\n",
      "Synopsis for \"titanic\" added to list. Moving on to the next musical...\n",
      "Synopsis for \"tarzanoftheapes\" added to list. Moving on to the next musical...\n",
      "Synopsis for \"sideshow\" added to list. Moving on to the next musical...\n",
      "Synopsis for \"anewbrain\" added to list. Moving on to the next musical...\n",
      "Synopsis for \"aintmisbehavin\" added to list. Moving on to the next musical...\n",
      "Synopsis for \"childrenofeden\" added to list. Moving on to the next musical...\n",
      "Synopsis for \"highschoolmusicalonstage\" added to list. Moving on to the next musical...\n",
      "Synopsis for \"cancan\" added to list. Moving on to the next musical...\n",
      "Synopsis for \"cityofangels\" added to list. Moving on to the next musical...\n",
      "Synopsis for \"bellsareringing\" added to list. Moving on to the next musical...\n",
      "NOT LISTED: \"tuck everlasting\". Try another source like Wikipedia.\n",
      "NOT LISTED: \"dr seuss how the grinch stole christmas\". Try another source like Wikipedia.\n",
      "Synopsis for \"curtains\" added to list. Moving on to the next musical...\n",
      "Synopsis for \"fosse\" added to list. Moving on to the next musical...\n",
      "Synopsis for \"xanadu\" added to list. Moving on to the next musical...\n",
      "NOT LISTED: \"oh calcutta\". Try another source like Wikipedia.\n",
      "Synopsis for \"thescarletpimpernel\" added to list. Moving on to the next musical...\n",
      "Synopsis for \"movinout\" added to list. Moving on to the next musical...\n",
      "NOT LISTED: \"dogfight\". Try another source like Wikipedia.\n",
      "Synopsis for \"applause\" added to list. Moving on to the next musical...\n",
      "Synopsis for \"kismet\" added to list. Moving on to the next musical...\n",
      "Synopsis for \"warpaint\" added to list. Moving on to the next musical...\n",
      "Synopsis for \"honk\" added to list. Moving on to the next musical...\n",
      "Synopsis for \"bloodbrothers\" added to list. Moving on to the next musical...\n",
      "Synopsis for \"seussical\" added to list. Moving on to the next musical...\n",
      "Synopsis for \"raisin\" added to list. Moving on to the next musical...\n",
      "Synopsis for \"natashapierreandthegreatcometof1812\" added to list. Moving on to the next musical...\n",
      "NOT LISTED: \"twisted\". Try another source like Wikipedia.\n",
      "Synopsis for \"dirtyrottenscoundrels\" added to list. Moving on to the next musical...\n",
      "Synopsis for \"promisespromises\" added to list. Moving on to the next musical...\n",
      "NOT LISTED: \"shenandoah\". Try another source like Wikipedia.\n",
      "Synopsis for \"carnival\" added to list. Moving on to the next musical...\n",
      "NOT LISTED: \"coco\". Try another source like Wikipedia.\n",
      "Synopsis for \"fiorello\" added to list. Moving on to the next musical...\n",
      "Synopsis for \"baby\" added to list. Moving on to the next musical...\n",
      "NOT LISTED: \"cyrano\". Try another source like Wikipedia.\n",
      "NOT LISTED: \"ballroom\". Try another source like Wikipedia.\n",
      "NOT LISTED: \"the magic show\". Try another source like Wikipedia.\n",
      "NOT LISTED: \"dancin\". Try another source like Wikipedia.\n",
      "Synopsis for \"doremi\" added to list. Moving on to the next musical...\n",
      "Synopsis for \"redhead\" added to list. Moving on to the next musical...\n",
      "Synopsis for \"passingstrange\" added to list. Moving on to the next musical...\n",
      "Synopsis for \"newgirlintown\" added to list. Moving on to the next musical...\n",
      "Synopsis for \"grind\" added to list. Moving on to the next musical...\n",
      "Synopsis for \"bigdeal\" added to list. Moving on to the next musical...\n"
     ]
    }
   ],
   "source": [
    "# Set up empty list for musical synopses from allmusicals.com\n",
    "synopses = []\n",
    "missed_musicals = []\n",
    "\n",
    "# Loop through all musicals in the list\n",
    "for name in names['musical']:\n",
    "    \n",
    "    # Credits (UnicodeDecodeError): @Vincent Marchetti 10.13.2008, https://stackoverflow.com/questions/196345/how-to-check-if-a-string-in-python-is-in-ascii\n",
    "    # Credits (unicodedata): @Mini Quark 02.05.2009, https://stackoverflow.com/questions/517923/what-is-the-best-way-to-remove-accents-in-a-python-unicode-string\n",
    "    try:\n",
    "        name.encode('utf-8').decode('ascii')\n",
    "    except UnicodeDecodeError:\n",
    "        name = unicodedata.normalize('NFKD', name).encode('ASCII', 'ignore').decode('utf-8')\n",
    "    \n",
    "    # Remove all punctuation (not a character, number, or space)\n",
    "    name = re.sub(r'[^a-zA-Z0-9 ]+', '', name)\n",
    "    \n",
    "    # Copy original name\n",
    "    og_name = name\n",
    "    \n",
    "    # Handle titles starting with \"The\"\n",
    "    if name[:3] == 'the':\n",
    "        \n",
    "        # Remove whitespace and make lowercase\n",
    "        name = re.sub('[^a-zA-Z0-9]', '', name)\n",
    "        \n",
    "        # Set up list of links to loop over\n",
    "        possible_names = [name[3:], name[3:] + 'the', name, name + 'the']\n",
    "        i = 0        \n",
    "        url = baseurl1 + possible_names[i] + baseurl2\n",
    "        res = requests.get(url)\n",
    "\n",
    "        # Check for which version of the musical name returns a result, if any\n",
    "        while res.status_code != 200:\n",
    "            i += 1\n",
    "            try:\n",
    "                url = baseurl1 + possible_names[i] + baseurl2\n",
    "            except IndexError:\n",
    "                url = ''\n",
    "                break\n",
    "            res = requests.get(url)\n",
    "    \n",
    "    # Handle titles starting with \"A\"\n",
    "    elif name.strip().split()[0] == 'a':\n",
    "        \n",
    "        # Remove whitespace and make lowercase\n",
    "        name = re.sub('[^a-zA-Z0-9]', '', name)\n",
    "        \n",
    "        # Set up list of links to loop over\n",
    "        possible_names = [name[1:], name[1:] + 'a', name, name + 'a']\n",
    "        i = 0        \n",
    "        url = baseurl1 + possible_names[i] + baseurl2\n",
    "        res = requests.get(url)\n",
    "        \n",
    "        # Check for which version of the musical name returns a result, if any\n",
    "        while res.status_code != 200:\n",
    "            i += 1\n",
    "            try:\n",
    "                url = baseurl1 + possible_names[i] + baseurl2\n",
    "            except IndexError:\n",
    "                url = ''\n",
    "                break\n",
    "            res = requests.get(url)\n",
    "    \n",
    "    # Remove \"the musical\" from names\n",
    "    elif 'the musical' in name:\n",
    "        name = name.replace('the musical', '')\n",
    "        name = re.sub('[^a-zA-Z0-9]', '', name)\n",
    "        url = baseurl1 + name + baseurl2\n",
    "        res = requests.get(url)\n",
    "\n",
    "    # Access webpage for all musicals not containing \"The\"\n",
    "    else: \n",
    "        name = re.sub('[^a-zA-Z0-9]', '', name)\n",
    "        url = baseurl1 + name + baseurl2\n",
    "        res = requests.get(url)\n",
    "            \n",
    "    # Try a few more variants of the musical name\n",
    "    if res.status_code != 200:\n",
    "        new_name = og_name.split()[0]\n",
    "        url = baseurl1 + new_name + baseurl2\n",
    "        res = requests.get(url)\n",
    "        if res.status_code != 200:\n",
    "            new_name = ''.join(og_name.split()[:-1])\n",
    "            url = baseurl1 + new_name + baseurl2\n",
    "            res = requests.get(url)\n",
    "            if res.status_code != 200:\n",
    "                new_name = name + 'themusical'\n",
    "                url = baseurl1 + new_name + baseurl2\n",
    "                res = requests.get(url)\n",
    "                if res.status_code != 200:\n",
    "                    new_name = name + 'musical'\n",
    "                    url = baseurl1 + name + baseurl2\n",
    "                    res = requests.get(url)\n",
    "                    if res.status_code != 200:\n",
    "                        new_name = og_name.replace('and', '')\n",
    "                        new_name = re.sub('[^a-zA-Z0-9]', '', new_name)\n",
    "                        url = baseurl1 + new_name + baseurl2\n",
    "                        res = requests.get(url)\n",
    "                        if res.status_code != 200:\n",
    "                            synopses.append('')\n",
    "                            missed_musicals.append(og_name)\n",
    "                            print(f'NOT LISTED: \"{og_name}\". Try another source like Wikipedia.')\n",
    "                            continue\n",
    "\n",
    "    # For all plausible muical names searches, get the synopsis\n",
    "    soup = BeautifulSoup(res.content)\n",
    "    synopsis_html = soup.find('div', {'id': 'page'}).text.replace('\\r', '')\n",
    "    synopsis_list = [words.strip() for words in synopsis_html.split('\\n')[2:-2]]\n",
    "    synopsis = ' '.join(synopsis_list).strip()\n",
    "    synopses.append(synopsis)\n",
    "    print(f'Synopsis for \"{name}\" added to list. Moving on to the next musical...')"
   ]
  },
  {
   "cell_type": "code",
   "execution_count": 8,
   "metadata": {
    "scrolled": true
   },
   "outputs": [
    {
     "name": "stdout",
     "output_type": "stream",
     "text": [
      "196\n",
      "['grease', 'beauty and the beast', 'cinderella', 'porgy and bess', 'once', 'pajama game', 'bonnie  clyde', 'beetlejuice', 'tuck everlasting', 'dr seuss how the grinch stole christmas', 'oh calcutta', 'dogfight', 'twisted', 'shenandoah', 'coco', 'cyrano', 'ballroom', 'the magic show', 'dancin']\n"
     ]
    }
   ],
   "source": [
    "# Check that length of synopses is 196\n",
    "print(len(synopses))\n",
    "\n",
    "# Look at which musicals are missing synopses\n",
    "print(missed_musicals)"
   ]
  },
  {
   "cell_type": "code",
   "execution_count": 9,
   "metadata": {
    "scrolled": true
   },
   "outputs": [
    {
     "data": {
      "text/plain": [
       "19"
      ]
     },
     "execution_count": 9,
     "metadata": {},
     "output_type": "execute_result"
    }
   ],
   "source": [
    "# How many musicals were missed?\n",
    "len(missed_musicals)"
   ]
  },
  {
   "cell_type": "markdown",
   "metadata": {},
   "source": [
    "# Export Data"
   ]
  },
  {
   "cell_type": "code",
   "execution_count": 10,
   "metadata": {
    "scrolled": true
   },
   "outputs": [
    {
     "data": {
      "text/html": [
       "<div>\n",
       "<style scoped>\n",
       "    .dataframe tbody tr th:only-of-type {\n",
       "        vertical-align: middle;\n",
       "    }\n",
       "\n",
       "    .dataframe tbody tr th {\n",
       "        vertical-align: top;\n",
       "    }\n",
       "\n",
       "    .dataframe thead th {\n",
       "        text-align: right;\n",
       "    }\n",
       "</style>\n",
       "<table border=\"1\" class=\"dataframe\">\n",
       "  <thead>\n",
       "    <tr style=\"text-align: right;\">\n",
       "      <th></th>\n",
       "      <th>musical</th>\n",
       "      <th>synopsis</th>\n",
       "    </tr>\n",
       "  </thead>\n",
       "  <tbody>\n",
       "    <tr>\n",
       "      <th>0</th>\n",
       "      <td>les misérables</td>\n",
       "      <td>The musical takes place at the beginning of the XIX century. After 19 years of penal servitude, Jean Valjean is released by policeman Javert. He was arrested for theft of bread for his family. Every month he has to report to the lawyer. Jean isn't hired and despised. Once, he was sheltered by the archbishop. He treated him as brother. Jean Valjean, who still doesn't believe in love, steals all silver in the house and runs. In the morning, he is brought to the archbishop. The man is beat to semi-death. According to policemen, the man has told them that silver was presented him by the archbishop. He agrees with it and gives Jean two silver candlesticks, which Jean stores to his death. The man is so touched by care that he tears all his documents and begins new life. Jean Valjean sells all silver and becomes the mayor 8 years later. He is also an owner of the factory. Poor girl Fantine works on it.  Fantine is exposed to harassment of the foreman and contempt of colleagues. She has a secret. A few years ago, the man has deceived her and has left. She became pregnant and has given birth to the daughter. The girl, Kozetta, grows at the innkeeper and his wife's family. They have their own daughter too. They cruelly manage with the girl. At the same time, the family writes to her mother and swears that she is often ill. Fantine sends them a lot of money and thinks that she rescues the daughter. Soon her secret is revealed by other workers. The mayor asks the foreman to resolve the conflict. Fantine is dismissed. Despaired woman sells her hair and teeth. She hopes to rescue her \"ill\" daughter. Then she becomes a prostitute.  One night, when the client comes to her, she refuses to work. The man offends her and Fantine hits him. At this moment police officers appear, including Javert. Jean Valjean rescues Fantine from prison and carries in hospital. The woman asks him to take care of the daughter and dies. Javert understands that the mayor is Jean, and wants to put him in prison as he looked for fugitive for many years. Jean is escaped. At this time, Kozetta is sent to winter forest for water, where she is found by Valjean. He redeems the girl from innkeepers and asks the church gardener for a shelter for her. The girl lives in the monastery.  Times of June revolt. In the center of a plot are the students who have started revolution. Little Gavroche, the son of impoverished innkeepers, helps them. Marius, one of the associates, notices Kozetta on the street and falls in love with her. The girl reciprocates the young man. By means of Eponine, who is also in love with Marius, he finds the house where lives Kozetta. They start to date in secret from everyone.  Jeanne Valjean and Kozetta are forced to run because of Javert arrival. Gavroche brings them a note from barricades. To rescue Kozetta's beloved, the man goes to the heat of revolt. Just at this moment, students detain Javert. They allow Jean Valjean to kill him. He agrees, and doesn't kill Javert, but releases him on freedom.  At this time on barricades, slaughter is started again. Gavroche and Eponina are killed during fight. When fight is resumed, everyone is in mourning. This time law enforcement authorities try to kill everyone. Jean Valjean rescues wounded Marius. During this he meets the innkeeper on the road (he has stolen a family ring from Marius). Valjean and half-dead Marius are awaited by Javert. He claims that he will arrest the man for all crimes, which Jean has made. However, he doesn't decide to shoot at the person, who has saved his life recently. The guard is exposed to remorse and commits suicide.  Marius recovers. He gets married with Kozetta. Jean Valjean tells the guy his story and departs to the monastery to die. The innkeeper and his wife come to a wedding and tell Marius scurrilous things about Jean Valjean. They don't understand that they speak about the one who has rescued him. Marius and Kozetta run to the monastery, finding the last minutes of Jean's life. When he dies, he is met by Fantine, the archbishop and all dead on barricades. The last song sounds.</td>\n",
       "    </tr>\n",
       "    <tr>\n",
       "      <th>1</th>\n",
       "      <td>the phantom of the opera</td>\n",
       "      <td>At the beginning of the XX century in the Paris Opera House was selling of old props. The most mysterious lot was broken chandelier. With its fall relates the story of the mysterious Phantom, who many years ago was the music patron of this place. Chandelier again rose to the ceiling of the theater &amp; time turned back. It was 1881. In the hall was rehearsed the evening performance. Appeared Phantom so angered diva Carlotta that she categorically refused to act. New theater owners replaced the lead actress. The young chorus girl Christine knew a whole party of diva. She perfectly performed in the evening &amp; very surprised new owners.  After a triumphant debut of Christine, she told her friend about the mysterious music angel, who taught her singing. Soon, to her came a new sponsor of the theater Viscount &amp; recognized a girl – in a childhood, they often played together. A girl told to a young man her deceased father’s telling, which included such music angel. A girl also admitted that this mysterious patron taught her singing. Laughed at her imagination, he invited her to dine. When the young man left the dressing room, in the mirror appeared Phantom. He took her into the mysterious world, which was located deep underground. Teaching his protégé singing, the patron brought the girl to his home &amp; when she fainted, he gently laid her down on his bed. Waking up, she went to an angel &amp; took off his mask to see the true face of her patron.  Soon theater owners received a note from the Phantom. He demanded that the main role in the new opera performed Christine. Otherwise, the theater would suffer a terrible disaster. Owners calmed down furious diva, assuring her in her irreplaceability. During her performance, Phantom made so that the singer lost her voice. Trying to save the play, owners let the ballet on the stage. But then the audience saw the corpse under the ceiling, hanging on a rope &amp; heard a sinister laugh of Phantom. Using the general turmoil, Christine took Mr. Chagny to the roof of the theater, where they explained to each other in love. Overhearing their conversation, Phantom has vowed to avenge to them two.  After 6 months, Phantom visited Masquerade. He brought the owners a new musical creation &amp; demanded a main part for Christine. Mrs. Giry told to viscount a story of Phantom. He was originally born with a disfigured face, the boy grew up in a mobile waxworks. When he managed to escape from there, the teenager found refuge in the theater. There he realized that his calling is to compose music. Viscount decided to catch the Phantom. Christine was choosing between her beloved &amp; teacher. Visiting her father’s grave, the girl almost fell under the spell of Phantom, but she was rescued by viscount. During the premiere, Christine realized that her partner should be Phantom. When she tore off his mask, the audience saw the mutilated face of a man &amp; he kidnapped a girl from the stage.  Viscount was in search of his beloved, when Mrs. Giry showed a way to the dungeon, where Christine was forced to wear a wedding dress. Phantom soon caught the Viscount, who found a way to Phantom’s habitat. A man said that would let go Viscount, if only a girl stays with him. Otherwise her lover would die. Realizing feelings of Phantom, Christine kissed him. Having experienced the first time in life someone else's compassion, Phantom was shocked. He told the girl that he loves her, but she forced herself to turn away from her mentor. Christine &amp; Viscount left. Closed by pallium, Phantom started to cry. Soon, in his lair broke angry mob. But under the pallium, people only found mask of a men – Phantom disappeared.</td>\n",
       "    </tr>\n",
       "  </tbody>\n",
       "</table>\n",
       "</div>"
      ],
      "text/plain": [
       "                    musical  \\\n",
       "0            les misérables   \n",
       "1  the phantom of the opera   \n",
       "\n",
       "                                                                                                                                                                                                                                                                                                                                                                                                                                                                                                                                                                                                                                                                                                                                                                                                                                                                                                                                                                                                                                                                                                                                                                                                                                                                                                                                                                                                                                                                                                                                                                                                                                                                                                                                                                                                                                                                                                                                                                                                                                                                                                                                                                                                                                                                                                                                                                                                                                                                                                                                                                                                                                                                                                                                                                                                                                                                                                                                                                                                                                                                                                                                                                                                                                                                                                                                                                                                                                                                                                                                                                                                                                                                                                                                                                                                                                                                                                                                                                                                                                                                                                                                                                                                                                                                  synopsis  \n",
       "0  The musical takes place at the beginning of the XIX century. After 19 years of penal servitude, Jean Valjean is released by policeman Javert. He was arrested for theft of bread for his family. Every month he has to report to the lawyer. Jean isn't hired and despised. Once, he was sheltered by the archbishop. He treated him as brother. Jean Valjean, who still doesn't believe in love, steals all silver in the house and runs. In the morning, he is brought to the archbishop. The man is beat to semi-death. According to policemen, the man has told them that silver was presented him by the archbishop. He agrees with it and gives Jean two silver candlesticks, which Jean stores to his death. The man is so touched by care that he tears all his documents and begins new life. Jean Valjean sells all silver and becomes the mayor 8 years later. He is also an owner of the factory. Poor girl Fantine works on it.  Fantine is exposed to harassment of the foreman and contempt of colleagues. She has a secret. A few years ago, the man has deceived her and has left. She became pregnant and has given birth to the daughter. The girl, Kozetta, grows at the innkeeper and his wife's family. They have their own daughter too. They cruelly manage with the girl. At the same time, the family writes to her mother and swears that she is often ill. Fantine sends them a lot of money and thinks that she rescues the daughter. Soon her secret is revealed by other workers. The mayor asks the foreman to resolve the conflict. Fantine is dismissed. Despaired woman sells her hair and teeth. She hopes to rescue her \"ill\" daughter. Then she becomes a prostitute.  One night, when the client comes to her, she refuses to work. The man offends her and Fantine hits him. At this moment police officers appear, including Javert. Jean Valjean rescues Fantine from prison and carries in hospital. The woman asks him to take care of the daughter and dies. Javert understands that the mayor is Jean, and wants to put him in prison as he looked for fugitive for many years. Jean is escaped. At this time, Kozetta is sent to winter forest for water, where she is found by Valjean. He redeems the girl from innkeepers and asks the church gardener for a shelter for her. The girl lives in the monastery.  Times of June revolt. In the center of a plot are the students who have started revolution. Little Gavroche, the son of impoverished innkeepers, helps them. Marius, one of the associates, notices Kozetta on the street and falls in love with her. The girl reciprocates the young man. By means of Eponine, who is also in love with Marius, he finds the house where lives Kozetta. They start to date in secret from everyone.  Jeanne Valjean and Kozetta are forced to run because of Javert arrival. Gavroche brings them a note from barricades. To rescue Kozetta's beloved, the man goes to the heat of revolt. Just at this moment, students detain Javert. They allow Jean Valjean to kill him. He agrees, and doesn't kill Javert, but releases him on freedom.  At this time on barricades, slaughter is started again. Gavroche and Eponina are killed during fight. When fight is resumed, everyone is in mourning. This time law enforcement authorities try to kill everyone. Jean Valjean rescues wounded Marius. During this he meets the innkeeper on the road (he has stolen a family ring from Marius). Valjean and half-dead Marius are awaited by Javert. He claims that he will arrest the man for all crimes, which Jean has made. However, he doesn't decide to shoot at the person, who has saved his life recently. The guard is exposed to remorse and commits suicide.  Marius recovers. He gets married with Kozetta. Jean Valjean tells the guy his story and departs to the monastery to die. The innkeeper and his wife come to a wedding and tell Marius scurrilous things about Jean Valjean. They don't understand that they speak about the one who has rescued him. Marius and Kozetta run to the monastery, finding the last minutes of Jean's life. When he dies, he is met by Fantine, the archbishop and all dead on barricades. The last song sounds.  \n",
       "1                                                                                                                                                                                                                                                                                                                                                                                                                                                               At the beginning of the XX century in the Paris Opera House was selling of old props. The most mysterious lot was broken chandelier. With its fall relates the story of the mysterious Phantom, who many years ago was the music patron of this place. Chandelier again rose to the ceiling of the theater & time turned back. It was 1881. In the hall was rehearsed the evening performance. Appeared Phantom so angered diva Carlotta that she categorically refused to act. New theater owners replaced the lead actress. The young chorus girl Christine knew a whole party of diva. She perfectly performed in the evening & very surprised new owners.  After a triumphant debut of Christine, she told her friend about the mysterious music angel, who taught her singing. Soon, to her came a new sponsor of the theater Viscount & recognized a girl – in a childhood, they often played together. A girl told to a young man her deceased father’s telling, which included such music angel. A girl also admitted that this mysterious patron taught her singing. Laughed at her imagination, he invited her to dine. When the young man left the dressing room, in the mirror appeared Phantom. He took her into the mysterious world, which was located deep underground. Teaching his protégé singing, the patron brought the girl to his home & when she fainted, he gently laid her down on his bed. Waking up, she went to an angel & took off his mask to see the true face of her patron.  Soon theater owners received a note from the Phantom. He demanded that the main role in the new opera performed Christine. Otherwise, the theater would suffer a terrible disaster. Owners calmed down furious diva, assuring her in her irreplaceability. During her performance, Phantom made so that the singer lost her voice. Trying to save the play, owners let the ballet on the stage. But then the audience saw the corpse under the ceiling, hanging on a rope & heard a sinister laugh of Phantom. Using the general turmoil, Christine took Mr. Chagny to the roof of the theater, where they explained to each other in love. Overhearing their conversation, Phantom has vowed to avenge to them two.  After 6 months, Phantom visited Masquerade. He brought the owners a new musical creation & demanded a main part for Christine. Mrs. Giry told to viscount a story of Phantom. He was originally born with a disfigured face, the boy grew up in a mobile waxworks. When he managed to escape from there, the teenager found refuge in the theater. There he realized that his calling is to compose music. Viscount decided to catch the Phantom. Christine was choosing between her beloved & teacher. Visiting her father’s grave, the girl almost fell under the spell of Phantom, but she was rescued by viscount. During the premiere, Christine realized that her partner should be Phantom. When she tore off his mask, the audience saw the mutilated face of a man & he kidnapped a girl from the stage.  Viscount was in search of his beloved, when Mrs. Giry showed a way to the dungeon, where Christine was forced to wear a wedding dress. Phantom soon caught the Viscount, who found a way to Phantom’s habitat. A man said that would let go Viscount, if only a girl stays with him. Otherwise her lover would die. Realizing feelings of Phantom, Christine kissed him. Having experienced the first time in life someone else's compassion, Phantom was shocked. He told the girl that he loves her, but she forced herself to turn away from her mentor. Christine & Viscount left. Closed by pallium, Phantom started to cry. Soon, in his lair broke angry mob. But under the pallium, people only found mask of a men – Phantom disappeared.  "
      ]
     },
     "execution_count": 10,
     "metadata": {},
     "output_type": "execute_result"
    }
   ],
   "source": [
    "# Add synopses to dataframe\n",
    "names['synopsis'] = synopses\n",
    "names.head(2)"
   ]
  },
  {
   "cell_type": "code",
   "execution_count": 11,
   "metadata": {},
   "outputs": [],
   "source": [
    "# Export new dataframe\n",
    "names.to_csv('./data/musical_synopses.csv', index=False)"
   ]
  },
  {
   "cell_type": "code",
   "execution_count": null,
   "metadata": {},
   "outputs": [],
   "source": []
  }
 ],
 "metadata": {
  "kernelspec": {
   "display_name": "Python 3",
   "language": "python",
   "name": "python3"
  },
  "language_info": {
   "codemirror_mode": {
    "name": "ipython",
    "version": 3
   },
   "file_extension": ".py",
   "mimetype": "text/x-python",
   "name": "python",
   "nbconvert_exporter": "python",
   "pygments_lexer": "ipython3",
   "version": "3.7.6"
  }
 },
 "nbformat": 4,
 "nbformat_minor": 4
}
