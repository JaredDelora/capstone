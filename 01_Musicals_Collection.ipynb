{
 "cells": [
  {
   "cell_type": "markdown",
   "metadata": {},
   "source": [
    "# Capstone: Musicals"
   ]
  },
  {
   "cell_type": "markdown",
   "metadata": {},
   "source": [
    "Kelly Slatery | US-DSI-10"
   ]
  },
  {
   "cell_type": "code",
   "execution_count": 1,
   "metadata": {},
   "outputs": [],
   "source": [
    "# Imports\n",
    "import pandas as pd\n",
    "from bs4 import BeautifulSoup\n",
    "from selenium import webdriver\n",
    "import time"
   ]
  },
  {
   "cell_type": "markdown",
   "metadata": {},
   "source": [
    "# Webscrape Musical Rankings"
   ]
  },
  {
   "cell_type": "code",
   "execution_count": 2,
   "metadata": {},
   "outputs": [],
   "source": [
    "# Credits (selenium, webdriver): @avi 10.18.2014\n",
    "# https://stackoverflow.com/questions/8049520/web-scraping-javascript-page-with-python\n",
    "# Credits (time.sleep()): @Tikkaty 05.01.2018\n",
    "# https://stackoverflow.com/questions/27112731/selenium-common-exceptions-nosuchelementexception-message-unable-to-locate-ele\n",
    "\n",
    "# Get website content with top 196 musicals\n",
    "driver = webdriver.Chrome('/Users/kelly/Code/chromedriver')\n",
    "driver.get(url)\n",
    "time.sleep(30)\n",
    "soup = BeautifulSoup(driver.page_source, 'html.parser')\n",
    "driver.quit()"
   ]
  },
  {
   "cell_type": "code",
   "execution_count": 3,
   "metadata": {},
   "outputs": [
    {
     "name": "stdout",
     "output_type": "stream",
     "text": [
      "use href=\"#rsvg__arrows--voteUp\" xlink:href=\"#rsvg__arrows--voteUp\" xmlns:xlink=\"http://www.w3.org/1999/xlink\">\n",
      "      </use>\n",
      "     </svg>\n",
      "     <svg class=\"rsvg listItem__voteButton listItem__voteButton--down relative float inlineBlock pointer\" data-clickbound=\"true\">\n",
      "      <use href=\"#rsvg__arrows--voteDown\" xlink:href=\"#rsvg__arrows--voteDown\" xmlns:xlink=\"http://www.w3.org/1999/xlink\">\n",
      "      </use>\n",
      "     </svg>\n",
      "     <span class=\"listItem__voteCount listItem__voteCount--up relative float inlineBlock center grey default\">\n",
      "      2,780\n",
      "     </span>\n",
      "     <span class=\"listItem__voteCount listItem__voteCount--down relative float inlineBlock center grey default\">\n",
      "      1,427\n",
      "     </span>\n",
      "    </div>\n",
      "    <!--googleon: all-->\n",
      "    <figure class=\"listItem__figure relative\">\n",
      "     <img alt=\"Chicago is listed (or ranked) 6 on the list The Greatest Musicals Ever Performed on Broadway, Ranked\" class=\"listItem__image\" data-sizes=\"auto\" itemprop=\"image\" src=\"https://imgix.ranker.com/node_img/129/2566500/o\n"
     ]
    }
   ],
   "source": [
    "print(soup.prettify()[110000:111000])"
   ]
  },
  {
   "cell_type": "code",
   "execution_count": 4,
   "metadata": {
    "scrolled": false
   },
   "outputs": [
    {
     "data": {
      "text/plain": [
       "True"
      ]
     },
     "execution_count": 4,
     "metadata": {},
     "output_type": "execute_result"
    }
   ],
   "source": [
    "'Phantom of the Opera' in soup.text"
   ]
  },
  {
   "cell_type": "code",
   "execution_count": 5,
   "metadata": {
    "scrolled": false
   },
   "outputs": [
    {
     "data": {
      "text/plain": [
       "True"
      ]
     },
     "execution_count": 5,
     "metadata": {},
     "output_type": "execute_result"
    }
   ],
   "source": [
    "'Dreamgirls' in soup.text"
   ]
  },
  {
   "cell_type": "code",
   "execution_count": 6,
   "metadata": {
    "scrolled": false
   },
   "outputs": [
    {
     "data": {
      "text/plain": [
       "True"
      ]
     },
     "execution_count": 6,
     "metadata": {},
     "output_type": "execute_result"
    }
   ],
   "source": [
    "'Big Deal' in soup.text"
   ]
  },
  {
   "cell_type": "code",
   "execution_count": 7,
   "metadata": {},
   "outputs": [
    {
     "data": {
      "text/plain": [
       "{1: 'Les Misérables',\n",
       " 2: 'The Phantom of the Opera',\n",
       " 3: 'Hamilton',\n",
       " 4: 'West Side Story',\n",
       " 5: 'Wicked',\n",
       " 6: 'Chicago',\n",
       " 7: 'Rent',\n",
       " 8: 'The Lion King',\n",
       " 9: 'The Book of Mormon',\n",
       " 10: 'Sweeney Todd: The Demon Barber of Fleet Street',\n",
       " 11: 'The Sound of Music',\n",
       " 12: 'Fiddler on the Roof',\n",
       " 13: 'Into the Woods',\n",
       " 14: 'Dear Evan Hansen',\n",
       " 15: 'Hairspray',\n",
       " 16: 'A Chorus Line',\n",
       " 17: 'Cabaret',\n",
       " 18: 'Little Shop of Horrors',\n",
       " 19: 'Grease',\n",
       " 20: 'Newsies',\n",
       " 21: 'My Fair Lady',\n",
       " 22: 'Evita',\n",
       " 23: 'Jesus Christ Superstar',\n",
       " 24: 'Annie',\n",
       " 25: \"Singin' in the Rain\"}"
      ]
     },
     "execution_count": 7,
     "metadata": {},
     "output_type": "execute_result"
    }
   ],
   "source": [
    "# Credits (how to get 'content'): @the_t_test_1, 04.21.2016\n",
    "# https://stackoverflow.com/questions/36768068/get-meta-tag-content-property-with-beautifulsoup-and-python\n",
    "\n",
    "# Create a dictionary of the top 196 musicals and their voted rankings\n",
    "musicals = {}\n",
    "i = 0\n",
    "\n",
    "# Grab only the first 25 titles\n",
    "for musical in soup.find('article').find_all('div', {'class': 'listItem listItem__h2 listItem__h2--grid listItem__h2--popUp pointer flex relative robotoC'}):\n",
    "    tag = musical.find('div', {'class': 'listItem__data'}).find('meta')\n",
    "    musical_name = tag.get('content')\n",
    "    i += 1\n",
    "    musicals[i] = musical_name\n",
    "\n",
    "musicals"
   ]
  },
  {
   "cell_type": "code",
   "execution_count": 8,
   "metadata": {},
   "outputs": [
    {
     "data": {
      "text/plain": [
       "{1: 'Les Misérables',\n",
       " 2: 'The Phantom of the Opera',\n",
       " 3: 'Hamilton',\n",
       " 4: 'West Side Story',\n",
       " 5: 'Wicked',\n",
       " 6: 'Chicago',\n",
       " 7: 'Rent',\n",
       " 8: 'The Lion King',\n",
       " 9: 'The Book of Mormon',\n",
       " 10: 'Sweeney Todd: The Demon Barber of Fleet Street',\n",
       " 11: 'The Sound of Music',\n",
       " 12: 'Fiddler on the Roof',\n",
       " 13: 'Into the Woods',\n",
       " 14: 'Dear Evan Hansen',\n",
       " 15: 'Hairspray',\n",
       " 16: 'A Chorus Line',\n",
       " 17: 'Cabaret',\n",
       " 18: 'Little Shop of Horrors',\n",
       " 19: 'Grease',\n",
       " 20: 'Newsies',\n",
       " 21: 'My Fair Lady',\n",
       " 22: 'Evita',\n",
       " 23: 'Jesus Christ Superstar',\n",
       " 24: 'Annie',\n",
       " 25: \"Singin' in the Rain\",\n",
       " 26: 'The Music Man',\n",
       " 27: 'Matilda',\n",
       " 28: 'Spring Awakening',\n",
       " 29: 'Avenue Q',\n",
       " 30: 'In the Heights',\n",
       " 31: 'Beauty and the Beast',\n",
       " 32: 'The King and I',\n",
       " 33: 'Mary Poppins',\n",
       " 34: 'Joseph and the Amazing Technicolor Dreamcoat',\n",
       " 35: 'Mamma Mia!',\n",
       " 36: 'Cats',\n",
       " 37: 'Guys and Dolls',\n",
       " 38: 'Pippin',\n",
       " 39: 'Anything Goes',\n",
       " 40: 'Kinky Boots',\n",
       " 41: 'Miss Saigon',\n",
       " 42: 'oklahoma',\n",
       " 43: 'Next to Normal',\n",
       " 44: 'The Producers',\n",
       " 45: 'Gypsy: A Musical Fable',\n",
       " 46: 'Dreamgirls',\n",
       " 47: 'Hello, Dolly!',\n",
       " 48: 'Jersey Boys',\n",
       " 49: 'Oliver!',\n",
       " 50: 'Hair',\n",
       " 51: 'Something Rotten',\n",
       " 52: 'Waitress',\n",
       " 53: 'Ragtime',\n",
       " 54: 'Heathers',\n",
       " 55: 'Cinderella',\n",
       " 56: 'Falsettos',\n",
       " 57: 'Peter Pan',\n",
       " 58: 'South Pacific',\n",
       " 59: 'Spamalot',\n",
       " 60: 'Company',\n",
       " 61: 'Annie Get Your Gun',\n",
       " 62: 'Funny Girl',\n",
       " 63: 'The Color Purple',\n",
       " 64: 'Carousel',\n",
       " 65: 'The Little Mermaid',\n",
       " 66: 'Bye Bye Birdie',\n",
       " 67: 'Billy Elliot the Musical',\n",
       " 68: 'The addams family',\n",
       " 69: 'School of Rock - the Musical',\n",
       " 70: 'The Rocky Horror Show',\n",
       " 71: 'Thoroughly Modern Millie',\n",
       " 72: 'Legally Blonde',\n",
       " 73: 'Godspell',\n",
       " 74: 'How to Succeed in Business Without Really Trying',\n",
       " 75: 'Camelot',\n",
       " 76: 'Hedwig and the Angry Inch',\n",
       " 77: 'Come from Away',\n",
       " 78: 'Show Boat',\n",
       " 79: '42nd Street',\n",
       " 80: 'Man of La Mancha',\n",
       " 81: 'Sunday in the Park with George',\n",
       " 82: \"You're a Good Man, Charlie Brown\",\n",
       " 83: 'Follies',\n",
       " 84: 'A Little Night Music',\n",
       " 85: 'La Cage aux Folles',\n",
       " 86: 'Urinetown',\n",
       " 87: 'Sunset Boulevard',\n",
       " 88: 'Aladdin',\n",
       " 89: 'Anastasia',\n",
       " 90: 'The Secret Garden',\n",
       " 91: 'Victor/Victoria',\n",
       " 92: 'Assassins',\n",
       " 93: 'Porgy and Bess',\n",
       " 94: 'Finding Neverland',\n",
       " 95: 'Chitty Chitty Bang Bang',\n",
       " 96: 'The 25th Annual Putnam County Spelling Bee',\n",
       " 97: 'A Funny Thing Happened on the Way to the Forum',\n",
       " 98: 'The Pirates of Penzance',\n",
       " 99: '1776',\n",
       " 100: 'Kiss Me, Kate',\n",
       " 101: 'Damn Yankees',\n",
       " 102: 'American Idiot',\n",
       " 103: 'Chess',\n",
       " 104: 'The Drowsy Chaperone',\n",
       " 105: \"A Gentleman's Guide to Love and Murder\",\n",
       " 106: 'The Fantasticks',\n",
       " 107: 'Once',\n",
       " 108: 'Jekyll and Hyde',\n",
       " 109: 'Beautiful: the Carole King Musical',\n",
       " 110: 'Brigadoon',\n",
       " 111: 'On the Town',\n",
       " 112: \"The Who's Tommy\",\n",
       " 113: 'Be More Chill',\n",
       " 114: 'The Wiz',\n",
       " 115: 'Fun Home',\n",
       " 116: 'Catch Me If You Can',\n",
       " 117: 'Sweet Charity',\n",
       " 118: 'Mame',\n",
       " 119: 'Seven Brides for Seven Brothers',\n",
       " 120: 'Sister Act',\n",
       " 121: 'She Loves Me',\n",
       " 122: 'Candide',\n",
       " 123: 'Starlight Express',\n",
       " 124: 'Once Upon a Mattress',\n",
       " 125: 'A Christmas Carol',\n",
       " 126: 'Frozen',\n",
       " 127: 'Natasha Pierre and the Great Comet of 1812',\n",
       " 128: 'Aida',\n",
       " 129: 'The Light in the Piazza',\n",
       " 130: 'Shrek the Musical',\n",
       " 131: 'The Full Monty',\n",
       " 132: 'The Best Little Whorehouse in Texas',\n",
       " 133: 'pajama game',\n",
       " 134: 'Big River',\n",
       " 135: 'Bandstand',\n",
       " 136: 'Rock of Ages',\n",
       " 137: 'Bonnie & Clyde',\n",
       " 138: 'Fame',\n",
       " 139: 'Passion',\n",
       " 140: \"The Band's Visit\",\n",
       " 141: 'Kiss of the Spider Woman',\n",
       " 142: 'Nine',\n",
       " 143: 'Crazy for You',\n",
       " 144: 'Memphis',\n",
       " 145: 'Gigi',\n",
       " 146: 'Beetlejuice',\n",
       " 147: 'Pal Joey',\n",
       " 148: 'Parade',\n",
       " 149: 'Wonderful Town',\n",
       " 150: 'Grey Gardens',\n",
       " 151: 'Flower Drum Song',\n",
       " 152: 'Titanic',\n",
       " 153: 'Tarzan of the Apes',\n",
       " 154: 'Side Show',\n",
       " 155: 'A New Brain',\n",
       " 156: \"Ain't Misbehavin'\",\n",
       " 157: 'Children of Eden',\n",
       " 158: 'High School Musical on Stage!',\n",
       " 159: 'Can-Can',\n",
       " 160: 'City of Angels',\n",
       " 161: 'Bells Are Ringing',\n",
       " 162: 'Tuck Everlasting',\n",
       " 163: \"Dr. Seuss' How the Grinch Stole Christmas!\",\n",
       " 164: 'Curtains',\n",
       " 165: 'Fosse',\n",
       " 166: 'Xanadu',\n",
       " 167: 'Oh! Calcutta!',\n",
       " 168: 'The Scarlet Pimpernel',\n",
       " 169: \"Movin' Out\",\n",
       " 170: 'Dogfight',\n",
       " 171: 'Applause',\n",
       " 172: 'Kismet',\n",
       " 173: 'War Paint',\n",
       " 174: 'Honk!',\n",
       " 175: 'Blood Brothers',\n",
       " 176: 'Suessical the Musical',\n",
       " 177: 'Raisin',\n",
       " 178: 'Natasha, Pierre, and the Great Comet of 1812',\n",
       " 179: 'Twisted',\n",
       " 180: 'Dirty Rotten Scoundrels',\n",
       " 181: 'Promises, Promises',\n",
       " 182: 'Shenandoah',\n",
       " 183: 'Carnival!',\n",
       " 184: 'Coco',\n",
       " 185: 'Fiorello!',\n",
       " 186: 'Baby',\n",
       " 187: 'Cyrano',\n",
       " 188: 'Ballroom',\n",
       " 189: 'The Magic Show',\n",
       " 190: \"Dancin'\",\n",
       " 191: 'Do Re Mi',\n",
       " 192: 'Redhead',\n",
       " 193: 'Passing Strange',\n",
       " 194: 'New girl in town',\n",
       " 195: 'Grind',\n",
       " 196: 'Big Deal'}"
      ]
     },
     "execution_count": 8,
     "metadata": {},
     "output_type": "execute_result"
    }
   ],
   "source": [
    "# Grab the remaining 171 titles\n",
    "i = 25\n",
    "for musical in soup.find_all('div', {'class': 'listItem listItem__h2 listItem__h2--grid flex relative robotoC listItem__h2--popUp pointer'}):\n",
    "    tag = musical.find('div', {'class': 'listItem__data'}).find_all('meta')[1]\n",
    "    musical_name = tag.get('content')\n",
    "    i += 1\n",
    "    musicals[i] = musical_name\n",
    "\n",
    "musicals"
   ]
  },
  {
   "cell_type": "markdown",
   "metadata": {},
   "source": [
    "# Export Musical List"
   ]
  },
  {
   "cell_type": "code",
   "execution_count": 9,
   "metadata": {},
   "outputs": [],
   "source": [
    "musicals_series = pd.Series(musicals)"
   ]
  },
  {
   "cell_type": "code",
   "execution_count": 10,
   "metadata": {},
   "outputs": [],
   "source": [
    "musicals_df = pd.DataFrame(musicals_series, columns=['musical'])"
   ]
  },
  {
   "cell_type": "code",
   "execution_count": 11,
   "metadata": {},
   "outputs": [],
   "source": [
    "musicals_df.to_csv('./data/musical_names.csv', index=False)"
   ]
  },
  {
   "cell_type": "code",
   "execution_count": null,
   "metadata": {},
   "outputs": [],
   "source": []
  }
 ],
 "metadata": {
  "kernelspec": {
   "display_name": "Python 3",
   "language": "python",
   "name": "python3"
  },
  "language_info": {
   "codemirror_mode": {
    "name": "ipython",
    "version": 3
   },
   "file_extension": ".py",
   "mimetype": "text/x-python",
   "name": "python",
   "nbconvert_exporter": "python",
   "pygments_lexer": "ipython3",
   "version": "3.7.6"
  }
 },
 "nbformat": 4,
 "nbformat_minor": 2
}
