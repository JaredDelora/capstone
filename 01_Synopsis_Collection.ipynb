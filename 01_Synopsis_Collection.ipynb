{
 "cells": [
  {
   "cell_type": "markdown",
   "metadata": {},
   "source": [
    "# Capstone: Musical Recommender"
   ]
  },
  {
   "cell_type": "markdown",
   "metadata": {},
   "source": [
    "Kelly Slatery | US-DSI-10"
   ]
  },
  {
   "cell_type": "code",
   "execution_count": 1,
   "metadata": {},
   "outputs": [],
   "source": [
    "# Imports \n",
    "import numpy as np\n",
    "import pandas as pd\n",
    "import time\n",
    "import requests\n",
    "from bs4 import BeautifulSoup\n",
    "import regex as re\n",
    "from nltk.tokenize import RegexpTokenizer\n",
    "import unicodedata"
   ]
  },
  {
   "cell_type": "code",
   "execution_count": 2,
   "metadata": {},
   "outputs": [],
   "source": [
    "# Set view options\n",
    "pd.set_option('display.max_rows', None)\n",
    "pd.set_option('display.max_columns', None)\n",
    "pd.set_option('display.width', None)\n",
    "pd.set_option('display.max_colwidth', None)"
   ]
  },
  {
   "cell_type": "markdown",
   "metadata": {},
   "source": [
    "# Import and Clean Data"
   ]
  },
  {
   "cell_type": "code",
   "execution_count": 3,
   "metadata": {},
   "outputs": [
    {
     "data": {
      "text/plain": [
       "(196, 1)"
      ]
     },
     "execution_count": 3,
     "metadata": {},
     "output_type": "execute_result"
    }
   ],
   "source": [
    "# Import list of musicals\n",
    "names = pd.read_csv('./data/musical_names.csv')\n",
    "names.shape"
   ]
  },
  {
   "cell_type": "code",
   "execution_count": 4,
   "metadata": {
    "scrolled": true
   },
   "outputs": [
    {
     "data": {
      "text/html": [
       "<div>\n",
       "<style scoped>\n",
       "    .dataframe tbody tr th:only-of-type {\n",
       "        vertical-align: middle;\n",
       "    }\n",
       "\n",
       "    .dataframe tbody tr th {\n",
       "        vertical-align: top;\n",
       "    }\n",
       "\n",
       "    .dataframe thead th {\n",
       "        text-align: right;\n",
       "    }\n",
       "</style>\n",
       "<table border=\"1\" class=\"dataframe\">\n",
       "  <thead>\n",
       "    <tr style=\"text-align: right;\">\n",
       "      <th></th>\n",
       "      <th>musical</th>\n",
       "    </tr>\n",
       "  </thead>\n",
       "  <tbody>\n",
       "    <tr>\n",
       "      <th>0</th>\n",
       "      <td>Les Misérables</td>\n",
       "    </tr>\n",
       "    <tr>\n",
       "      <th>1</th>\n",
       "      <td>The Phantom of the Opera</td>\n",
       "    </tr>\n",
       "    <tr>\n",
       "      <th>2</th>\n",
       "      <td>Hamilton</td>\n",
       "    </tr>\n",
       "    <tr>\n",
       "      <th>3</th>\n",
       "      <td>West Side Story</td>\n",
       "    </tr>\n",
       "    <tr>\n",
       "      <th>4</th>\n",
       "      <td>Wicked</td>\n",
       "    </tr>\n",
       "  </tbody>\n",
       "</table>\n",
       "</div>"
      ],
      "text/plain": [
       "                    musical\n",
       "0            Les Misérables\n",
       "1  The Phantom of the Opera\n",
       "2                  Hamilton\n",
       "3           West Side Story\n",
       "4                    Wicked"
      ]
     },
     "execution_count": 4,
     "metadata": {},
     "output_type": "execute_result"
    }
   ],
   "source": [
    "names.head()"
   ]
  },
  {
   "cell_type": "code",
   "execution_count": 5,
   "metadata": {
    "scrolled": true
   },
   "outputs": [
    {
     "data": {
      "text/html": [
       "<div>\n",
       "<style scoped>\n",
       "    .dataframe tbody tr th:only-of-type {\n",
       "        vertical-align: middle;\n",
       "    }\n",
       "\n",
       "    .dataframe tbody tr th {\n",
       "        vertical-align: top;\n",
       "    }\n",
       "\n",
       "    .dataframe thead th {\n",
       "        text-align: right;\n",
       "    }\n",
       "</style>\n",
       "<table border=\"1\" class=\"dataframe\">\n",
       "  <thead>\n",
       "    <tr style=\"text-align: right;\">\n",
       "      <th></th>\n",
       "      <th>musical</th>\n",
       "    </tr>\n",
       "  </thead>\n",
       "  <tbody>\n",
       "    <tr>\n",
       "      <th>0</th>\n",
       "      <td>Les Miserables</td>\n",
       "    </tr>\n",
       "    <tr>\n",
       "      <th>1</th>\n",
       "      <td>The Phantom of the Opera</td>\n",
       "    </tr>\n",
       "    <tr>\n",
       "      <th>2</th>\n",
       "      <td>Hamilton</td>\n",
       "    </tr>\n",
       "    <tr>\n",
       "      <th>3</th>\n",
       "      <td>West Side Story</td>\n",
       "    </tr>\n",
       "    <tr>\n",
       "      <th>4</th>\n",
       "      <td>Wicked</td>\n",
       "    </tr>\n",
       "  </tbody>\n",
       "</table>\n",
       "</div>"
      ],
      "text/plain": [
       "                    musical\n",
       "0            Les Miserables\n",
       "1  The Phantom of the Opera\n",
       "2                  Hamilton\n",
       "3           West Side Story\n",
       "4                    Wicked"
      ]
     },
     "execution_count": 5,
     "metadata": {},
     "output_type": "execute_result"
    }
   ],
   "source": [
    "# Convert accented characters to ascii (normal) characters\n",
    "names['musical'] = [unicodedata.normalize('NFKD', name).encode('ASCII', 'ignore').decode('utf-8') for name in names['musical']]\n",
    "names.head()"
   ]
  },
  {
   "cell_type": "code",
   "execution_count": 6,
   "metadata": {},
   "outputs": [
    {
     "data": {
      "text/html": [
       "<div>\n",
       "<style scoped>\n",
       "    .dataframe tbody tr th:only-of-type {\n",
       "        vertical-align: middle;\n",
       "    }\n",
       "\n",
       "    .dataframe tbody tr th {\n",
       "        vertical-align: top;\n",
       "    }\n",
       "\n",
       "    .dataframe thead th {\n",
       "        text-align: right;\n",
       "    }\n",
       "</style>\n",
       "<table border=\"1\" class=\"dataframe\">\n",
       "  <thead>\n",
       "    <tr style=\"text-align: right;\">\n",
       "      <th></th>\n",
       "      <th>musical</th>\n",
       "    </tr>\n",
       "  </thead>\n",
       "  <tbody>\n",
       "    <tr>\n",
       "      <th>0</th>\n",
       "      <td>lesmiserables</td>\n",
       "    </tr>\n",
       "    <tr>\n",
       "      <th>1</th>\n",
       "      <td>thephantomoftheopera</td>\n",
       "    </tr>\n",
       "    <tr>\n",
       "      <th>2</th>\n",
       "      <td>hamilton</td>\n",
       "    </tr>\n",
       "    <tr>\n",
       "      <th>3</th>\n",
       "      <td>westsidestory</td>\n",
       "    </tr>\n",
       "    <tr>\n",
       "      <th>4</th>\n",
       "      <td>wicked</td>\n",
       "    </tr>\n",
       "  </tbody>\n",
       "</table>\n",
       "</div>"
      ],
      "text/plain": [
       "                musical\n",
       "0         lesmiserables\n",
       "1  thephantomoftheopera\n",
       "2              hamilton\n",
       "3         westsidestory\n",
       "4                wicked"
      ]
     },
     "execution_count": 6,
     "metadata": {},
     "output_type": "execute_result"
    }
   ],
   "source": [
    "# Remove all spaces and capital letters\n",
    "names['musical'] = [re.sub('[^a-zA-Z0-9]', '', name).replace(\"'\", '').lower() for name in names['musical']]\n",
    "names.head()"
   ]
  },
  {
   "cell_type": "markdown",
   "metadata": {},
   "source": [
    "# Data Collection"
   ]
  },
  {
   "cell_type": "code",
   "execution_count": 7,
   "metadata": {},
   "outputs": [],
   "source": [
    "# Set up base url\n",
    "baseurl1 = 'https://www.allmusicals.com/lyrics/'\n",
    "baseurl2 = '/synopsis.htm'\n",
    "\n",
    "# f'https://www.allmusicals.com/lyrics/{}/synopsis.htm'"
   ]
  },
  {
   "cell_type": "code",
   "execution_count": 8,
   "metadata": {},
   "outputs": [
    {
     "name": "stdout",
     "output_type": "stream",
     "text": [
      "Synopsis for \"lesmiserables\" added to list. Moving on to the next musical...\n",
      "Synopsis for \"thephantomoftheopera\" added to list. Moving on to the next musical...\n",
      "Synopsis for \"hamilton\" added to list. Moving on to the next musical...\n",
      "Synopsis for \"westsidestory\" added to list. Moving on to the next musical...\n",
      "Synopsis for \"wicked\" added to list. Moving on to the next musical...\n",
      "Synopsis for \"chicago\" added to list. Moving on to the next musical...\n",
      "Synopsis for \"rent\" added to list. Moving on to the next musical...\n",
      "Synopsis for \"thelionking\" added to list. Moving on to the next musical...\n",
      "Synopsis for \"thebookofmormon\" added to list. Moving on to the next musical...\n",
      "Synopsis for \"sweeneytoddthedemonbarberoffleetstreet\" added to list. Moving on to the next musical...\n",
      "Synopsis for \"thesoundofmusic\" added to list. Moving on to the next musical...\n",
      "Synopsis for \"fiddlerontheroof\" added to list. Moving on to the next musical...\n",
      "Synopsis for \"intothewoods\" added to list. Moving on to the next musical...\n",
      "Synopsis for \"dearevanhansen\" added to list. Moving on to the next musical...\n",
      "Synopsis for \"hairspray\" added to list. Moving on to the next musical...\n",
      "Synopsis for \"achorusline\" not listed on allmusicals.com. Try another source like Wikipedia.\n",
      "Synopsis for \"cabaret\" added to list. Moving on to the next musical...\n",
      "Synopsis for \"littleshopofhorrors\" added to list. Moving on to the next musical...\n",
      "Synopsis for \"grease\" not listed on allmusicals.com. Try another source like Wikipedia.\n",
      "Synopsis for \"newsies\" added to list. Moving on to the next musical...\n",
      "Synopsis for \"myfairlady\" added to list. Moving on to the next musical...\n",
      "Synopsis for \"evita\" added to list. Moving on to the next musical...\n",
      "Synopsis for \"jesuschristsuperstar\" added to list. Moving on to the next musical...\n",
      "Synopsis for \"annie\" added to list. Moving on to the next musical...\n",
      "Synopsis for \"singinintherain\" added to list. Moving on to the next musical...\n",
      "Synopsis for \"themusicman\" added to list. Moving on to the next musical...\n",
      "Synopsis for \"matilda\" added to list. Moving on to the next musical...\n",
      "Synopsis for \"springawakening\" added to list. Moving on to the next musical...\n",
      "Synopsis for \"avenueq\" added to list. Moving on to the next musical...\n",
      "Synopsis for \"intheheights\" added to list. Moving on to the next musical...\n",
      "Synopsis for \"beautyandthebeast\" not listed on allmusicals.com. Try another source like Wikipedia.\n",
      "Synopsis for \"thekingandi\" added to list. Moving on to the next musical...\n",
      "Synopsis for \"marypoppins\" added to list. Moving on to the next musical...\n",
      "Synopsis for \"josephandtheamazingtechnicolordreamcoat\" added to list. Moving on to the next musical...\n",
      "Synopsis for \"mammamia\" added to list. Moving on to the next musical...\n",
      "Synopsis for \"cats\" added to list. Moving on to the next musical...\n",
      "Synopsis for \"guysanddolls\" added to list. Moving on to the next musical...\n",
      "Synopsis for \"pippin\" added to list. Moving on to the next musical...\n",
      "Synopsis for \"anythinggoes\" added to list. Moving on to the next musical...\n",
      "Synopsis for \"kinkyboots\" added to list. Moving on to the next musical...\n",
      "Synopsis for \"misssaigon\" added to list. Moving on to the next musical...\n",
      "Synopsis for \"oklahoma\" added to list. Moving on to the next musical...\n",
      "Synopsis for \"nexttonormal\" added to list. Moving on to the next musical...\n",
      "Synopsis for \"theproducers\" added to list. Moving on to the next musical...\n",
      "Synopsis for \"gypsyamusicalfable\" not listed on allmusicals.com. Try another source like Wikipedia.\n",
      "Synopsis for \"dreamgirls\" added to list. Moving on to the next musical...\n",
      "Synopsis for \"hellodolly\" added to list. Moving on to the next musical...\n",
      "Synopsis for \"jerseyboys\" added to list. Moving on to the next musical...\n",
      "Synopsis for \"oliver\" added to list. Moving on to the next musical...\n",
      "Synopsis for \"hair\" added to list. Moving on to the next musical...\n",
      "Synopsis for \"somethingrotten\" added to list. Moving on to the next musical...\n",
      "Synopsis for \"waitress\" added to list. Moving on to the next musical...\n",
      "Synopsis for \"ragtime\" added to list. Moving on to the next musical...\n",
      "Synopsis for \"heathers\" added to list. Moving on to the next musical...\n",
      "Synopsis for \"cinderella\" not listed on allmusicals.com. Try another source like Wikipedia.\n",
      "Synopsis for \"falsettos\" added to list. Moving on to the next musical...\n",
      "Synopsis for \"peterpan\" added to list. Moving on to the next musical...\n",
      "Synopsis for \"southpacific\" added to list. Moving on to the next musical...\n",
      "Synopsis for \"spamalot\" added to list. Moving on to the next musical...\n",
      "Synopsis for \"company\" added to list. Moving on to the next musical...\n",
      "Synopsis for \"anniegetyourgun\" added to list. Moving on to the next musical...\n",
      "Synopsis for \"funnygirl\" added to list. Moving on to the next musical...\n",
      "Synopsis for \"thecolorpurple\" added to list. Moving on to the next musical...\n",
      "Synopsis for \"carousel\" added to list. Moving on to the next musical...\n",
      "Synopsis for \"thelittlemermaid\" added to list. Moving on to the next musical...\n",
      "Synopsis for \"byebyebirdie\" added to list. Moving on to the next musical...\n",
      "Synopsis for \"billyelliotthemusical\" not listed on allmusicals.com. Try another source like Wikipedia.\n",
      "Synopsis for \"theaddamsfamily\" added to list. Moving on to the next musical...\n",
      "Synopsis for \"schoolofrockthemusical\" not listed on allmusicals.com. Try another source like Wikipedia.\n",
      "Synopsis for \"therockyhorrorshow\" added to list. Moving on to the next musical...\n",
      "Synopsis for \"thoroughlymodernmillie\" added to list. Moving on to the next musical...\n",
      "Synopsis for \"legallyblonde\" added to list. Moving on to the next musical...\n",
      "Synopsis for \"godspell\" added to list. Moving on to the next musical...\n",
      "Synopsis for \"howtosucceedinbusinesswithoutreallytrying\" added to list. Moving on to the next musical...\n",
      "Synopsis for \"camelot\" added to list. Moving on to the next musical...\n",
      "Synopsis for \"hedwigandtheangryinch\" added to list. Moving on to the next musical...\n",
      "Synopsis for \"comefromaway\" added to list. Moving on to the next musical...\n",
      "Synopsis for \"showboat\" added to list. Moving on to the next musical...\n",
      "Synopsis for \"42ndstreet\" added to list. Moving on to the next musical...\n",
      "Synopsis for \"manoflamancha\" added to list. Moving on to the next musical...\n",
      "Synopsis for \"sundayintheparkwithgeorge\" added to list. Moving on to the next musical...\n",
      "Synopsis for \"youreagoodmancharliebrown\" added to list. Moving on to the next musical...\n",
      "Synopsis for \"follies\" added to list. Moving on to the next musical...\n",
      "Synopsis for \"alittlenightmusic\" not listed on allmusicals.com. Try another source like Wikipedia.\n",
      "Synopsis for \"lacageauxfolles\" added to list. Moving on to the next musical...\n",
      "Synopsis for \"urinetown\" added to list. Moving on to the next musical...\n",
      "Synopsis for \"sunsetboulevard\" added to list. Moving on to the next musical...\n",
      "Synopsis for \"aladdin\" added to list. Moving on to the next musical...\n",
      "Synopsis for \"anastasia\" added to list. Moving on to the next musical...\n",
      "Synopsis for \"thesecretgarden\" added to list. Moving on to the next musical...\n",
      "Synopsis for \"victorvictoria\" added to list. Moving on to the next musical...\n",
      "Synopsis for \"assassins\" added to list. Moving on to the next musical...\n",
      "Synopsis for \"porgyandbess\" not listed on allmusicals.com. Try another source like Wikipedia.\n",
      "Synopsis for \"findingneverland\" added to list. Moving on to the next musical...\n",
      "Synopsis for \"chittychittybangbang\" added to list. Moving on to the next musical...\n",
      "Synopsis for \"the25thannualputnamcountyspellingbee\" added to list. Moving on to the next musical...\n",
      "Synopsis for \"afunnythinghappenedonthewaytotheforum\" not listed on allmusicals.com. Try another source like Wikipedia.\n",
      "Synopsis for \"thepiratesofpenzance\" added to list. Moving on to the next musical...\n",
      "Synopsis for \"1776\" added to list. Moving on to the next musical...\n",
      "Synopsis for \"kissmekate\" added to list. Moving on to the next musical...\n",
      "Synopsis for \"damnyankees\" added to list. Moving on to the next musical...\n",
      "Synopsis for \"americanidiot\" added to list. Moving on to the next musical...\n",
      "Synopsis for \"chess\" added to list. Moving on to the next musical...\n",
      "Synopsis for \"thedrowsychaperone\" added to list. Moving on to the next musical...\n",
      "Synopsis for \"agentlemansguidetoloveandmurder\" not listed on allmusicals.com. Try another source like Wikipedia.\n"
     ]
    },
    {
     "name": "stdout",
     "output_type": "stream",
     "text": [
      "Synopsis for \"thefantasticks\" added to list. Moving on to the next musical...\n",
      "Synopsis for \"once\" not listed on allmusicals.com. Try another source like Wikipedia.\n",
      "Synopsis for \"jekyllandhyde\" not listed on allmusicals.com. Try another source like Wikipedia.\n",
      "Synopsis for \"beautifulthecarolekingmusical\" not listed on allmusicals.com. Try another source like Wikipedia.\n",
      "Synopsis for \"brigadoon\" added to list. Moving on to the next musical...\n",
      "Synopsis for \"onthetown\" added to list. Moving on to the next musical...\n",
      "Synopsis for \"thewhostommy\" added to list. Moving on to the next musical...\n",
      "Synopsis for \"bemorechill\" added to list. Moving on to the next musical...\n",
      "Synopsis for \"thewiz\" added to list. Moving on to the next musical...\n",
      "Synopsis for \"funhome\" added to list. Moving on to the next musical...\n",
      "Synopsis for \"catchmeifyoucan\" added to list. Moving on to the next musical...\n",
      "Synopsis for \"sweetcharity\" added to list. Moving on to the next musical...\n",
      "Synopsis for \"mame\" added to list. Moving on to the next musical...\n",
      "Synopsis for \"sevenbridesforsevenbrothers\" added to list. Moving on to the next musical...\n",
      "Synopsis for \"sisteract\" not listed on allmusicals.com. Try another source like Wikipedia.\n",
      "Synopsis for \"shelovesme\" added to list. Moving on to the next musical...\n",
      "Synopsis for \"candide\" added to list. Moving on to the next musical...\n",
      "Synopsis for \"starlightexpress\" added to list. Moving on to the next musical...\n",
      "Synopsis for \"onceuponamattress\" added to list. Moving on to the next musical...\n",
      "Synopsis for \"achristmascarol\" not listed on allmusicals.com. Try another source like Wikipedia.\n",
      "Synopsis for \"frozen\" added to list. Moving on to the next musical...\n",
      "Synopsis for \"natashapierreandthegreatcometof1812\" added to list. Moving on to the next musical...\n",
      "Synopsis for \"aida\" added to list. Moving on to the next musical...\n",
      "Synopsis for \"thelightinthepiazza\" added to list. Moving on to the next musical...\n",
      "Synopsis for \"shrekthemusical\" not listed on allmusicals.com. Try another source like Wikipedia.\n",
      "Synopsis for \"thefullmonty\" added to list. Moving on to the next musical...\n",
      "Synopsis for \"thebestlittlewhorehouseintexas\" added to list. Moving on to the next musical...\n",
      "Synopsis for \"pajamagame\" not listed on allmusicals.com. Try another source like Wikipedia.\n",
      "Synopsis for \"bigriver\" added to list. Moving on to the next musical...\n",
      "Synopsis for \"bandstand\" added to list. Moving on to the next musical...\n",
      "Synopsis for \"rockofages\" added to list. Moving on to the next musical...\n",
      "Synopsis for \"bonnieclyde\" not listed on allmusicals.com. Try another source like Wikipedia.\n",
      "Synopsis for \"fame\" added to list. Moving on to the next musical...\n",
      "Synopsis for \"passion\" added to list. Moving on to the next musical...\n",
      "Synopsis for \"thebandsvisit\" added to list. Moving on to the next musical...\n",
      "Synopsis for \"kissofthespiderwoman\" added to list. Moving on to the next musical...\n",
      "Synopsis for \"nine\" added to list. Moving on to the next musical...\n",
      "Synopsis for \"crazyforyou\" added to list. Moving on to the next musical...\n",
      "Synopsis for \"memphis\" added to list. Moving on to the next musical...\n",
      "Synopsis for \"gigi\" added to list. Moving on to the next musical...\n",
      "Synopsis for \"beetlejuice\" not listed on allmusicals.com. Try another source like Wikipedia.\n",
      "Synopsis for \"paljoey\" added to list. Moving on to the next musical...\n",
      "Synopsis for \"parade\" added to list. Moving on to the next musical...\n",
      "Synopsis for \"wonderfultown\" added to list. Moving on to the next musical...\n",
      "Synopsis for \"greygardens\" added to list. Moving on to the next musical...\n",
      "Synopsis for \"flowerdrumsong\" added to list. Moving on to the next musical...\n",
      "Synopsis for \"titanic\" added to list. Moving on to the next musical...\n",
      "Synopsis for \"tarzanoftheapes\" not listed on allmusicals.com. Try another source like Wikipedia.\n",
      "Synopsis for \"sideshow\" added to list. Moving on to the next musical...\n",
      "Synopsis for \"anewbrain\" not listed on allmusicals.com. Try another source like Wikipedia.\n",
      "Synopsis for \"aintmisbehavin\" added to list. Moving on to the next musical...\n",
      "Synopsis for \"childrenofeden\" added to list. Moving on to the next musical...\n",
      "Synopsis for \"highschoolmusicalonstage\" added to list. Moving on to the next musical...\n",
      "Synopsis for \"cancan\" added to list. Moving on to the next musical...\n",
      "Synopsis for \"cityofangels\" added to list. Moving on to the next musical...\n",
      "Synopsis for \"bellsareringing\" added to list. Moving on to the next musical...\n",
      "Synopsis for \"tuckeverlasting\" not listed on allmusicals.com. Try another source like Wikipedia.\n",
      "Synopsis for \"drseusshowthegrinchstolechristmas\" not listed on allmusicals.com. Try another source like Wikipedia.\n",
      "Synopsis for \"curtains\" added to list. Moving on to the next musical...\n",
      "Synopsis for \"fosse\" added to list. Moving on to the next musical...\n",
      "Synopsis for \"xanadu\" added to list. Moving on to the next musical...\n",
      "Synopsis for \"ohcalcutta\" not listed on allmusicals.com. Try another source like Wikipedia.\n",
      "Synopsis for \"thescarletpimpernel\" added to list. Moving on to the next musical...\n",
      "Synopsis for \"movinout\" added to list. Moving on to the next musical...\n",
      "Synopsis for \"dogfight\" not listed on allmusicals.com. Try another source like Wikipedia.\n",
      "Synopsis for \"applause\" added to list. Moving on to the next musical...\n",
      "Synopsis for \"kismet\" added to list. Moving on to the next musical...\n",
      "Synopsis for \"warpaint\" added to list. Moving on to the next musical...\n",
      "Synopsis for \"honk\" added to list. Moving on to the next musical...\n",
      "Synopsis for \"bloodbrothers\" added to list. Moving on to the next musical...\n",
      "Synopsis for \"suessicalthemusical\" not listed on allmusicals.com. Try another source like Wikipedia.\n",
      "Synopsis for \"raisin\" added to list. Moving on to the next musical...\n",
      "Synopsis for \"natashapierreandthegreatcometof1812\" added to list. Moving on to the next musical...\n",
      "Synopsis for \"twisted\" not listed on allmusicals.com. Try another source like Wikipedia.\n",
      "Synopsis for \"dirtyrottenscoundrels\" added to list. Moving on to the next musical...\n",
      "Synopsis for \"promisespromises\" added to list. Moving on to the next musical...\n",
      "Synopsis for \"shenandoah\" not listed on allmusicals.com. Try another source like Wikipedia.\n",
      "Synopsis for \"carnival\" added to list. Moving on to the next musical...\n",
      "Synopsis for \"coco\" not listed on allmusicals.com. Try another source like Wikipedia.\n",
      "Synopsis for \"fiorello\" added to list. Moving on to the next musical...\n",
      "Synopsis for \"baby\" added to list. Moving on to the next musical...\n",
      "Synopsis for \"cyrano\" not listed on allmusicals.com. Try another source like Wikipedia.\n",
      "Synopsis for \"ballroom\" not listed on allmusicals.com. Try another source like Wikipedia.\n",
      "Synopsis for \"themagicshow\" not listed on allmusicals.com. Try another source like Wikipedia.\n",
      "Synopsis for \"themagicshow\" not listed on allmusicals.com. Try another source like Wikipedia.\n",
      "Synopsis for \"dancin\" not listed on allmusicals.com. Try another source like Wikipedia.\n",
      "Synopsis for \"doremi\" added to list. Moving on to the next musical...\n",
      "Synopsis for \"redhead\" added to list. Moving on to the next musical...\n",
      "Synopsis for \"passingstrange\" added to list. Moving on to the next musical...\n",
      "Synopsis for \"newgirlintown\" added to list. Moving on to the next musical...\n",
      "Synopsis for \"grind\" added to list. Moving on to the next musical...\n",
      "Synopsis for \"bigdeal\" not listed on allmusicals.com. Try another source like Wikipedia.\n"
     ]
    }
   ],
   "source": [
    "# Set up empty list for musical synopses from allmusicals.com\n",
    "synopses = []\n",
    "missed_musicals = []\n",
    "\n",
    "# Loop through all musicals in the list\n",
    "for name in names['musical']:\n",
    "    \n",
    "    # Handle titles starting with \"The\"\n",
    "    if name[:3] == 'the':\n",
    "        \n",
    "        # Set up list of links to loop over\n",
    "        possible_names = [name[3:], name[3:] + 'the', name, name + 'the']\n",
    "        i = 0        \n",
    "        url = baseurl1 + possible_names[i] + baseurl2\n",
    "        res = requests.get(url)\n",
    "\n",
    "        # Check for which version of the musical name returns a result, if any\n",
    "        while res.status_code != 200:\n",
    "            i += 1\n",
    "            try:\n",
    "                url = baseurl1 + possible_names[i] + baseurl2\n",
    "            except IndexError:\n",
    "                print(f'Synopsis for \"{name}\" not listed on allmusicals.com. Try another source like Wikipedia.')\n",
    "                url = ''\n",
    "                missed_musicals.append(name)\n",
    "                break\n",
    "            res = requests.get(url)\n",
    "    \n",
    "    # Access webpage for all musicals not containing \"The\"\n",
    "    else: \n",
    "        url = baseurl1 + name + baseurl2\n",
    "        res = requests.get(url)\n",
    "\n",
    "    # Get synposis\n",
    "    if res.status_code == 200:\n",
    "        soup = BeautifulSoup(res.content)\n",
    "        synopsis_html = soup.find('div', {'id': 'page'}).text.replace('\\r', '')\n",
    "        synopsis_list = [words.strip() for words in synopsis_html.split('\\n')[2:-2]]\n",
    "        synopsis = ' '.join(synopsis_list).strip()\n",
    "        synopses.append(synopsis)\n",
    "        print(f'Synopsis for \"{name}\" added to list. Moving on to the next musical...')\n",
    "    else:\n",
    "        synopses.append('')\n",
    "        missed_musicals.append(name)\n",
    "        print(f'Synopsis for \"{name}\" not listed on allmusicals.com. Try another source like Wikipedia.')\n",
    "        continue"
   ]
  },
  {
   "cell_type": "code",
   "execution_count": 9,
   "metadata": {},
   "outputs": [
    {
     "name": "stdout",
     "output_type": "stream",
     "text": [
      "196\n",
      "['achorusline', 'grease', 'beautyandthebeast', 'gypsyamusicalfable', 'cinderella', 'billyelliotthemusical', 'schoolofrockthemusical', 'alittlenightmusic', 'porgyandbess', 'afunnythinghappenedonthewaytotheforum', 'agentlemansguidetoloveandmurder', 'once', 'jekyllandhyde', 'beautifulthecarolekingmusical', 'sisteract', 'achristmascarol', 'shrekthemusical', 'pajamagame', 'bonnieclyde', 'beetlejuice', 'tarzanoftheapes', 'anewbrain', 'tuckeverlasting', 'drseusshowthegrinchstolechristmas', 'ohcalcutta', 'dogfight', 'suessicalthemusical', 'twisted', 'shenandoah', 'coco', 'cyrano', 'ballroom', 'themagicshow', 'themagicshow', 'dancin', 'bigdeal']\n"
     ]
    }
   ],
   "source": [
    "# Check that length of synopses is 196\n",
    "print(len(synopses))\n",
    "\n",
    "# Look at which musicals are missing synopses\n",
    "print(missed_musicals)"
   ]
  },
  {
   "cell_type": "code",
   "execution_count": 10,
   "metadata": {},
   "outputs": [
    {
     "data": {
      "text/plain": [
       "36"
      ]
     },
     "execution_count": 10,
     "metadata": {},
     "output_type": "execute_result"
    }
   ],
   "source": [
    "# How many musicals were missed?\n",
    "len(missed_musicals)"
   ]
  },
  {
   "cell_type": "markdown",
   "metadata": {},
   "source": [
    "# Export Data"
   ]
  },
  {
   "cell_type": "code",
   "execution_count": 11,
   "metadata": {
    "scrolled": true
   },
   "outputs": [
    {
     "data": {
      "text/html": [
       "<div>\n",
       "<style scoped>\n",
       "    .dataframe tbody tr th:only-of-type {\n",
       "        vertical-align: middle;\n",
       "    }\n",
       "\n",
       "    .dataframe tbody tr th {\n",
       "        vertical-align: top;\n",
       "    }\n",
       "\n",
       "    .dataframe thead th {\n",
       "        text-align: right;\n",
       "    }\n",
       "</style>\n",
       "<table border=\"1\" class=\"dataframe\">\n",
       "  <thead>\n",
       "    <tr style=\"text-align: right;\">\n",
       "      <th></th>\n",
       "      <th>musical</th>\n",
       "      <th>synopsis</th>\n",
       "    </tr>\n",
       "  </thead>\n",
       "  <tbody>\n",
       "    <tr>\n",
       "      <th>0</th>\n",
       "      <td>lesmiserables</td>\n",
       "      <td>The musical takes place at the beginning of the XIX century. After 19 years of penal servitude, Jean Valjean is released by policeman Javert. He was arrested for theft of bread for his family. Every month he has to report to the lawyer. Jean isn't hired and despised. Once, he was sheltered by the archbishop. He treated him as brother. Jean Valjean, who still doesn't believe in love, steals all silver in the house and runs. In the morning, he is brought to the archbishop. The man is beat to semi-death. According to policemen, the man has told them that silver was presented him by the archbishop. He agrees with it and gives Jean two silver candlesticks, which Jean stores to his death. The man is so touched by care that he tears all his documents and begins new life. Jean Valjean sells all silver and becomes the mayor 8 years later. He is also an owner of the factory. Poor girl Fantine works on it.  Fantine is exposed to harassment of the foreman and contempt of colleagues. She has a secret. A few years ago, the man has deceived her and has left. She became pregnant and has given birth to the daughter. The girl, Kozetta, grows at the innkeeper and his wife's family. They have their own daughter too. They cruelly manage with the girl. At the same time, the family writes to her mother and swears that she is often ill. Fantine sends them a lot of money and thinks that she rescues the daughter. Soon her secret is revealed by other workers. The mayor asks the foreman to resolve the conflict. Fantine is dismissed. Despaired woman sells her hair and teeth. She hopes to rescue her \"ill\" daughter. Then she becomes a prostitute.  One night, when the client comes to her, she refuses to work. The man offends her and Fantine hits him. At this moment police officers appear, including Javert. Jean Valjean rescues Fantine from prison and carries in hospital. The woman asks him to take care of the daughter and dies. Javert understands that the mayor is Jean, and wants to put him in prison as he looked for fugitive for many years. Jean is escaped. At this time, Kozetta is sent to winter forest for water, where she is found by Valjean. He redeems the girl from innkeepers and asks the church gardener for a shelter for her. The girl lives in the monastery.  Times of June revolt. In the center of a plot are the students who have started revolution. Little Gavroche, the son of impoverished innkeepers, helps them. Marius, one of the associates, notices Kozetta on the street and falls in love with her. The girl reciprocates the young man. By means of Eponine, who is also in love with Marius, he finds the house where lives Kozetta. They start to date in secret from everyone.  Jeanne Valjean and Kozetta are forced to run because of Javert arrival. Gavroche brings them a note from barricades. To rescue Kozetta's beloved, the man goes to the heat of revolt. Just at this moment, students detain Javert. They allow Jean Valjean to kill him. He agrees, and doesn't kill Javert, but releases him on freedom.  At this time on barricades, slaughter is started again. Gavroche and Eponina are killed during fight. When fight is resumed, everyone is in mourning. This time law enforcement authorities try to kill everyone. Jean Valjean rescues wounded Marius. During this he meets the innkeeper on the road (he has stolen a family ring from Marius). Valjean and half-dead Marius are awaited by Javert. He claims that he will arrest the man for all crimes, which Jean has made. However, he doesn't decide to shoot at the person, who has saved his life recently. The guard is exposed to remorse and commits suicide.  Marius recovers. He gets married with Kozetta. Jean Valjean tells the guy his story and departs to the monastery to die. The innkeeper and his wife come to a wedding and tell Marius scurrilous things about Jean Valjean. They don't understand that they speak about the one who has rescued him. Marius and Kozetta run to the monastery, finding the last minutes of Jean's life. When he dies, he is met by Fantine, the archbishop and all dead on barricades. The last song sounds.</td>\n",
       "    </tr>\n",
       "    <tr>\n",
       "      <th>1</th>\n",
       "      <td>thephantomoftheopera</td>\n",
       "      <td>At the beginning of the XX century in the Paris Opera House was selling of old props. The most mysterious lot was broken chandelier. With its fall relates the story of the mysterious Phantom, who many years ago was the music patron of this place. Chandelier again rose to the ceiling of the theater &amp; time turned back. It was 1881. In the hall was rehearsed the evening performance. Appeared Phantom so angered diva Carlotta that she categorically refused to act. New theater owners replaced the lead actress. The young chorus girl Christine knew a whole party of diva. She perfectly performed in the evening &amp; very surprised new owners.  After a triumphant debut of Christine, she told her friend about the mysterious music angel, who taught her singing. Soon, to her came a new sponsor of the theater Viscount &amp; recognized a girl – in a childhood, they often played together. A girl told to a young man her deceased father’s telling, which included such music angel. A girl also admitted that this mysterious patron taught her singing. Laughed at her imagination, he invited her to dine. When the young man left the dressing room, in the mirror appeared Phantom. He took her into the mysterious world, which was located deep underground. Teaching his protégé singing, the patron brought the girl to his home &amp; when she fainted, he gently laid her down on his bed. Waking up, she went to an angel &amp; took off his mask to see the true face of her patron.  Soon theater owners received a note from the Phantom. He demanded that the main role in the new opera performed Christine. Otherwise, the theater would suffer a terrible disaster. Owners calmed down furious diva, assuring her in her irreplaceability. During her performance, Phantom made so that the singer lost her voice. Trying to save the play, owners let the ballet on the stage. But then the audience saw the corpse under the ceiling, hanging on a rope &amp; heard a sinister laugh of Phantom. Using the general turmoil, Christine took Mr. Chagny to the roof of the theater, where they explained to each other in love. Overhearing their conversation, Phantom has vowed to avenge to them two.  After 6 months, Phantom visited Masquerade. He brought the owners a new musical creation &amp; demanded a main part for Christine. Mrs. Giry told to viscount a story of Phantom. He was originally born with a disfigured face, the boy grew up in a mobile waxworks. When he managed to escape from there, the teenager found refuge in the theater. There he realized that his calling is to compose music. Viscount decided to catch the Phantom. Christine was choosing between her beloved &amp; teacher. Visiting her father’s grave, the girl almost fell under the spell of Phantom, but she was rescued by viscount. During the premiere, Christine realized that her partner should be Phantom. When she tore off his mask, the audience saw the mutilated face of a man &amp; he kidnapped a girl from the stage.  Viscount was in search of his beloved, when Mrs. Giry showed a way to the dungeon, where Christine was forced to wear a wedding dress. Phantom soon caught the Viscount, who found a way to Phantom’s habitat. A man said that would let go Viscount, if only a girl stays with him. Otherwise her lover would die. Realizing feelings of Phantom, Christine kissed him. Having experienced the first time in life someone else's compassion, Phantom was shocked. He told the girl that he loves her, but she forced herself to turn away from her mentor. Christine &amp; Viscount left. Closed by pallium, Phantom started to cry. Soon, in his lair broke angry mob. But under the pallium, people only found mask of a men – Phantom disappeared.</td>\n",
       "    </tr>\n",
       "    <tr>\n",
       "      <th>2</th>\n",
       "      <td>hamilton</td>\n",
       "      <td>Can we call a thing more boring than the history? Everyone can remember the long hours spent on the school bench under monotonic and gray monologue of teacher, reading paragraph by paragraph, to enter steadily and firmly in the young stupid heads the chronology from the beginning of times until today. But sometimes there is nothing more fascinating than the history. At all the pages of books, written by bored pundits, contain no drop of inspiration, not a grain of creativity. Musical «Hamilton», created by Lin-Manuel Miranda, is an outstanding example, of how the history should be revealed.  Miranda spent six long years of hard and tireless work on his own brainchild, being inspired by the biography of his native country and its founding fathers, especially the notorious Alexander Hamilton. The plot plunges us into the story of the life of one of the great politicians, says about his childhood, the years of a long and hard studying, and finally, about his formation as a political figure, skillfully touching the threads of fate of great state, during the fight for its independence. The story takes us to the atmosphere of the time, and every detail is thought out so that the film captivates us entirely. This musical is as close to modern musical trends as possible: its motifs include smooth melodies of romantic and lyrical works, and after, the ricochet of hip-hop beats on our hearing. Seemingly boring talks about finances and war, usually prompting boredom on the viewer, now transformed into real musical battles, under hip-hop.  Alexander Hamilton lived before in the minds of only a dry summaries of the handbooks about the history. And his face is on a ten-bill. Now he comes to life and is presented to the audience on the stage as simple, perfectly ordinary mortal person, capable of making mistakes, looking for ways to retreat and solutions, in love or naive, strict or cruel politician – this all matters. He is alive. This story takes us in his journey from the very beginning, proving that we are all humans, no matter how great we were. It captivates and attracts. So much, that tickets on this presentation fly out with incredible speed, and many famous people of our time (for example, President Barack Obama and lots of movie stars) considered it as their duty to attend the musical. And more than once!</td>\n",
       "    </tr>\n",
       "    <tr>\n",
       "      <th>3</th>\n",
       "      <td>westsidestory</td>\n",
       "      <td>The two gangs – Jets, consisting of white &amp; Sharks, including the Puerto Ricans – fought for control in West Side district. The leader of the first ones decided on the next dance to challenge Bernardo, the leader of the second. Riff called for challenge the gang’s member who grew up &amp; now was working at a pharmacy, Tony. At first, he refused, but then he allowed himself to be persuaded. The newly arrived Maria worked in the store along with Anita, the girlfriend of his brother Bernardo, Sharks’ leader. A girl was supposed to marry Chino, but she did not feel any senses to him. Anita helped her prepare the dress for dancing. During the party, Jets’ &amp; Sharks’ representatives started struggled in the dance. Seeing each other, Tony &amp; Maria stopped noticing others. Soon they began to dance. Then brother sent her home. Bernardo &amp; Riff agreed to hold a meeting on neutral territory. Tony fell in love with Maria at a first sight. He came to her house &amp; started singing serenades under her window. When a girl came out onto the fire escape, the young people explained each other in their feelings.  During the meeting, participants of bands confirmed – only fists are allowed during the battle. Bernardo was thinking that he would have to fight Tony, but Riff stood against him his the second fighter. Maria found out in the morning from Anita about the upcoming fight. She asked Tony to stop the planned clash. The young man promised to do everything he could. The boy &amp; the girl began to dream about the wedding. During the fight, Tony tried to convince Bernardo to stop the fight. But in response, he heard nothing but ridicule. When the Sharks leader pushed him, Riff hit Bernardo. Tony tried to stop a broke out fight. By chance, he caused the death of his friend from Bernardo’s knife. In anger, the boy killed the leader of Sharks. When there was the sound of police sirens, shocked Tony realized that now on his hands was the blood of Maria’s brother. He was hardly persuaded to flee from the crime scene.  Maria was is ignorance thinking about her beloved. When Chino came home &amp; told about Bernardo’s death by Tony’s hand, woman did not believe him. But then her beloved confirmed this to Maria. Puerto Rican girl could not start to hate him, because her love was stronger than family ties. Young people have agreed on a joint flee. Soon members of the Jets gang learned that armed with a gun Chino is looking for Tony. They also began to search for their friend. When upset Anita came to killed Bernardo’s house, she saw a young man leaving from Maria. Angry at first, she then realized that their feelings were stronger than death. Anita told her friend about Chino &amp; his gun. She later agreed to send a message to Tony.  When a girl went to look for the young man, she was attacked by Jets. They were stopped by the pharmacy owner. Angry Anita deceived members of the gang, saying that Chino has shot Maria dead. The pharmacist told Tony about her words, who dreamed of a peaceful &amp; happy life with his beloved. The young man went to Chino, so he shot him too. At the last moment, the young man was able to see alive Maria. Beloved died at the hands of a girl. Members of both bands decided to figure out their relationship over Tony's body. Taking the gun, Maria said she would shoot any of them, because they were guilty of all the deaths occurred. But she did not have the guts to do it. Teenagers from both bands came to the body of Tony &amp; helped Maria carry him. Their feud ended.</td>\n",
       "    </tr>\n",
       "    <tr>\n",
       "      <th>4</th>\n",
       "      <td>wicked</td>\n",
       "      <td>Good Witch Glinda of Oz country reported that the Wicked Witch Elphaba is dead. They used to be friends, and the memories of their life story in Shiz University started.  Elphaba from the very childhood was a rogue child, being born with green skin color, as her mother had used the green elixir. She also had a sister Nessarose in a wheelchair. When the two sisters came to Shiz, the local bosses took custody over Nessarose. Despite the sociable character of Elphaba, the green color of her skin did not allow her to make friends. Gradually, she became friends with her roommate, Glinda. She desperately desired to meet the Wizard of Oz, who allegedly was able to make her look like of a usual person.  Elphaba had feelings for her classmate Fiyero, even though deep down, she knew that she would never be his chosen one. He replied sympathetically, although he also liked Glinda. But their sympathy had no development – Elphaba was sent to the Emerald City to meet the Wizard. Dreams of help with skin color were not justified at girl – the magician used sorcerer girl's abilities to take credit for her miracles. Elphaba in despair stole an ancient magical book, and ran away being dubbed for that the Wicked Witch and it was declared her hunt down. Using magical powers, the sorcerer managed to escape.  As time passed, Fiyero became a captain of the guard and announced the engagement to Glinda, which was now known as the Good Witch. A guy named Bog was also secretly in love with Glinda, though he was loved by Nessarose, who became governor after the death of her father. When Bog decided to confess Glinda his feelings, jealous Nessa has imposed on him inept spell, wishing to deprive the senses to rival. Bog’s heart began to melt, and in order to save him, Elphaba turned him into the Tin Woodman.  Elphaba reconciled with the Wizard. Fiyero felt again the old feelings to Elphaba, and both of them confessed feelings to each other. Meanwhile, a tornado took Dorothy’s house with her dog Toto, and Elphaba sensed trouble: a house fell on her sister Nessarose and the latter died. It turns out that this curse was designed specifically to lure the evil sorceress out and to deal with her. Nothing was left except of mourn the dead sister and conduct Dorothy and Toto in the way to Wizard of Oz.  Guards found Elphaba, but when they tried to arrest her, Fiyero gave her a chance to escape, and he surrendered. As a result, the guardians tied Fiyero to the pole and carried him to the field to where Elphaba was. To save her beloved, she turned him into a scarecrow Scarecrow, who did not feel any pain.  Elphaba invented to die theatrically in the guise of the Wicked Witch. She asked her friend Glinda not to do anything to restore her good name. Because otherwise, all the people shall be against Glinda. Friends parted forever, and Elphaba gave previously stolen magical book back and promised never again to make good magic, as only misfortune happened to her because of it. They retired with her beloved Fiyero and left in a secret that Elphaba has survived.</td>\n",
       "    </tr>\n",
       "  </tbody>\n",
       "</table>\n",
       "</div>"
      ],
      "text/plain": [
       "                musical  \\\n",
       "0         lesmiserables   \n",
       "1  thephantomoftheopera   \n",
       "2              hamilton   \n",
       "3         westsidestory   \n",
       "4                wicked   \n",
       "\n",
       "                                                                                                                                                                                                                                                                                                                                                                                                                                                                                                                                                                                                                                                                                                                                                                                                                                                                                                                                                                                                                                                                                                                                                                                                                                                                                                                                                                                                                                                                                                                                                                                                                                                                                                                                                                                                                                                                                                                                                                                                                                                                                                                                                                                                                                                                                                                                                                                                                                                                                                                                                                                                                                                                                                                                                                                                                                                                                                                                                                                                                                                                                                                                                                                                                                                                                                                                                                                                                                                                                                                                                                                                                                                                                                                                                                                                                                                                                                                                                                                                                                                                                                                                                                                                                                                                  synopsis  \n",
       "0  The musical takes place at the beginning of the XIX century. After 19 years of penal servitude, Jean Valjean is released by policeman Javert. He was arrested for theft of bread for his family. Every month he has to report to the lawyer. Jean isn't hired and despised. Once, he was sheltered by the archbishop. He treated him as brother. Jean Valjean, who still doesn't believe in love, steals all silver in the house and runs. In the morning, he is brought to the archbishop. The man is beat to semi-death. According to policemen, the man has told them that silver was presented him by the archbishop. He agrees with it and gives Jean two silver candlesticks, which Jean stores to his death. The man is so touched by care that he tears all his documents and begins new life. Jean Valjean sells all silver and becomes the mayor 8 years later. He is also an owner of the factory. Poor girl Fantine works on it.  Fantine is exposed to harassment of the foreman and contempt of colleagues. She has a secret. A few years ago, the man has deceived her and has left. She became pregnant and has given birth to the daughter. The girl, Kozetta, grows at the innkeeper and his wife's family. They have their own daughter too. They cruelly manage with the girl. At the same time, the family writes to her mother and swears that she is often ill. Fantine sends them a lot of money and thinks that she rescues the daughter. Soon her secret is revealed by other workers. The mayor asks the foreman to resolve the conflict. Fantine is dismissed. Despaired woman sells her hair and teeth. She hopes to rescue her \"ill\" daughter. Then she becomes a prostitute.  One night, when the client comes to her, she refuses to work. The man offends her and Fantine hits him. At this moment police officers appear, including Javert. Jean Valjean rescues Fantine from prison and carries in hospital. The woman asks him to take care of the daughter and dies. Javert understands that the mayor is Jean, and wants to put him in prison as he looked for fugitive for many years. Jean is escaped. At this time, Kozetta is sent to winter forest for water, where she is found by Valjean. He redeems the girl from innkeepers and asks the church gardener for a shelter for her. The girl lives in the monastery.  Times of June revolt. In the center of a plot are the students who have started revolution. Little Gavroche, the son of impoverished innkeepers, helps them. Marius, one of the associates, notices Kozetta on the street and falls in love with her. The girl reciprocates the young man. By means of Eponine, who is also in love with Marius, he finds the house where lives Kozetta. They start to date in secret from everyone.  Jeanne Valjean and Kozetta are forced to run because of Javert arrival. Gavroche brings them a note from barricades. To rescue Kozetta's beloved, the man goes to the heat of revolt. Just at this moment, students detain Javert. They allow Jean Valjean to kill him. He agrees, and doesn't kill Javert, but releases him on freedom.  At this time on barricades, slaughter is started again. Gavroche and Eponina are killed during fight. When fight is resumed, everyone is in mourning. This time law enforcement authorities try to kill everyone. Jean Valjean rescues wounded Marius. During this he meets the innkeeper on the road (he has stolen a family ring from Marius). Valjean and half-dead Marius are awaited by Javert. He claims that he will arrest the man for all crimes, which Jean has made. However, he doesn't decide to shoot at the person, who has saved his life recently. The guard is exposed to remorse and commits suicide.  Marius recovers. He gets married with Kozetta. Jean Valjean tells the guy his story and departs to the monastery to die. The innkeeper and his wife come to a wedding and tell Marius scurrilous things about Jean Valjean. They don't understand that they speak about the one who has rescued him. Marius and Kozetta run to the monastery, finding the last minutes of Jean's life. When he dies, he is met by Fantine, the archbishop and all dead on barricades. The last song sounds.  \n",
       "1                                                                                                                                                                                                                                                                                                                                                                                                                                                               At the beginning of the XX century in the Paris Opera House was selling of old props. The most mysterious lot was broken chandelier. With its fall relates the story of the mysterious Phantom, who many years ago was the music patron of this place. Chandelier again rose to the ceiling of the theater & time turned back. It was 1881. In the hall was rehearsed the evening performance. Appeared Phantom so angered diva Carlotta that she categorically refused to act. New theater owners replaced the lead actress. The young chorus girl Christine knew a whole party of diva. She perfectly performed in the evening & very surprised new owners.  After a triumphant debut of Christine, she told her friend about the mysterious music angel, who taught her singing. Soon, to her came a new sponsor of the theater Viscount & recognized a girl – in a childhood, they often played together. A girl told to a young man her deceased father’s telling, which included such music angel. A girl also admitted that this mysterious patron taught her singing. Laughed at her imagination, he invited her to dine. When the young man left the dressing room, in the mirror appeared Phantom. He took her into the mysterious world, which was located deep underground. Teaching his protégé singing, the patron brought the girl to his home & when she fainted, he gently laid her down on his bed. Waking up, she went to an angel & took off his mask to see the true face of her patron.  Soon theater owners received a note from the Phantom. He demanded that the main role in the new opera performed Christine. Otherwise, the theater would suffer a terrible disaster. Owners calmed down furious diva, assuring her in her irreplaceability. During her performance, Phantom made so that the singer lost her voice. Trying to save the play, owners let the ballet on the stage. But then the audience saw the corpse under the ceiling, hanging on a rope & heard a sinister laugh of Phantom. Using the general turmoil, Christine took Mr. Chagny to the roof of the theater, where they explained to each other in love. Overhearing their conversation, Phantom has vowed to avenge to them two.  After 6 months, Phantom visited Masquerade. He brought the owners a new musical creation & demanded a main part for Christine. Mrs. Giry told to viscount a story of Phantom. He was originally born with a disfigured face, the boy grew up in a mobile waxworks. When he managed to escape from there, the teenager found refuge in the theater. There he realized that his calling is to compose music. Viscount decided to catch the Phantom. Christine was choosing between her beloved & teacher. Visiting her father’s grave, the girl almost fell under the spell of Phantom, but she was rescued by viscount. During the premiere, Christine realized that her partner should be Phantom. When she tore off his mask, the audience saw the mutilated face of a man & he kidnapped a girl from the stage.  Viscount was in search of his beloved, when Mrs. Giry showed a way to the dungeon, where Christine was forced to wear a wedding dress. Phantom soon caught the Viscount, who found a way to Phantom’s habitat. A man said that would let go Viscount, if only a girl stays with him. Otherwise her lover would die. Realizing feelings of Phantom, Christine kissed him. Having experienced the first time in life someone else's compassion, Phantom was shocked. He told the girl that he loves her, but she forced herself to turn away from her mentor. Christine & Viscount left. Closed by pallium, Phantom started to cry. Soon, in his lair broke angry mob. But under the pallium, people only found mask of a men – Phantom disappeared.  \n",
       "2                                                                                                                                                                                                                                                                                                                                                                                                                                                                                                                                                                                                                                                                                                                                                                                                                                                                                                                                                                                                                                                                                                                                                                                                                                                                                                                                                                                                                                                                                                                                                                                                                                                                                                                                                                                                                                    Can we call a thing more boring than the history? Everyone can remember the long hours spent on the school bench under monotonic and gray monologue of teacher, reading paragraph by paragraph, to enter steadily and firmly in the young stupid heads the chronology from the beginning of times until today. But sometimes there is nothing more fascinating than the history. At all the pages of books, written by bored pundits, contain no drop of inspiration, not a grain of creativity. Musical «Hamilton», created by Lin-Manuel Miranda, is an outstanding example, of how the history should be revealed.  Miranda spent six long years of hard and tireless work on his own brainchild, being inspired by the biography of his native country and its founding fathers, especially the notorious Alexander Hamilton. The plot plunges us into the story of the life of one of the great politicians, says about his childhood, the years of a long and hard studying, and finally, about his formation as a political figure, skillfully touching the threads of fate of great state, during the fight for its independence. The story takes us to the atmosphere of the time, and every detail is thought out so that the film captivates us entirely. This musical is as close to modern musical trends as possible: its motifs include smooth melodies of romantic and lyrical works, and after, the ricochet of hip-hop beats on our hearing. Seemingly boring talks about finances and war, usually prompting boredom on the viewer, now transformed into real musical battles, under hip-hop.  Alexander Hamilton lived before in the minds of only a dry summaries of the handbooks about the history. And his face is on a ten-bill. Now he comes to life and is presented to the audience on the stage as simple, perfectly ordinary mortal person, capable of making mistakes, looking for ways to retreat and solutions, in love or naive, strict or cruel politician – this all matters. He is alive. This story takes us in his journey from the very beginning, proving that we are all humans, no matter how great we were. It captivates and attracts. So much, that tickets on this presentation fly out with incredible speed, and many famous people of our time (for example, President Barack Obama and lots of movie stars) considered it as their duty to attend the musical. And more than once!  \n",
       "3                                                                                                                                                                                                                                                                                                                                                                                                                                                                                                                                                                                                                           The two gangs – Jets, consisting of white & Sharks, including the Puerto Ricans – fought for control in West Side district. The leader of the first ones decided on the next dance to challenge Bernardo, the leader of the second. Riff called for challenge the gang’s member who grew up & now was working at a pharmacy, Tony. At first, he refused, but then he allowed himself to be persuaded. The newly arrived Maria worked in the store along with Anita, the girlfriend of his brother Bernardo, Sharks’ leader. A girl was supposed to marry Chino, but she did not feel any senses to him. Anita helped her prepare the dress for dancing. During the party, Jets’ & Sharks’ representatives started struggled in the dance. Seeing each other, Tony & Maria stopped noticing others. Soon they began to dance. Then brother sent her home. Bernardo & Riff agreed to hold a meeting on neutral territory. Tony fell in love with Maria at a first sight. He came to her house & started singing serenades under her window. When a girl came out onto the fire escape, the young people explained each other in their feelings.  During the meeting, participants of bands confirmed – only fists are allowed during the battle. Bernardo was thinking that he would have to fight Tony, but Riff stood against him his the second fighter. Maria found out in the morning from Anita about the upcoming fight. She asked Tony to stop the planned clash. The young man promised to do everything he could. The boy & the girl began to dream about the wedding. During the fight, Tony tried to convince Bernardo to stop the fight. But in response, he heard nothing but ridicule. When the Sharks leader pushed him, Riff hit Bernardo. Tony tried to stop a broke out fight. By chance, he caused the death of his friend from Bernardo’s knife. In anger, the boy killed the leader of Sharks. When there was the sound of police sirens, shocked Tony realized that now on his hands was the blood of Maria’s brother. He was hardly persuaded to flee from the crime scene.  Maria was is ignorance thinking about her beloved. When Chino came home & told about Bernardo’s death by Tony’s hand, woman did not believe him. But then her beloved confirmed this to Maria. Puerto Rican girl could not start to hate him, because her love was stronger than family ties. Young people have agreed on a joint flee. Soon members of the Jets gang learned that armed with a gun Chino is looking for Tony. They also began to search for their friend. When upset Anita came to killed Bernardo’s house, she saw a young man leaving from Maria. Angry at first, she then realized that their feelings were stronger than death. Anita told her friend about Chino & his gun. She later agreed to send a message to Tony.  When a girl went to look for the young man, she was attacked by Jets. They were stopped by the pharmacy owner. Angry Anita deceived members of the gang, saying that Chino has shot Maria dead. The pharmacist told Tony about her words, who dreamed of a peaceful & happy life with his beloved. The young man went to Chino, so he shot him too. At the last moment, the young man was able to see alive Maria. Beloved died at the hands of a girl. Members of both bands decided to figure out their relationship over Tony's body. Taking the gun, Maria said she would shoot any of them, because they were guilty of all the deaths occurred. But she did not have the guts to do it. Teenagers from both bands came to the body of Tony & helped Maria carry him. Their feud ended.  \n",
       "4                                                                                                                                                                                                                                                                                                                                                                                                                                                                                                                                                                                                                                                                                                                                                                                                                                                                                                                                                                                                                                                                        Good Witch Glinda of Oz country reported that the Wicked Witch Elphaba is dead. They used to be friends, and the memories of their life story in Shiz University started.  Elphaba from the very childhood was a rogue child, being born with green skin color, as her mother had used the green elixir. She also had a sister Nessarose in a wheelchair. When the two sisters came to Shiz, the local bosses took custody over Nessarose. Despite the sociable character of Elphaba, the green color of her skin did not allow her to make friends. Gradually, she became friends with her roommate, Glinda. She desperately desired to meet the Wizard of Oz, who allegedly was able to make her look like of a usual person.  Elphaba had feelings for her classmate Fiyero, even though deep down, she knew that she would never be his chosen one. He replied sympathetically, although he also liked Glinda. But their sympathy had no development – Elphaba was sent to the Emerald City to meet the Wizard. Dreams of help with skin color were not justified at girl – the magician used sorcerer girl's abilities to take credit for her miracles. Elphaba in despair stole an ancient magical book, and ran away being dubbed for that the Wicked Witch and it was declared her hunt down. Using magical powers, the sorcerer managed to escape.  As time passed, Fiyero became a captain of the guard and announced the engagement to Glinda, which was now known as the Good Witch. A guy named Bog was also secretly in love with Glinda, though he was loved by Nessarose, who became governor after the death of her father. When Bog decided to confess Glinda his feelings, jealous Nessa has imposed on him inept spell, wishing to deprive the senses to rival. Bog’s heart began to melt, and in order to save him, Elphaba turned him into the Tin Woodman.  Elphaba reconciled with the Wizard. Fiyero felt again the old feelings to Elphaba, and both of them confessed feelings to each other. Meanwhile, a tornado took Dorothy’s house with her dog Toto, and Elphaba sensed trouble: a house fell on her sister Nessarose and the latter died. It turns out that this curse was designed specifically to lure the evil sorceress out and to deal with her. Nothing was left except of mourn the dead sister and conduct Dorothy and Toto in the way to Wizard of Oz.  Guards found Elphaba, but when they tried to arrest her, Fiyero gave her a chance to escape, and he surrendered. As a result, the guardians tied Fiyero to the pole and carried him to the field to where Elphaba was. To save her beloved, she turned him into a scarecrow Scarecrow, who did not feel any pain.  Elphaba invented to die theatrically in the guise of the Wicked Witch. She asked her friend Glinda not to do anything to restore her good name. Because otherwise, all the people shall be against Glinda. Friends parted forever, and Elphaba gave previously stolen magical book back and promised never again to make good magic, as only misfortune happened to her because of it. They retired with her beloved Fiyero and left in a secret that Elphaba has survived.  "
      ]
     },
     "execution_count": 11,
     "metadata": {},
     "output_type": "execute_result"
    }
   ],
   "source": [
    "# Add synopses to dataframe\n",
    "names['synopsis'] = synopses\n",
    "names.head()"
   ]
  },
  {
   "cell_type": "code",
   "execution_count": 12,
   "metadata": {},
   "outputs": [],
   "source": [
    "# Export new dataframe\n",
    "names.to_csv('./data/musical_synopses.csv', index=False)"
   ]
  },
  {
   "cell_type": "code",
   "execution_count": null,
   "metadata": {},
   "outputs": [],
   "source": []
  },
  {
   "cell_type": "code",
   "execution_count": null,
   "metadata": {},
   "outputs": [],
   "source": []
  },
  {
   "cell_type": "code",
   "execution_count": null,
   "metadata": {},
   "outputs": [],
   "source": [
    "# Actually on it, figure it out\n",
    "# A chorus line\n",
    "# Gypsy\n",
    "# Cinderella\n",
    "# Billy elliott\n",
    "# school of rock\n",
    "# A little night music\n",
    "\n",
    "...\n",
    "# Tarzan\n"
   ]
  },
  {
   "cell_type": "code",
   "execution_count": null,
   "metadata": {},
   "outputs": [],
   "source": [
    "res = requests.get('https://www.allmusicals.com/lyrics/secretgardenthe/synopsis.htm')"
   ]
  },
  {
   "cell_type": "code",
   "execution_count": null,
   "metadata": {},
   "outputs": [],
   "source": [
    "# Set up error warnings\n",
    "if res.status_code != 200:\n",
    "    raise NameError('This is not a valid webpage. Try searching another link.')\n",
    "        "
   ]
  },
  {
   "cell_type": "code",
   "execution_count": null,
   "metadata": {
    "scrolled": true
   },
   "outputs": [],
   "source": [
    "for name in names['musical']:\n",
    "    if name[:3] == 'the':\n",
    "        print(name)"
   ]
  },
  {
   "cell_type": "code",
   "execution_count": null,
   "metadata": {},
   "outputs": [],
   "source": [
    "fnurl = baseurl1 + 'findingneverland' + baseurl2"
   ]
  },
  {
   "cell_type": "code",
   "execution_count": null,
   "metadata": {},
   "outputs": [],
   "source": [
    "res = requests.get(baseurl1 + 'thephantomoftheoperathe' + baseurl2)"
   ]
  },
  {
   "cell_type": "code",
   "execution_count": null,
   "metadata": {},
   "outputs": [],
   "source": [
    "if the title starts with the\n",
    "try no the\n",
    "if status_code != 200\n",
    "try the at the end\n",
    "try the at te beginning\n",
    "try the at the beginning and end\n",
    "\n",
    "if res.status_code != 200:\n",
    "    try {\n",
    "        \n",
    "    }"
   ]
  },
  {
   "cell_type": "code",
   "execution_count": null,
   "metadata": {},
   "outputs": [],
   "source": [
    "res = requests.get(fnurl)\n",
    "res.status_code"
   ]
  },
  {
   "cell_type": "code",
   "execution_count": null,
   "metadata": {},
   "outputs": [],
   "source": [
    "soup = BeautifulSoup(res.content)\n",
    "print(soup.prettify()[:1000])"
   ]
  },
  {
   "cell_type": "code",
   "execution_count": null,
   "metadata": {
    "scrolled": true
   },
   "outputs": [],
   "source": [
    "fn_synopsis = soup.find('div', {'id': 'page'}).text.replace('\\r', '')\n",
    "fn_synopsis_list = [words.strip() for words in fn_synopsis.split('\\n')[2:-2]]\n",
    "fn_synop = ' '.join(fn_synopsis_list).strip()\n",
    "fn_synop"
   ]
  },
  {
   "cell_type": "code",
   "execution_count": null,
   "metadata": {},
   "outputs": [],
   "source": []
  },
  {
   "cell_type": "code",
   "execution_count": null,
   "metadata": {},
   "outputs": [],
   "source": []
  }
 ],
 "metadata": {
  "kernelspec": {
   "display_name": "Python 3",
   "language": "python",
   "name": "python3"
  },
  "language_info": {
   "codemirror_mode": {
    "name": "ipython",
    "version": 3
   },
   "file_extension": ".py",
   "mimetype": "text/x-python",
   "name": "python",
   "nbconvert_exporter": "python",
   "pygments_lexer": "ipython3",
   "version": "3.7.6"
  }
 },
 "nbformat": 4,
 "nbformat_minor": 4
}
