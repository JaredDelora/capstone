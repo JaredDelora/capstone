{
 "cells": [
  {
   "cell_type": "markdown",
   "metadata": {},
   "source": [
    "# Capstone: Musical Recommender"
   ]
  },
  {
   "cell_type": "markdown",
   "metadata": {},
   "source": [
    "Kelly Slatery | US-DSI-10"
   ]
  },
  {
   "cell_type": "code",
   "execution_count": 1,
   "metadata": {},
   "outputs": [],
   "source": [
    "# Imports\n",
    "import numpy as np\n",
    "import pandas as pd\n",
    "import seaborn as sns\n",
    "import matplotlib.pyplot as plt\n",
    "\n",
    "import spacy\n",
    "import en_core_web_lg\n",
    "from textblob import TextBlob, Word"
   ]
  },
  {
   "cell_type": "markdown",
   "metadata": {},
   "source": [
    "# Import Data"
   ]
  },
  {
   "cell_type": "code",
   "execution_count": 2,
   "metadata": {},
   "outputs": [
    {
     "data": {
      "text/plain": [
       "(194, 7)"
      ]
     },
     "execution_count": 2,
     "metadata": {},
     "output_type": "execute_result"
    }
   ],
   "source": [
    "df = pd.read_csv('./data/musical_sentiments.csv')\n",
    "df.shape"
   ]
  },
  {
   "cell_type": "code",
   "execution_count": 3,
   "metadata": {
    "scrolled": false
   },
   "outputs": [
    {
     "data": {
      "text/html": [
       "<div>\n",
       "<style scoped>\n",
       "    .dataframe tbody tr th:only-of-type {\n",
       "        vertical-align: middle;\n",
       "    }\n",
       "\n",
       "    .dataframe tbody tr th {\n",
       "        vertical-align: top;\n",
       "    }\n",
       "\n",
       "    .dataframe thead th {\n",
       "        text-align: right;\n",
       "    }\n",
       "</style>\n",
       "<table border=\"1\" class=\"dataframe\">\n",
       "  <thead>\n",
       "    <tr style=\"text-align: right;\">\n",
       "      <th></th>\n",
       "      <th>name</th>\n",
       "      <th>combined</th>\n",
       "      <th>clean_combined</th>\n",
       "      <th>vectors</th>\n",
       "      <th>km_labels</th>\n",
       "      <th>db_labels</th>\n",
       "      <th>sentiment</th>\n",
       "    </tr>\n",
       "  </thead>\n",
       "  <tbody>\n",
       "    <tr>\n",
       "      <th>0</th>\n",
       "      <td>Les Misérables</td>\n",
       "      <td>Act I In 1815 France, prisoners work at hard l...</td>\n",
       "      <td>France prisoner work hard labour work song yea...</td>\n",
       "      <td>[-2.55308696e-03  1.25066981e-01 -3.78664001e-...</td>\n",
       "      <td>1</td>\n",
       "      <td>0</td>\n",
       "      <td>0.031586</td>\n",
       "    </tr>\n",
       "    <tr>\n",
       "      <th>1</th>\n",
       "      <td>The Phantom of the Opera</td>\n",
       "      <td>Prologue In 1911 Paris, the Paris Opéra hosts ...</td>\n",
       "      <td>prologue Paris Paris Opera host auction old th...</td>\n",
       "      <td>[ 4.53058779e-02  4.77313697e-02 -2.63329875e-...</td>\n",
       "      <td>3</td>\n",
       "      <td>0</td>\n",
       "      <td>0.001796</td>\n",
       "    </tr>\n",
       "    <tr>\n",
       "      <th>2</th>\n",
       "      <td>Hamilton</td>\n",
       "      <td>The musical details Hamilton's life in two act...</td>\n",
       "      <td>musical detail Hamilton life act historical ch...</td>\n",
       "      <td>[-6.79643005e-02  1.21977791e-01  1.33586982e-...</td>\n",
       "      <td>2</td>\n",
       "      <td>0</td>\n",
       "      <td>0.105111</td>\n",
       "    </tr>\n",
       "    <tr>\n",
       "      <th>3</th>\n",
       "      <td>West Side Story</td>\n",
       "      <td>Act 1 Two rival teenage gangs, the Jets (White...</td>\n",
       "      <td>rival teenage gang jet White Americans Sharks ...</td>\n",
       "      <td>[-3.16287242e-02  6.83641210e-02 -4.60400395e-...</td>\n",
       "      <td>6</td>\n",
       "      <td>0</td>\n",
       "      <td>0.107123</td>\n",
       "    </tr>\n",
       "    <tr>\n",
       "      <th>4</th>\n",
       "      <td>Wicked</td>\n",
       "      <td>Act I In the Land of Oz, the Ozians are rejoic...</td>\n",
       "      <td>Land Oz Ozians rejoice demise Elphaba Wicked W...</td>\n",
       "      <td>[ 1.18018501e-02  5.79135790e-02 -1.84583035e-...</td>\n",
       "      <td>3</td>\n",
       "      <td>0</td>\n",
       "      <td>0.151201</td>\n",
       "    </tr>\n",
       "  </tbody>\n",
       "</table>\n",
       "</div>"
      ],
      "text/plain": [
       "                       name  \\\n",
       "0            Les Misérables   \n",
       "1  The Phantom of the Opera   \n",
       "2                  Hamilton   \n",
       "3           West Side Story   \n",
       "4                    Wicked   \n",
       "\n",
       "                                            combined  \\\n",
       "0  Act I In 1815 France, prisoners work at hard l...   \n",
       "1  Prologue In 1911 Paris, the Paris Opéra hosts ...   \n",
       "2  The musical details Hamilton's life in two act...   \n",
       "3  Act 1 Two rival teenage gangs, the Jets (White...   \n",
       "4  Act I In the Land of Oz, the Ozians are rejoic...   \n",
       "\n",
       "                                      clean_combined  \\\n",
       "0  France prisoner work hard labour work song yea...   \n",
       "1  prologue Paris Paris Opera host auction old th...   \n",
       "2  musical detail Hamilton life act historical ch...   \n",
       "3  rival teenage gang jet White Americans Sharks ...   \n",
       "4  Land Oz Ozians rejoice demise Elphaba Wicked W...   \n",
       "\n",
       "                                             vectors  km_labels  db_labels  \\\n",
       "0  [-2.55308696e-03  1.25066981e-01 -3.78664001e-...          1          0   \n",
       "1  [ 4.53058779e-02  4.77313697e-02 -2.63329875e-...          3          0   \n",
       "2  [-6.79643005e-02  1.21977791e-01  1.33586982e-...          2          0   \n",
       "3  [-3.16287242e-02  6.83641210e-02 -4.60400395e-...          6          0   \n",
       "4  [ 1.18018501e-02  5.79135790e-02 -1.84583035e-...          3          0   \n",
       "\n",
       "   sentiment  \n",
       "0   0.031586  \n",
       "1   0.001796  \n",
       "2   0.105111  \n",
       "3   0.107123  \n",
       "4   0.151201  "
      ]
     },
     "execution_count": 3,
     "metadata": {},
     "output_type": "execute_result"
    }
   ],
   "source": [
    "df.head()"
   ]
  },
  {
   "cell_type": "markdown",
   "metadata": {},
   "source": [
    "# Process Data"
   ]
  },
  {
   "cell_type": "code",
   "execution_count": 4,
   "metadata": {},
   "outputs": [],
   "source": [
    "nlp = en_core_web_lg.load()"
   ]
  },
  {
   "cell_type": "code",
   "execution_count": 5,
   "metadata": {},
   "outputs": [],
   "source": [
    "df['docs'] = [nlp(summ) for summ in df['clean_combined']]"
   ]
  },
  {
   "cell_type": "markdown",
   "metadata": {},
   "source": [
    "# Export Data"
   ]
  },
  {
   "cell_type": "code",
   "execution_count": 6,
   "metadata": {},
   "outputs": [],
   "source": [
    "df[['name', 'docs', 'sentiment']].to_csv('./data/musical_for_app.csv', index=False)"
   ]
  },
  {
   "cell_type": "markdown",
   "metadata": {},
   "source": [
    "# Build Recommender"
   ]
  },
  {
   "cell_type": "code",
   "execution_count": 7,
   "metadata": {},
   "outputs": [],
   "source": [
    "# Define a function to take in user input and output a spaCy doc\n",
    "def convert_to_doc(user_input):\n",
    "    doc = nlp(user_input)\n",
    "    return doc"
   ]
  },
  {
   "cell_type": "code",
   "execution_count": 8,
   "metadata": {},
   "outputs": [],
   "source": [
    "# Define a function to take in user input and output its TextBlob sentiment\n",
    "def get_sentiment(user_input):\n",
    "    return TextBlob(user_input).sentiment.polarity"
   ]
  },
  {
   "cell_type": "code",
   "execution_count": 9,
   "metadata": {},
   "outputs": [],
   "source": [
    "# Define a function to find each musical summary's sentiment and respective cosine similarity with the user input\n",
    "def similarity_and_sentiments(user_input, df=df, summ_col='docs', sentiment_col='sentiment', name_col='name'):\n",
    "    \n",
    "    # Convert user input to a spaCy doc\n",
    "    user_input_doc = convert_to_doc(user_input)\n",
    "    \n",
    "    # Calculate similarity with each musical and create dicitonary of similarities and sentiments\n",
    "    similarity_dict = {}\n",
    "    for i, summ in enumerate(df[summ_col]):\n",
    "        sim = user_input_doc.similarity(summ)\n",
    "        similarity_dict[sim] = [df[sentiment_col][i], df[name_col][i]]\n",
    "    \n",
    "    return similarity_dict"
   ]
  },
  {
   "cell_type": "code",
   "execution_count": 10,
   "metadata": {},
   "outputs": [],
   "source": [
    "# Define a function to sort the list musical similarities and pull out top ten\n",
    "def top_ten(similarity_dict):\n",
    "    \n",
    "    # Sort the musicals by similarity\n",
    "    in_order = sorted(similarity_dict.items())\n",
    "    \n",
    "    # Consider only top 10 most similar musicals before including sentiment\n",
    "    num_to_consider = 10\n",
    "    \n",
    "    # Pull out top 10 most similar musicals\n",
    "    sentiment_list = []\n",
    "    for i in range(num_to_consider):\n",
    "        sentiment_list.append(in_order[-num_to_consider:][i][1])\n",
    "    \n",
    "    return sentiment_list"
   ]
  },
  {
   "cell_type": "code",
   "execution_count": 11,
   "metadata": {},
   "outputs": [],
   "source": [
    "# Define a function to \n",
    "def get_recommendations(sentiment_list, user_input):\n",
    "    \n",
    "    # Calculate sentiment of user input\n",
    "    user_sentiment = get_sentiment(user_input)\n",
    "    \n",
    "    # Pull out top 3 musicals with closest sentiment rating in either direction\n",
    "    sentiment_differences = []\n",
    "    for sentiment, musical in sentiment_list:\n",
    "        diff = np.abs(user_sentiment - sentiment)\n",
    "        sentiment_differences.append([diff, musical])\n",
    "    \n",
    "    # Extract musical names, in order\n",
    "    top_three = sorted(sentiment_differences[:3])\n",
    "    final_recommendations = []\n",
    "    for sentiment, musical in top_three:\n",
    "        final_recommendations.append(musical)\n",
    "        \n",
    "    return final_recommendations"
   ]
  },
  {
   "cell_type": "code",
   "execution_count": 12,
   "metadata": {},
   "outputs": [],
   "source": [
    "# Define a function to take in user input and output 3 musical recommendations\n",
    "def recommend(user_input):\n",
    "    similarity_dict = similarity_and_sentiments(user_input)\n",
    "    sentiment_list = top_ten(similarity_dict)\n",
    "    final_recommendations = get_recommendations(sentiment_list, user_input)\n",
    "    return final_recommendations"
   ]
  },
  {
   "cell_type": "markdown",
   "metadata": {},
   "source": [
    "# Evaluate Recommender"
   ]
  },
  {
   "cell_type": "markdown",
   "metadata": {},
   "source": [
    "#### Example 1"
   ]
  },
  {
   "cell_type": "code",
   "execution_count": 13,
   "metadata": {},
   "outputs": [],
   "source": [
    "# Example prompt\n",
    "prompt = \"\"\"I feel kind of like trash. Today's been bad and my expectations haven't been met in a variety of ways. \n",
    "            I feel angered and honestly somewhat disrespected, and mostly in the mood to just relax and vent my\n",
    "            emotions.\"\"\""
   ]
  },
  {
   "cell_type": "code",
   "execution_count": 14,
   "metadata": {
    "scrolled": false
   },
   "outputs": [
    {
     "data": {
      "text/plain": [
       "[\"The Band's Visit\", 'American Idiot', 'Rock of Ages']"
      ]
     },
     "execution_count": 14,
     "metadata": {},
     "output_type": "execute_result"
    }
   ],
   "source": [
    "# Get recommendations\n",
    "recs_1 = recommend(prompt)\n",
    "recs_1"
   ]
  },
  {
   "cell_type": "code",
   "execution_count": 15,
   "metadata": {
    "scrolled": true
   },
   "outputs": [
    {
     "data": {
      "text/html": [
       "<div>\n",
       "<style scoped>\n",
       "    .dataframe tbody tr th:only-of-type {\n",
       "        vertical-align: middle;\n",
       "    }\n",
       "\n",
       "    .dataframe tbody tr th {\n",
       "        vertical-align: top;\n",
       "    }\n",
       "\n",
       "    .dataframe thead th {\n",
       "        text-align: right;\n",
       "    }\n",
       "</style>\n",
       "<table border=\"1\" class=\"dataframe\">\n",
       "  <thead>\n",
       "    <tr style=\"text-align: right;\">\n",
       "      <th></th>\n",
       "      <th>name</th>\n",
       "      <th>km_labels</th>\n",
       "      <th>db_labels</th>\n",
       "    </tr>\n",
       "  </thead>\n",
       "  <tbody>\n",
       "    <tr>\n",
       "      <th>101</th>\n",
       "      <td>American Idiot</td>\n",
       "      <td>4</td>\n",
       "      <td>0</td>\n",
       "    </tr>\n",
       "    <tr>\n",
       "      <th>135</th>\n",
       "      <td>Rock of Ages</td>\n",
       "      <td>5</td>\n",
       "      <td>0</td>\n",
       "    </tr>\n",
       "    <tr>\n",
       "      <th>139</th>\n",
       "      <td>The Band's Visit</td>\n",
       "      <td>5</td>\n",
       "      <td>0</td>\n",
       "    </tr>\n",
       "  </tbody>\n",
       "</table>\n",
       "</div>"
      ],
      "text/plain": [
       "                 name  km_labels  db_labels\n",
       "101    American Idiot          4          0\n",
       "135      Rock of Ages          5          0\n",
       "139  The Band's Visit          5          0"
      ]
     },
     "execution_count": 15,
     "metadata": {},
     "output_type": "execute_result"
    }
   ],
   "source": [
    "# Look at recommended musicals' clusters\n",
    "df.loc[df['name'].isin(recs_1), ['name', 'km_labels', 'db_labels']]"
   ]
  },
  {
   "cell_type": "markdown",
   "metadata": {},
   "source": [
    "#### Example 2"
   ]
  },
  {
   "cell_type": "code",
   "execution_count": 16,
   "metadata": {},
   "outputs": [],
   "source": [
    "# Example prompt\n",
    "prompt2 = '''I am feeling anxious but also excited. There is a lot of uncertainty in the world right now, \n",
    "with the coronavirus and the Trump presidency/election news. It's hard to feel settled. But we're\n",
    "also doing fun and great things that are wonderful-- watching Kelly discover new skills and plan the next \n",
    "steps in her life, changing (drastically) the look of the home we've lived in for 17 years and planning \n",
    "exciting trips.\n",
    "'''"
   ]
  },
  {
   "cell_type": "code",
   "execution_count": 17,
   "metadata": {
    "scrolled": true
   },
   "outputs": [
    {
     "data": {
      "text/plain": [
       "['Chitty Chitty Bang Bang', 'Come from Away', 'Urinetown']"
      ]
     },
     "execution_count": 17,
     "metadata": {},
     "output_type": "execute_result"
    }
   ],
   "source": [
    "# Get recommendations\n",
    "recs_2 = recommend(prompt2)\n",
    "recs_2"
   ]
  },
  {
   "cell_type": "code",
   "execution_count": 18,
   "metadata": {
    "scrolled": true
   },
   "outputs": [
    {
     "data": {
      "text/html": [
       "<div>\n",
       "<style scoped>\n",
       "    .dataframe tbody tr th:only-of-type {\n",
       "        vertical-align: middle;\n",
       "    }\n",
       "\n",
       "    .dataframe tbody tr th {\n",
       "        vertical-align: top;\n",
       "    }\n",
       "\n",
       "    .dataframe thead th {\n",
       "        text-align: right;\n",
       "    }\n",
       "</style>\n",
       "<table border=\"1\" class=\"dataframe\">\n",
       "  <thead>\n",
       "    <tr style=\"text-align: right;\">\n",
       "      <th></th>\n",
       "      <th>name</th>\n",
       "      <th>km_labels</th>\n",
       "      <th>db_labels</th>\n",
       "    </tr>\n",
       "  </thead>\n",
       "  <tbody>\n",
       "    <tr>\n",
       "      <th>76</th>\n",
       "      <td>Come from Away</td>\n",
       "      <td>5</td>\n",
       "      <td>0</td>\n",
       "    </tr>\n",
       "    <tr>\n",
       "      <th>85</th>\n",
       "      <td>Urinetown</td>\n",
       "      <td>5</td>\n",
       "      <td>0</td>\n",
       "    </tr>\n",
       "    <tr>\n",
       "      <th>94</th>\n",
       "      <td>Chitty Chitty Bang Bang</td>\n",
       "      <td>5</td>\n",
       "      <td>0</td>\n",
       "    </tr>\n",
       "  </tbody>\n",
       "</table>\n",
       "</div>"
      ],
      "text/plain": [
       "                       name  km_labels  db_labels\n",
       "76           Come from Away          5          0\n",
       "85                Urinetown          5          0\n",
       "94  Chitty Chitty Bang Bang          5          0"
      ]
     },
     "execution_count": 18,
     "metadata": {},
     "output_type": "execute_result"
    }
   ],
   "source": [
    "# Look at recommended musicals' clusters\n",
    "df.loc[df['name'].isin(recs_2), ['name', 'km_labels', 'db_labels']]"
   ]
  },
  {
   "cell_type": "markdown",
   "metadata": {},
   "source": [
    "#### Example 3"
   ]
  },
  {
   "cell_type": "code",
   "execution_count": 19,
   "metadata": {},
   "outputs": [],
   "source": [
    "# Example prompt\n",
    "prompt3 = \"\"\"I have no confidence in technology. I want to quit my job because of politics. \n",
    "My family thinks I am lazy at computers. I am tired of being disappointed in the country. I have no idea\n",
    "what I will do in retirement. I am uncertain of the future and it makes me anxious.\n",
    "\"\"\""
   ]
  },
  {
   "cell_type": "code",
   "execution_count": 20,
   "metadata": {},
   "outputs": [
    {
     "data": {
      "text/plain": [
       "['Urinetown', 'Next to Normal', 'The 25th Annual Putnam County Spelling Bee']"
      ]
     },
     "execution_count": 20,
     "metadata": {},
     "output_type": "execute_result"
    }
   ],
   "source": [
    "# Get recommendations\n",
    "recs_3 = recommend(prompt3)\n",
    "recs_3"
   ]
  },
  {
   "cell_type": "code",
   "execution_count": 21,
   "metadata": {
    "scrolled": true
   },
   "outputs": [
    {
     "data": {
      "text/html": [
       "<div>\n",
       "<style scoped>\n",
       "    .dataframe tbody tr th:only-of-type {\n",
       "        vertical-align: middle;\n",
       "    }\n",
       "\n",
       "    .dataframe tbody tr th {\n",
       "        vertical-align: top;\n",
       "    }\n",
       "\n",
       "    .dataframe thead th {\n",
       "        text-align: right;\n",
       "    }\n",
       "</style>\n",
       "<table border=\"1\" class=\"dataframe\">\n",
       "  <thead>\n",
       "    <tr style=\"text-align: right;\">\n",
       "      <th></th>\n",
       "      <th>name</th>\n",
       "      <th>km_labels</th>\n",
       "      <th>db_labels</th>\n",
       "    </tr>\n",
       "  </thead>\n",
       "  <tbody>\n",
       "    <tr>\n",
       "      <th>42</th>\n",
       "      <td>Next to Normal</td>\n",
       "      <td>4</td>\n",
       "      <td>0</td>\n",
       "    </tr>\n",
       "    <tr>\n",
       "      <th>85</th>\n",
       "      <td>Urinetown</td>\n",
       "      <td>5</td>\n",
       "      <td>0</td>\n",
       "    </tr>\n",
       "    <tr>\n",
       "      <th>95</th>\n",
       "      <td>The 25th Annual Putnam County Spelling Bee</td>\n",
       "      <td>5</td>\n",
       "      <td>0</td>\n",
       "    </tr>\n",
       "  </tbody>\n",
       "</table>\n",
       "</div>"
      ],
      "text/plain": [
       "                                          name  km_labels  db_labels\n",
       "42                              Next to Normal          4          0\n",
       "85                                   Urinetown          5          0\n",
       "95  The 25th Annual Putnam County Spelling Bee          5          0"
      ]
     },
     "execution_count": 21,
     "metadata": {},
     "output_type": "execute_result"
    }
   ],
   "source": [
    "# Look at recommended musicals' clusters\n",
    "df.loc[df['name'].isin(recs_3), ['name', 'km_labels', 'db_labels']]"
   ]
  },
  {
   "cell_type": "markdown",
   "metadata": {},
   "source": [
    "As hoped, of the top three recommendations, at least 2 come from the same cluster from our earlier clustering models, which only clustered based on cosine similarity, without including any sentiment analysis. From my knowledge as a musical fan, these recommendations are extremely fitting, in terms of mood and topic."
   ]
  },
  {
   "cell_type": "markdown",
   "metadata": {},
   "source": [
    "#### Example 4"
   ]
  },
  {
   "cell_type": "code",
   "execution_count": 22,
   "metadata": {},
   "outputs": [],
   "source": [
    "# Example prompt\n",
    "prompt4 = \"\"\"I'm doing pretty good- I just switched teams at work, from pricing to dispatch. \n",
    "I'll get to learn a lot of new things on the new team, like Go and various related concurrency programming, \n",
    "but I'll definitely miss my old team. I'm also really excited- my girlfriend is moving to SF next week!\n",
    "\n",
    "In a big sense, the most important thing going on right now is coronavirus. \n",
    "Coronavirus is a virus that originated in Wuhan, but has since become a global pandemic! \n",
    "The root cause, you ask? Those weirdos are eating some wack meats! I'll stick to tofu, thank you very much.\n",
    "\"\"\""
   ]
  },
  {
   "cell_type": "code",
   "execution_count": 23,
   "metadata": {},
   "outputs": [
    {
     "data": {
      "text/plain": [
       "['Once', 'Chitty Chitty Bang Bang', 'Urinetown']"
      ]
     },
     "execution_count": 23,
     "metadata": {},
     "output_type": "execute_result"
    }
   ],
   "source": [
    "# Get recommendations\n",
    "recs_4 = recommend(prompt4)\n",
    "recs_4"
   ]
  },
  {
   "cell_type": "code",
   "execution_count": 24,
   "metadata": {},
   "outputs": [
    {
     "data": {
      "text/html": [
       "<div>\n",
       "<style scoped>\n",
       "    .dataframe tbody tr th:only-of-type {\n",
       "        vertical-align: middle;\n",
       "    }\n",
       "\n",
       "    .dataframe tbody tr th {\n",
       "        vertical-align: top;\n",
       "    }\n",
       "\n",
       "    .dataframe thead th {\n",
       "        text-align: right;\n",
       "    }\n",
       "</style>\n",
       "<table border=\"1\" class=\"dataframe\">\n",
       "  <thead>\n",
       "    <tr style=\"text-align: right;\">\n",
       "      <th></th>\n",
       "      <th>name</th>\n",
       "      <th>km_labels</th>\n",
       "      <th>db_labels</th>\n",
       "    </tr>\n",
       "  </thead>\n",
       "  <tbody>\n",
       "    <tr>\n",
       "      <th>85</th>\n",
       "      <td>Urinetown</td>\n",
       "      <td>5</td>\n",
       "      <td>0</td>\n",
       "    </tr>\n",
       "    <tr>\n",
       "      <th>94</th>\n",
       "      <td>Chitty Chitty Bang Bang</td>\n",
       "      <td>5</td>\n",
       "      <td>0</td>\n",
       "    </tr>\n",
       "    <tr>\n",
       "      <th>106</th>\n",
       "      <td>Once</td>\n",
       "      <td>8</td>\n",
       "      <td>0</td>\n",
       "    </tr>\n",
       "  </tbody>\n",
       "</table>\n",
       "</div>"
      ],
      "text/plain": [
       "                        name  km_labels  db_labels\n",
       "85                 Urinetown          5          0\n",
       "94   Chitty Chitty Bang Bang          5          0\n",
       "106                     Once          8          0"
      ]
     },
     "execution_count": 24,
     "metadata": {},
     "output_type": "execute_result"
    }
   ],
   "source": [
    "# Look at recommended musicals' clusters\n",
    "df.loc[df['name'].isin(recs_4), ['name', 'km_labels', 'db_labels']]"
   ]
  },
  {
   "cell_type": "markdown",
   "metadata": {},
   "source": [
    "#### Example 5"
   ]
  },
  {
   "cell_type": "code",
   "execution_count": 25,
   "metadata": {},
   "outputs": [],
   "source": [
    "# Example prompt\n",
    "prompt5 = \"\"\"I’m doing overall well! Feeling happy with where my life is currently at, \n",
    "although feel impending stress about deciding what my next step will be. I’m satisfied with my work, \n",
    "health, and personal projects as well. As to what’s going on, I’m nearing the end of my service in \n",
    "peace corps and currently have family visiting me.\"\"\""
   ]
  },
  {
   "cell_type": "code",
   "execution_count": 26,
   "metadata": {},
   "outputs": [
    {
     "data": {
      "text/plain": [
       "['Do Re Mi', 'Catch Me If You Can', 'The Full Monty']"
      ]
     },
     "execution_count": 26,
     "metadata": {},
     "output_type": "execute_result"
    }
   ],
   "source": [
    "# Get recommendations\n",
    "recs_5 = recommend(prompt5)\n",
    "recs_5"
   ]
  },
  {
   "cell_type": "code",
   "execution_count": 27,
   "metadata": {},
   "outputs": [
    {
     "data": {
      "text/html": [
       "<div>\n",
       "<style scoped>\n",
       "    .dataframe tbody tr th:only-of-type {\n",
       "        vertical-align: middle;\n",
       "    }\n",
       "\n",
       "    .dataframe tbody tr th {\n",
       "        vertical-align: top;\n",
       "    }\n",
       "\n",
       "    .dataframe thead th {\n",
       "        text-align: right;\n",
       "    }\n",
       "</style>\n",
       "<table border=\"1\" class=\"dataframe\">\n",
       "  <thead>\n",
       "    <tr style=\"text-align: right;\">\n",
       "      <th></th>\n",
       "      <th>name</th>\n",
       "      <th>km_labels</th>\n",
       "      <th>db_labels</th>\n",
       "    </tr>\n",
       "  </thead>\n",
       "  <tbody>\n",
       "    <tr>\n",
       "      <th>115</th>\n",
       "      <td>Catch Me If You Can</td>\n",
       "      <td>4</td>\n",
       "      <td>0</td>\n",
       "    </tr>\n",
       "    <tr>\n",
       "      <th>130</th>\n",
       "      <td>The Full Monty</td>\n",
       "      <td>5</td>\n",
       "      <td>0</td>\n",
       "    </tr>\n",
       "    <tr>\n",
       "      <th>188</th>\n",
       "      <td>Do Re Mi</td>\n",
       "      <td>5</td>\n",
       "      <td>0</td>\n",
       "    </tr>\n",
       "  </tbody>\n",
       "</table>\n",
       "</div>"
      ],
      "text/plain": [
       "                    name  km_labels  db_labels\n",
       "115  Catch Me If You Can          4          0\n",
       "130       The Full Monty          5          0\n",
       "188             Do Re Mi          5          0"
      ]
     },
     "execution_count": 27,
     "metadata": {},
     "output_type": "execute_result"
    }
   ],
   "source": [
    "# Look at recommended musicals' clusters\n",
    "df.loc[df['name'].isin(recs_5), ['name', 'km_labels', 'db_labels']]"
   ]
  },
  {
   "cell_type": "code",
   "execution_count": null,
   "metadata": {},
   "outputs": [],
   "source": []
  }
 ],
 "metadata": {
  "kernelspec": {
   "display_name": "Python 3",
   "language": "python",
   "name": "python3"
  },
  "language_info": {
   "codemirror_mode": {
    "name": "ipython",
    "version": 3
   },
   "file_extension": ".py",
   "mimetype": "text/x-python",
   "name": "python",
   "nbconvert_exporter": "python",
   "pygments_lexer": "ipython3",
   "version": "3.7.6"
  }
 },
 "nbformat": 4,
 "nbformat_minor": 4
}
